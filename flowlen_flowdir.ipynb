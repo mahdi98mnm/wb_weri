{
  "cells": [
    {
      "cell_type": "code",
      "execution_count": null,
      "metadata": {
        "colab": {
          "base_uri": "https://localhost:8080/"
        },
        "id": "jlUMuMVv_ulF",
        "outputId": "76409514-8d8b-4cc1-f50b-0443d40d0ec3"
      },
      "outputs": [],
      "source": [
        "import os, sys\n",
        "from google.colab import drive\n",
        "drive.mount('/content/drive')"
      ]
    },
    {
      "cell_type": "code",
      "execution_count": null,
      "metadata": {
        "id": "pqt3sKVOAsqm"
      },
      "outputs": [],
      "source": [
        "# from osgeo import gdal\n",
        "import xarray as xr\n",
        "import numpy as np\n",
        "import rasterio\n",
        "import rioxarray\n",
        "import pandas as pd\n",
        "import pickle"
      ]
    },
    {
      "cell_type": "markdown",
      "metadata": {},
      "source": [
        "## slope factor"
      ]
    },
    {
      "cell_type": "code",
      "execution_count": null,
      "metadata": {
        "colab": {
          "base_uri": "https://localhost:8080/",
          "height": 291
        },
        "id": "9gP-j2sVK49f",
        "outputId": "e8de5dad-a698-4f18-c5d0-f26aa71cd434"
      },
      "outputs": [],
      "source": [
        "# da = rioxarray.open_rasterio(\"/content/drive/MyDrive/rsa3.tif\", masked=True)\n",
        "slope_classidied = rioxarray.open_rasterio(\"/mnt/e/Term2/payan_name/Proposal/extentions/RSA/Reclass_Slop31.tif\", masked=True)\n",
        "# Assuming you have a DataArray named\n",
        "slope_classidied.name = 'rsa'\n",
        "\n",
        "# Convert DataArray to Dataset\n",
        "slope_factor = slope_classidied.to_dataset()\n",
        "slope_factor\n"
      ]
    },
    {
      "cell_type": "code",
      "execution_count": null,
      "metadata": {},
      "outputs": [],
      "source": [
        "slope_factor.rsa.data = np.where(slope_factor.rsa.data == 1, 0, slope_factor.rsa.data)\n",
        "slope_factor.rsa.data = np.where(slope_factor.rsa.data == 2, 0.2, slope_factor.rsa.data)\n",
        "slope_factor.rsa.data = np.where(slope_factor.rsa.data == 3, 0.4, slope_factor.rsa.data)\n",
        "slope_factor.rsa.data = np.where(slope_factor.rsa.data == 4, 0.6, slope_factor.rsa.data)\n",
        "slope_factor.rsa.data = np.where(slope_factor.rsa.data == 5, 0.8, slope_factor.rsa.data)\n",
        "slope_factor.rsa.data = np.where(slope_factor.rsa.data == 6, 1, slope_factor.rsa.data)\n"
      ]
    },
    {
      "cell_type": "code",
      "execution_count": null,
      "metadata": {
        "colab": {
          "base_uri": "https://localhost:8080/",
          "height": 455
        },
        "id": "6CUB-D-iMMKX",
        "outputId": "0a0cfcca-95e8-4e1f-bd9d-7164fee754d5"
      },
      "outputs": [],
      "source": [
        "# df = slope_factor.rsa.to_dataframe()"
      ]
    },
    {
      "cell_type": "code",
      "execution_count": null,
      "metadata": {
        "id": "7_29crM_Ea_9"
      },
      "outputs": [],
      "source": [
        "# maped_dict = {\n",
        "#     1 : 0,\n",
        "#     2 : 0.2,\n",
        "#     3 : 0.4,\n",
        "#     4 : 0.6,\n",
        "#     5 : 0.8,\n",
        "#     6 : 1\n",
        "# }\n",
        "\n",
        "\n",
        "# slope_factor['coefficient'] = slope_factor['rsa'].map(maped_dict)\n",
        "\n"
      ]
    },
    {
      "cell_type": "code",
      "execution_count": null,
      "metadata": {
        "colab": {
          "base_uri": "https://localhost:8080/",
          "height": 312
        },
        "id": "-uDVaSkXQSep",
        "outputId": "51d1072e-8657-4c37-c7b3-026cde9ebb3e"
      },
      "outputs": [],
      "source": [
        "# rsa_name_da = df.to_xarray()\n",
        "# rsa_name_da"
      ]
    },
    {
      "cell_type": "markdown",
      "metadata": {
        "id": "19QB41ZVWsY_"
      },
      "source": [
        "# read flow length"
      ]
    },
    {
      "cell_type": "code",
      "execution_count": null,
      "metadata": {
        "colab": {
          "base_uri": "https://localhost:8080/",
          "height": 291
        },
        "id": "n9qk6t9mWvo8",
        "outputId": "fb634c4e-b506-4a84-caac-73b05d152720"
      },
      "outputs": [],
      "source": [
        "flowlen = rioxarray.open_rasterio(\"/mnt/e/Term2/payan_name/Proposal/extentions/RSA/flowlen.tif\", masked=True)\n",
        "# flowlen = rioxarray.open_rasterio(\"/content/drive/MyDrive/flowlen.tif\", masked=True)\n",
        "\n",
        "# Assuming you have a DataArray named\n",
        "flowlen.name = 'length'\n",
        "\n",
        "# Convert DataArray to Dataset\n",
        "fl = flowlen.to_dataset()\n",
        "fl\n",
        "\n",
        "\n"
      ]
    },
    {
      "cell_type": "code",
      "execution_count": null,
      "metadata": {
        "id": "UNOdH12TYW13"
      },
      "outputs": [],
      "source": [
        "hight = np.nanmax(fl['length'].values)\n",
        "low = np.nanmin(fl['length'].values)\n"
      ]
    },
    {
      "cell_type": "code",
      "execution_count": null,
      "metadata": {
        "colab": {
          "base_uri": "https://localhost:8080/",
          "height": 455
        },
        "id": "rvfmO0iCeBp0",
        "outputId": "2ca8f2e8-b454-4762-b81a-9562a4716426"
      },
      "outputs": [],
      "source": [
        "# df_flowlen = fl.to_dataframe()\n",
        "# df_flowlen"
      ]
    },
    {
      "cell_type": "code",
      "execution_count": null,
      "metadata": {
        "colab": {
          "base_uri": "https://localhost:8080/",
          "height": 455
        },
        "id": "g_RNsn7ceQcs",
        "outputId": "ae989f87-06c6-4a3f-f5e5-39577f5183ac"
      },
      "outputs": [],
      "source": [
        "fl.factor.data = np.vectorize(lambda m, l, h: (m - l) / (h - l))(\n",
        "    m = fl.length,\n",
        "    l = low,\n",
        "    h = hight\n",
        ")\n",
        "\n",
        "\n",
        "\n",
        "\n",
        "# df_flowlen[\"factor\"] = 1 - ((df_flowlen['length'] - low) / (hight - low))\n",
        "# df_flowlen"
      ]
    },
    {
      "cell_type": "code",
      "execution_count": null,
      "metadata": {
        "colab": {
          "base_uri": "https://localhost:8080/",
          "height": 312
        },
        "id": "YBvJVWVxe0PK",
        "outputId": "97294bfd-0c80-4084-ea8a-f9b9edbcce5f"
      },
      "outputs": [],
      "source": [
        "flowlen_name_da = df_flowlen.to_xarray()\n",
        "flowlen_name_da"
      ]
    },
    {
      "cell_type": "code",
      "execution_count": null,
      "metadata": {
        "colab": {
          "base_uri": "https://localhost:8080/",
          "height": 219
        },
        "id": "ulyKBON8grLo",
        "outputId": "abfe4201-9d36-40e4-86b8-987a50a6ebab"
      },
      "outputs": [],
      "source": [
        "rsa_name_da[\"coefficient\"][0][3000][3000]"
      ]
    },
    {
      "cell_type": "code",
      "execution_count": null,
      "metadata": {
        "colab": {
          "base_uri": "https://localhost:8080/",
          "height": 219
        },
        "id": "jTSLL3yogxSE",
        "outputId": "c9956cfc-fb66-4f5a-a01a-9b940e545a16"
      },
      "outputs": [],
      "source": [
        "flowlen_name_da[\"factor\"][0][3000][3000]"
      ]
    },
    {
      "cell_type": "code",
      "execution_count": null,
      "metadata": {
        "colab": {
          "base_uri": "https://localhost:8080/",
          "height": 320
        },
        "id": "QRkDaIOhfBzc",
        "outputId": "1bd0740f-fae4-4452-8851-5ebd4e633584"
      },
      "outputs": [],
      "source": [
        "a = rsa_name_da[\"coefficient\"] + flowlen_name_da[\"factor\"]\n",
        "a_min = np.nanmin(a.values)\n",
        "a_max = np.nanmax(a.values)\n",
        "\n",
        "b = (a - a_min) / (a_max - a_min)\n",
        "\n",
        "b"
      ]
    },
    {
      "cell_type": "code",
      "execution_count": null,
      "metadata": {
        "colab": {
          "base_uri": "https://localhost:8080/",
          "height": 490
        },
        "id": "Uw9kca-mlScs",
        "outputId": "aa1cddec-9818-498c-d73f-b9ba0e37f46f"
      },
      "outputs": [],
      "source": [
        "# Assuming you have a DataArray named\n",
        "b.name = 'rsa_final'\n",
        "\n",
        "# Convert DataArray to Dataset\n",
        "b_dataset = b.to_dataset()\n",
        "b_dataset.rsa_final.plot()"
      ]
    },
    {
      "cell_type": "code",
      "execution_count": null,
      "metadata": {
        "colab": {
          "base_uri": "https://localhost:8080/",
          "height": 270
        },
        "id": "FLFjOUBvr2LQ",
        "outputId": "25840754-b30d-4396-d3fe-2e828ff35353"
      },
      "outputs": [],
      "source": [
        "b_dataset"
      ]
    },
    {
      "cell_type": "code",
      "execution_count": null,
      "metadata": {
        "colab": {
          "base_uri": "https://localhost:8080/",
          "height": 490
        },
        "id": "4Xdcem2lqd0t",
        "outputId": "159767f5-8b63-483c-b6cb-3853504f6a16"
      },
      "outputs": [],
      "source": [
        "c = rsa_name_da[\"coefficient\"] * flowlen_name_da[\"factor\"]\n",
        "\n",
        "c_min = np.nanmin(c.values)\n",
        "c_max = np.nanmax(c.values)\n",
        "\n",
        "c.name = 'rsa_final_multiplication'\n",
        "\n",
        "c_dataset = c.to_dataset()\n",
        "c_dataset.rsa_final_multiplication.plot()\n"
      ]
    },
    {
      "cell_type": "code",
      "execution_count": null,
      "metadata": {
        "colab": {
          "base_uri": "https://localhost:8080/",
          "height": 490
        },
        "id": "YBGatHkyJMc0",
        "outputId": "af753a75-34d3-4ea0-8938-7eb58f3b9920"
      },
      "outputs": [],
      "source": [
        "d = (rsa_name_da[\"coefficient\"] * flowlen_name_da[\"factor\"])**0.5\n",
        "\n",
        "d_min = np.nanmin(d.values)\n",
        "d_max = np.nanmax(d.values)\n",
        "\n",
        "d.name = 'rsa_final_geometric_mean'\n",
        "\n",
        "d_dataset = d.to_dataset()\n",
        "d_dataset.rsa_final_geometric_mean.plot()"
      ]
    },
    {
      "cell_type": "code",
      "execution_count": null,
      "metadata": {
        "colab": {
          "base_uri": "https://localhost:8080/",
          "height": 490
        },
        "id": "oIiwaQr_M1eO",
        "outputId": "10394cf1-effd-4232-9311-e76427e2d37a"
      },
      "outputs": [],
      "source": [
        "e = (rsa_name_da[\"coefficient\"] + flowlen_name_da[\"factor\"]) / 2\n",
        "\n",
        "e_min = np.nanmin(e.values)\n",
        "e_max = np.nanmax(e.values)\n",
        "\n",
        "e.name = 'rsa_final_arithmetic_mean'\n",
        "\n",
        "e_dataset = e.to_dataset()\n",
        "e_dataset.rsa_final_arithmetic_mean.plot()"
      ]
    }
  ],
  "metadata": {
    "colab": {
      "provenance": []
    },
    "kernelspec": {
      "display_name": "Python 3",
      "name": "python3"
    },
    "language_info": {
      "codemirror_mode": {
        "name": "ipython",
        "version": 3
      },
      "file_extension": ".py",
      "mimetype": "text/x-python",
      "name": "python",
      "nbconvert_exporter": "python",
      "pygments_lexer": "ipython3",
      "version": "3.10.11"
    }
  },
  "nbformat": 4,
  "nbformat_minor": 0
}
