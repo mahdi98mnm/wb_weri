{
  "nbformat": 4,
  "nbformat_minor": 0,
  "metadata": {
    "colab": {
      "private_outputs": true,
      "provenance": []
    },
    "kernelspec": {
      "name": "python3",
      "display_name": "Python 3"
    },
    "language_info": {
      "name": "python"
    }
  },
  "cells": [
    {
      "cell_type": "markdown",
      "source": [
        "# import library"
      ],
      "metadata": {
        "id": "bExaVFAMvdNN"
      }
    },
    {
      "cell_type": "code",
      "execution_count": null,
      "metadata": {
        "id": "OFKUVYLjw8do"
      },
      "outputs": [],
      "source": [
        "import os, sys\n",
        "from google.colab import drive\n",
        "drive.mount('/content/drive')"
      ]
    },
    {
      "cell_type": "code",
      "source": [
        "! pip install wxee rasterio"
      ],
      "metadata": {
        "id": "raVjT3q4MWYV"
      },
      "execution_count": null,
      "outputs": []
    },
    {
      "cell_type": "code",
      "source": [
        "import xarray as xr\n",
        "import ee\n",
        "import itertools\n",
        "import pickle\n",
        "import pandas as pd\n",
        "import wxee\n",
        "import rasterio\n",
        "import numpy as np\n",
        "from datetime import datetime"
      ],
      "metadata": {
        "id": "JF-ylKmvMbHo"
      },
      "execution_count": null,
      "outputs": []
    },
    {
      "cell_type": "markdown",
      "source": [
        "# import constant"
      ],
      "metadata": {
        "id": "v8LLR6pWvgHI"
      }
    },
    {
      "cell_type": "code",
      "source": [
        "LAT_MIN = 25\n",
        "LAT_MAX = 45\n",
        "LON_MIN = -125\n",
        "LON_MAX = -65"
      ],
      "metadata": {
        "id": "CU2PW1iqMfRM"
      },
      "execution_count": null,
      "outputs": []
    },
    {
      "cell_type": "markdown",
      "source": [
        "# import xarray sample"
      ],
      "metadata": {
        "id": "bukkpyr6viqx"
      }
    },
    {
      "cell_type": "code",
      "source": [
        "soil_wc = xr.open_dataset('/content/drive/MyDrive/w/soil_water_content_1979001.nc')\n",
        "soil_wc"
      ],
      "metadata": {
        "id": "BxmUkr1CMhEY"
      },
      "execution_count": null,
      "outputs": []
    },
    {
      "cell_type": "markdown",
      "source": [
        "# GEE"
      ],
      "metadata": {
        "id": "JbpSpnIPvk8U"
      }
    },
    {
      "cell_type": "code",
      "source": [
        "service_account = 'test-175@ee-mohammadnejadmehdi77.iam.gserviceaccount.com'\n",
        "\n",
        "credentials = ee.ServiceAccountCredentials(\n",
        "    email=service_account,\n",
        "    key_file=\"/content/drive/MyDrive/w/private-key.json\"\n",
        ")\n",
        "\n",
        "ee.Initialize(credentials)"
      ],
      "metadata": {
        "id": "baPDH9cBMjck"
      },
      "execution_count": null,
      "outputs": []
    },
    {
      "cell_type": "markdown",
      "source": [
        "# get lithology data as xarray"
      ],
      "metadata": {
        "id": "0agInsB0vnPc"
      }
    },
    {
      "cell_type": "code",
      "source": [
        "shape = ee.Geometry.Rectangle([LON_MAX,LAT_MIN,LON_MIN,LAT_MAX])\n",
        "\n",
        "lithology = ee.Image(\"CSP/ERGo/1_0/US/lithology\")\n",
        "\n",
        "\n",
        "# Crop Mask selection\n",
        "\n",
        "lithology_c = lithology.select('b1').clip(shape)\n",
        "\n",
        "# cultivated = CDL.filterDate('2022-01-01','2022-12-31').select('cultivated').filterBounds(shape)\n",
        "\n",
        "lithology_c = lithology_c.set(\"system:time_start\", ee.Date(\"2022-01-01\"))\n",
        "arr_lithology = lithology_c.wx.to_xarray(scale=10000, crs='EPSG:4326')\n",
        "\n",
        "xds_repr_match_lithology = arr_lithology.rio.reproject_match(soil_wc, resampling = rasterio.enums.Resampling.mode)\n",
        "\n",
        "xds_repr_match_lithology\n"
      ],
      "metadata": {
        "id": "9Uh4zv38MmLD"
      },
      "execution_count": null,
      "outputs": []
    },
    {
      "cell_type": "markdown",
      "source": [
        "# get class lithology file"
      ],
      "metadata": {
        "id": "ZwWFkfqjvuQR"
      }
    },
    {
      "cell_type": "code",
      "source": [
        "df_1 = pd.read_excel(\"/content/drive/MyDrive/w/Lithology_table.xlsx\", sheet_name=\"Sheet1\")\n",
        "df_1"
      ],
      "metadata": {
        "id": "rImeyJSBvw2l"
      },
      "execution_count": null,
      "outputs": []
    },
    {
      "cell_type": "code",
      "source": [
        "column_titles = df_1.columns.tolist()\n",
        "omitted_list = column_titles[1:]\n",
        "column_titles"
      ],
      "metadata": {
        "id": "KzspLOh4v8Rr"
      },
      "execution_count": null,
      "outputs": []
    },
    {
      "cell_type": "markdown",
      "source": [
        "# map dataframe on lithology data"
      ],
      "metadata": {
        "id": "twQC_L-dwAjC"
      }
    },
    {
      "cell_type": "code",
      "source": [
        "column_titles = df_1.columns.tolist()\n",
        "omitted_list = column_titles[1:]\n",
        "\n",
        "df = xds_repr_match_lithology.to_dataframe()\n",
        "\n",
        "for col in omitted_list:\n",
        "\n",
        "    land_use_fao_dict = dict(zip(df_1['Value'], df_1[col]))\n",
        "\n",
        "    df[col] = df['b1'].map(land_use_fao_dict)\n",
        "\n",
        "\n",
        "lithology_name_da = df.to_xarray()\n",
        "lithology_name_da = lithology_name_da.transpose('time', 'y', 'x')\n",
        "lithology_name_da"
      ],
      "metadata": {
        "id": "y3O-IzNfwCsr"
      },
      "execution_count": null,
      "outputs": []
    },
    {
      "cell_type": "code",
      "source": [
        "xds_repr_match_lithology.to_netcdf(\"/content/drive/MyDrive/w/lithology_2022001.nc\")"
      ],
      "metadata": {
        "id": "BSuzeXJwX5sg"
      },
      "execution_count": null,
      "outputs": []
    }
  ]
}