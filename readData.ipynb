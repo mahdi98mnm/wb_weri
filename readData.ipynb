{
 "cells": [
  {
   "cell_type": "code",
   "execution_count": 16,
   "metadata": {},
   "outputs": [],
   "source": [
    "import os\n",
    "import sys\n",
    "from datetime import datetime\n",
    "import pandas as pd\n",
    "import numpy as np\n",
    "import xarray as xr\n",
    "import pickle\n",
    "import netCDF4 as nc\n",
    "\n",
    "sys.path.append('D:\\\\mehdi\\\\WaterBalance_new\\\\')\n",
    "from qdwb.evapotranspiration.et import *\n",
    "from qdwb.evapotranspiration.asset import *\n",
    "from qdwb.evapotranspiration.convert import *\n",
    "from qdwb.primary_surface_flow.primary_surface_flow import *\n",
    "from qdwb.primary_surface_flow.asset import *\n",
    "from qdwb.primary_surface_flow.check import *\n",
    "from qdwb.soil_content.soil_layers import *\n"
   ]
  },
  {
   "cell_type": "code",
   "execution_count": 17,
   "metadata": {},
   "outputs": [],
   "source": [
    "data_path = \"D:\\\\mehdi\\\\DailyData\\\\Data\\\\\"\n",
    "\n",
    "# list of name of files in folder\n",
    "def list_of_files(data_path):    \n",
    "    files = os.listdir(data_path)\n",
    "    return files\n",
    "\n",
    "all_list_files = list_of_files(data_path)"
   ]
  },
  {
   "cell_type": "markdown",
   "metadata": {},
   "source": [
    "# PET"
   ]
  },
  {
   "cell_type": "code",
   "execution_count": 18,
   "metadata": {},
   "outputs": [],
   "source": [
    "para = [\"P\", \"Tmin\", \"Tmax\"]\n",
    "\n",
    "list_files = {}\n",
    "\n",
    "for p in para:\n",
    "    \n",
    "    tmp = pd.DataFrame(\n",
    "        {\n",
    "            \"file\": [x for x in all_list_files if x.startswith(p)],\n",
    "            \"year\": [int(x.split(\"_\")[1][0:4]) for x in all_list_files if x.startswith(p)]\n",
    "        }\n",
    "        \n",
    "    )\n",
    "    \n",
    "    tmp.sort_values(by = \"year\", inplace = True)\n",
    "    \n",
    "    list_files[p] = tmp\n",
    "\n"
   ]
  },
  {
   "cell_type": "code",
   "execution_count": null,
   "metadata": {},
   "outputs": [],
   "source": [
    "# Define the latitude, longitude, and time coordinates\n",
    "# lat = np.linspace(-90, 90, num=180)  # Example: 180 latitude points from -90 to 90\n",
    "# lon = np.linspace(-180, 180, num=360)  # Example: 360 longitude points from -180 to 180\n",
    "# time = pd.date_range(start='2023-01-01', periods=365, freq='D')  # Example: 365 daily time points\n",
    "\n",
    "# Create the constant data array\n",
    "constant_value = 42  # Example constant value\n",
    "data = np.full((len(soil_water_content.time), len(soil_water_content.y), len(soil_water_content.x)), constant_value)\n",
    "\n",
    "# Create the xarray dataset\n",
    "ds = xr.Dataset(\n",
    "    data_vars={\"my_variable\": ((\"time\", \"y\", \"x\"), data)},\n",
    "    coords={\"y\": soil_water_content.y, \"x\": soil_water_content.x, \"time\": soil_water_content.time},\n",
    ")\n",
    "\n"
   ]
  },
  {
   "cell_type": "code",
   "execution_count": null,
   "metadata": {},
   "outputs": [],
   "source": [
    "\n",
    "fc = xr.open_dataset(\"D:\\mehdi\\DailyData\\coefficient_field_capacity_1979001.nc\")\n",
    "# df = fc.to_dataframe()\n",
    "# df.to_csv(\"D:\\mehdi\\sample2.csv\", index=False) "
   ]
  },
  {
   "cell_type": "code",
   "execution_count": null,
   "metadata": {},
   "outputs": [],
   "source": [
    "cn = xr.open_dataset(\"D:\\mehdi\\DailyData\\curve_number_1979001.nc\")\n",
    "soil = xr.open_dataset(\"D:\\mehdi\\DailyData\\soil_water_content_1979001.nc\")\n",
    "dnnn = cn[\"dry\"].sel(time = \"1979-01-01\")\n",
    "# df = dnnn.to_dataframe()\n",
    "# nan_mask = np.isnan(dnnn)\n",
    "# num_nan = nan_mask.sum()\n",
    "# nan_mask = np.isnan(cn)\n",
    "# num_nan = nan_mask.sum()\n",
    "# print(num_nan)\n",
    "num_elements_equal_to_10 = (dnnn == 10).sum()\n",
    "\n",
    "# data_filled = soil.fillna(0)\n",
    "\n",
    "\n",
    "# nan_mask = np.isnan(data_filled[\"dry\"].sel(time = \"1979-01-01\"))\n",
    "# num_nan = nan_mask.sum()\n",
    "\n",
    "print(num_elements_equal_to_10)\n",
    "# data_1 = data_filled.where(data_filled >= 0, 0)\n",
    "\n",
    "\n",
    "# dmmm = data_1[\"volumetric_soil_water_layer_1\"].sel(time = \"1979-01-01\")\n",
    "# dd = dmmm.max()\n",
    "# nan_mask = np.isnan(dmmm)\n",
    "# num_nan = nan_mask.sum()\n",
    "# print(dd,num_nan)\n",
    "\n",
    "\n",
    "\n",
    "\n",
    "\n",
    "\n",
    "# Pre = xr.open_dataset(f\"{data_path}{list_files['P'][list_files['P']['year'] == 2010]['file'].values[0]}\")\n",
    "# pre_day = Pre.to_array()[0, 0, :, :]\n",
    "# dd = pre_day.min()\n",
    "# float_value = dd.item()\n",
    "# float_value\n",
    "\n",
    "\n",
    "\n",
    "\n"
   ]
  },
  {
   "cell_type": "code",
   "execution_count": 21,
   "metadata": {},
   "outputs": [
    {
     "name": "stdout",
     "output_type": "stream",
     "text": [
      "2010 1\n"
     ]
    },
    {
     "name": "stderr",
     "output_type": "stream",
     "text": [
      "c:\\Users\\psh2610\\AppData\\Local\\miniconda3\\lib\\site-packages\\numpy\\lib\\function_base.py:2455: RuntimeWarning: invalid value encountered in func (vectorized)\n",
      "  outputs = ufunc(*inputs)\n"
     ]
    }
   ],
   "source": [
    "selected_years = [2010, 2011]\n",
    "\n",
    "for year in selected_years:\n",
    "    \n",
    "    if year == selected_years[0]:\n",
    "        soil_water_content = xr.open_dataset(\"D:\\mehdi\\DailyData\\soil_water_content_1979001.nc\")\n",
    "        \n",
    "        soil_water_content = soil_water_content.fillna(0)\n",
    "        \n",
    "        soil_water_content = soil_water_content.where(soil_water_content >= 0, 0)\n",
    "        \n",
    "        constant_value_for_AE = 15\n",
    "        AE = xr.Dataset(\n",
    "            data_vars={\"available_evaporable_water\": ((\"time\", \"y\", \"x\"), np.full((len(soil_water_content.time), len(soil_water_content.y), len(soil_water_content.x)), constant_value_for_AE))},\n",
    "            coords={\"y\": soil_water_content.y, \"x\": soil_water_content.x, \"time\": soil_water_content.time},\n",
    "        )\n",
    "    else:\n",
    "        year_tmp = year - 1\n",
    "        pass\n",
    "    \n",
    "    wp = xr.open_dataset(\"D:\\mehdi\\DailyData\\wilting_point_1979001.nc\")\n",
    "    \n",
    "    fc = xr.open_dataset(\"D:\\mehdi\\DailyData\\coefficient_field_capacity_1979001.nc\")\n",
    "    \n",
    "    cn = xr.open_dataset(\"D:\\mehdi\\DailyData\\curve_number_1979001.nc\")\n",
    "    \n",
    "    cn = cn.fillna(0)\n",
    "    \n",
    "    Pre = xr.open_dataset(f\"{data_path}{list_files['P'][list_files['P']['year'] == year]['file'].values[0]}\")\n",
    "    \n",
    "    Tmin = xr.open_dataset(f\"{data_path}{list_files['Tmin'][list_files['Tmin']['year'] == year]['file'].values[0]}\")\n",
    "    \n",
    "    Tmax = xr.open_dataset(f\"{data_path}{list_files['Tmax'][list_files['Tmax']['year'] == year]['file'].values[0]}\")\n",
    "    \n",
    "    lat = np.repeat(Tmin.lat, Tmin.lon.size).values.reshape(Tmin.lat.size, Tmin.lon.size)\n",
    "    \n",
    "    lon = np.repeat(Tmin.lon, Tmin.lat.size).values.reshape(Tmin.lat.size, Tmin.lon.size)\n",
    "    \n",
    "    Ra = Tmin.copy(deep = True)\n",
    "    \n",
    "    Ra = Ra.rename({'air_temperature': 'extraterrestrial_radiation'})\n",
    "    \n",
    "    ET = Tmin.copy(deep = True)\n",
    "    \n",
    "    ET = ET.rename({'air_temperature': 'et_hargreaves_samani'})\n",
    "    \n",
    "    TE = Tmin.copy(deep = True)\n",
    "    \n",
    "    TE = TE.rename({'air_temperature': 'total_evaporable_water'})\n",
    "    \n",
    "    MRF = Tmin.copy(deep = True)\n",
    "    \n",
    "    MRF = MRF.rename({'air_temperature': 'moisture_reduction_function'})\n",
    "    \n",
    "    f_adjusted = Tmin.copy(deep = True)\n",
    "    \n",
    "    f_adjusted = f_adjusted.rename({'air_temperature': 'moisture_reduction_function'})\n",
    "    \n",
    "    ET_actual = Tmin.copy(deep = True)\n",
    "    \n",
    "    ET_actual = ET_actual.rename({'air_temperature': 'actual_evapotranspiration'})\n",
    "    \n",
    "    K_E = Tmin.copy(deep = True)\n",
    "    \n",
    "    K_E = K_E.rename({'air_temperature': 'available_evaporable_water'})\n",
    "    \n",
    "    E_actual = Tmin.copy(deep = True)\n",
    "    \n",
    "    E_actual = E_actual.rename({'air_temperature': 'actual_evaporation'})\n",
    "    \n",
    "    ET_total_actual = Tmin.copy(deep = True)\n",
    "    \n",
    "    ET_total_actual = ET_total_actual.rename({'air_temperature': 'total_actual_evapotranspiration'})\n",
    "    \n",
    "    RUN_OFF = Tmin.copy(deep = True)\n",
    "    \n",
    "    RUN_OFF = RUN_OFF.rename({'air_temperature': 'runoff'})\n",
    "    \n",
    "    INFILTRATION = Tmin.copy(deep = True)\n",
    "    \n",
    "    INFILTRATION = INFILTRATION.rename({'air_temperature': 'infiltration'})\n",
    "    \n",
    "    for j_day in range(1, Tmin.time.size + 1):\n",
    "        \n",
    "        if j_day != 1:\n",
    "            pass\n",
    "        \n",
    "        print(year, j_day)\n",
    "        \n",
    "        pre_day = Pre.to_array()[0, j_day - 1, :, :]\n",
    "        \n",
    "        Tmin_day = Tmin.to_array()[0, j_day - 1, :, :]\n",
    "        \n",
    "        Tmax_day = Tmax.to_array()[0, j_day - 1, :, :]\n",
    "        \n",
    "        Tmean_day = (Tmin_day + Tmax_day) / 2\n",
    "        \n",
    "        ra_day = np.vectorize(extraterrestrial_radiation)(\n",
    "            inverse_relative_distance_earth_sun(\n",
    "                julian_date = j_day\n",
    "            ),\n",
    "            sunset_hour_angle(\n",
    "                latitude=convert_degrees2radians(lat),\n",
    "                solar_declination = solar_declination(\n",
    "                    julian_date = j_day\n",
    "                )\n",
    "            ),\n",
    "            convert_degrees2radians(\n",
    "                degrees = lat\n",
    "            ),\n",
    "            solar_declination(\n",
    "                julian_date = j_day\n",
    "            )            \n",
    "        )\n",
    "        \n",
    "        Ra[\"extraterrestrial_radiation\"][j_day - 1, :, :] = ra_day\n",
    "                \n",
    "        et_day_hargreaves_samani = np.vectorize(ReferenceEvapotranspiration.hargreaves_samani)(\n",
    "            tmin = Tmin_day,\n",
    "            tmax = Tmax_day,\n",
    "            tmean = Tmean_day,\n",
    "            ra = ra_day\n",
    "        )\n",
    "        et_day_hargreaves_samani = np.vectorize(lambda d: 0 if d < 0 else d)(\n",
    "            d = et_day_hargreaves_samani\n",
    "        )\n",
    "        \n",
    "        ET[\"et_hargreaves_samani\"][j_day - 1, :, :] = et_day_hargreaves_samani\n",
    "        \n",
    "        total_evaporable_water_day = np.vectorize(available_water)(\n",
    "            permanent_wilting_point_wet = wp[\"b0\"].sel(time = \"1979-01-01\")[:, :],\n",
    "            field_capacity_wet = fc[\"b0\"].sel(time = \"1979-01-01\")[:, :],\n",
    "            soil_depth = 1000\n",
    "        )\n",
    "        \n",
    "        TE[\"total_evaporable_water\"][j_day - 1, :, :] = total_evaporable_water_day\n",
    "        \n",
    "        soil_water_content_evaporation = soil_water_content[\"volumetric_soil_water_layer_1\"]\n",
    "        soil_water_content_transpiration = soil_water_content[\"volumetric_soil_water_layer_2\"] + soil_water_content[\"volumetric_soil_water_layer_3\"]\n",
    "        soil_water_content_transition = soil_water_content[\"volumetric_soil_water_layer_4\"]\n",
    "        \n",
    "        f_day = np.vectorize(moisture_reduction_function)(\n",
    "            soil_wetness_in_previous_step = soil_water_content_transpiration.sel(time = \"1979-01-01\")[:, :],\n",
    "            permanent_wilting_point_wet = wp[\"b0\"].sel(time = \"1979-01-01\")[:, :],\n",
    "            field_capacity_wet = fc[\"b0\"].sel(time = \"1979-01-01\")[:, :],\n",
    "            soil_depth = 1000\n",
    "        )\n",
    "        MRF[\"moisture_reduction_function\"][j_day - 1, :, :] = f_day\n",
    "        \n",
    "        f_adjusted_day = np.vectorize(lambda d: 0 if d < 0 else d)(\n",
    "            d = f_day\n",
    "        )\n",
    "        \n",
    "        f_adjusted[\"moisture_reduction_function\"][j_day - 1, :, :] = f_adjusted_day\n",
    "        \n",
    "        et_actual_day = np.vectorize(ActualEvapotranspiration.et_covered)(\n",
    "            moisture_reduction_function = f_adjusted_day,\n",
    "            crop_coefficient = 0.5,\n",
    "            crop_cover = 0.4,\n",
    "            reference_crop_evapotranspiration = et_day_hargreaves_samani\n",
    "        )\n",
    "        ET_actual[\"actual_evapotranspiration\"][j_day - 1, :, :] = et_actual_day\n",
    "        \n",
    "        \n",
    "        available_evaporable_water_day = AE.to_array()[0, j_day - 1, :, :]\n",
    "        \n",
    "        k_e_day = np.vectorize(ratio_of_actual_evaporable_water_to_total_evaporable_water)(\n",
    "            available_water = total_evaporable_water_day,\n",
    "            available_evaporable_water = available_evaporable_water_day\n",
    "        )\n",
    "        \n",
    "        K_E[\"available_evaporable_water\"][j_day - 1, :, :] = k_e_day\n",
    "        \n",
    "        \n",
    "        e_actual_day = np.vectorize(ActualEvapotranspiration.e_noncovered)(\n",
    "            ratio_of_actual_evaporable_water_to_total_evaporable_water = k_e_day,\n",
    "            crop_cover = 0.4,\n",
    "            reference_crop_evapotranspiration = et_day_hargreaves_samani\n",
    "        )\n",
    "        \n",
    "        E_actual[\"actual_evaporation\"][j_day - 1, :, :] = e_actual_day\n",
    "        \n",
    "        et_total_actual_day = np.vectorize(ActualEvapotranspiration.et_QDWB)(\n",
    "            evaporation_noncovered_areas = e_actual_day,\n",
    "            evapotranspiration_covered_areas = et_actual_day\n",
    "        )\n",
    "        \n",
    "        ET_total_actual[\"total_actual_evapotranspiration\"][j_day - 1, :, :] = et_total_actual_day\n",
    "        \n",
    "        ### run off\n",
    "        \n",
    "        run_off_and_infiltration_day = np.vectorize(PrimarySurfaceFlow.scs)(\n",
    "            precipitation = pre_day,\n",
    "            curve_number = cn[\"dry\"].sel(time = \"1979-01-01\")[:, :],\n",
    "            rsa = True,\n",
    "            antecedent_precipitation = soil_water_content_evaporation.sel(time = \"1979-01-01\")[:, :],\n",
    "            is_growing_season = True\n",
    "        )\n",
    "        RUN_OFF[\"runoff\"][j_day - 1, :, :] = run_off_and_infiltration_day[0]\n",
    "        \n",
    "        INFILTRATION[\"infiltration\"][j_day - 1, :, :] = run_off_and_infiltration_day[1]\n",
    "        \n",
    "        ### soil water content\n",
    "        \n",
    "        # swc_evaporation_layer_day = np.vectorize(SoilContent.evaporation_layer)(\n",
    "        #     soil_water_content_of_evaporation_layer_at_previous_step = soil_water_content_evaporation,\n",
    "        #     infiltration = run_off_and_infiltration_day[1],\n",
    "        #     evaporation = e_actual_day,\n",
    "        #     field_capacity_soil_water_content_of_evaporation_layer = fc[\"b10\"].sel(time = \"1979-01-01\")[:, :],\n",
    "        #     permanent_wilting_point_soil_water_content_of_evaporation_layer = wp[\"b10\"].sel(time = \"1979-01-01\")[:, :],\n",
    "        #     coverd = True,\n",
    "        #     infiltration_to_transpiration_layer = float,\n",
    "        #     infiltration_to_transition_layer = float\n",
    "        # )\n",
    "        \n",
    "        \n",
    "        break\n",
    "    # Ra.to_netcdf(f\"{data_path}Ra_{year}.nc\")\n",
    "    \n",
    "    # ET.to_netcdf(f\"{data_path}ET_{year}.nc\")\n",
    "        \n",
    "    \n",
    "    break\n"
   ]
  },
  {
   "cell_type": "code",
   "execution_count": 28,
   "metadata": {},
   "outputs": [
    {
     "data": {
      "image/png": "[encoded data removed]",
      "text/plain": [
       "<Figure size 640x480 with 2 Axes>"
      ]
     },
     "metadata": {},
     "output_type": "display_data"
    }
   ],
   "source": [
    "rt = ET_total_actual[\"total_actual_evapotranspiration\"].sel(time = \"2010-01-01\")[:, :].plot()\n",
    "# num_elements_equal_to_10 = (rt < 0).sum()\n",
    "# num_elements_equal_to_10"
   ]
  },
  {
   "cell_type": "code",
   "execution_count": null,
   "metadata": {},
   "outputs": [],
   "source": [
    "Pre = xr.open_dataset(f\"{data_path}{list_files['P'][list_files['P']['year'] == 2010]['file'].values[0]}\")\n",
    "pre_day = Pre.to_array()[0, 0, :, :]\n",
    "\n",
    "\n",
    "\n",
    "cn = xr.open_dataset(\"D:\\mehdi\\DailyData\\curve_number_1979001.nc\")\n",
    "cn_day = cn.to_array()[0, 0, :, :]\n",
    "# soil_water_content = xr.open_dataset(\"D:\\mehdi\\DailyData\\soil_water_content_1979001.nc\")\n",
    "# soil_water_content_evaporation = soil_water_content[\"volumetric_soil_water_layer_1\"]\n",
    "data_type = cn_day.dtype\n",
    "data_type\n",
    "# ss = np.vectorize(PrimarySurfaceFlow.scs)(\n",
    "#     precipitation = pre_day,\n",
    "#     curve_number = cn[\"dry\"].sel(time = \"1979-01-01\")[:, :],\n",
    "#     rsa = True,\n",
    "#     antecedent_precipitation = soil_water_content_evaporation.sel(time = \"1979-01-01\")[:, :],\n",
    "#     is_growing_season = True\n",
    "# )\n"
   ]
  },
  {
   "cell_type": "code",
   "execution_count": null,
   "metadata": {},
   "outputs": [],
   "source": [
    "pre_day"
   ]
  },
  {
   "cell_type": "code",
   "execution_count": null,
   "metadata": {},
   "outputs": [],
   "source": [
    "ee = ET_total_actual[\"total_actual_evapotranspiration\"].sel(time = \"2010-01-01\")\n",
    "dd = ee.max()\n",
    "float_value = dd.item()\n",
    "float_value"
   ]
  },
  {
   "cell_type": "code",
   "execution_count": null,
   "metadata": {},
   "outputs": [],
   "source": [
    "d = TE[\"total_evaporable_water\"].sel(time = \"2010-01-01\")\n",
    "\n",
    "df = d.to_dataframe()\n",
    "\n",
    "min_value = df['total_evaporable_water'].min()\n",
    "max_value = df['total_evaporable_water'].max()\n",
    "print(min_value, max_value)"
   ]
  },
  {
   "cell_type": "code",
   "execution_count": null,
   "metadata": {},
   "outputs": [],
   "source": [
    "d = TE[\"total_evaporable_water\"].sel(time = \"2010-01-01\")\n",
    "dd = d.min()\n",
    "float_value = dd.item()\n",
    "float_value"
   ]
  },
  {
   "cell_type": "code",
   "execution_count": null,
   "metadata": {},
   "outputs": [],
   "source": [
    "# ET_actual.actual_evapotranspiration.sel(time = \"2010-01-01\")[:,:].plot()\n",
    "d = Tmin_day.extraterrestrial_radiation.sel(time = \"2010-01-01\")\n",
    "\n",
    "df = d.to_dataframe()\n",
    "\n",
    "min_value = df['extraterrestrial_radiation'].min()\n",
    "max_value = df['extraterrestrial_radiation'].max()\n",
    "print(min_value, max_value)\n",
    "# df.to_csv(\"D:\\mehdi\\et_for_2010_01_01.csv\", index=False) "
   ]
  },
  {
   "cell_type": "code",
   "execution_count": null,
   "metadata": {},
   "outputs": [],
   "source": [
    "Ra"
   ]
  },
  {
   "cell_type": "code",
   "execution_count": null,
   "metadata": {},
   "outputs": [],
   "source": [
    "xr.DataArray(\n",
    "            Tmin.air_temperature,\n",
    "            coords={\n",
    "                \"time\" : Tmin.time.values,\n",
    "                \"lat\" : Tmin_day.lat.values,\n",
    "                \"lon\" : Tmin_day.lon.values,\n",
    "            }, \n",
    "            dims=['time', 'lat', 'lon']\n",
    "        )"
   ]
  },
  {
   "cell_type": "code",
   "execution_count": null,
   "metadata": {},
   "outputs": [],
   "source": [
    "Tmin"
   ]
  },
  {
   "cell_type": "code",
   "execution_count": null,
   "metadata": {},
   "outputs": [],
   "source": [
    "with open('D:\\\\mehdi\\\\DailyData\\\\Tmax\\\\Tmax-30.pkl', 'rb') as f:\n",
    "    t_max11 = pickle.load(f)\n",
    "\n",
    "with open('D:\\\\mehdi\\\\DailyData\\\\Tmax\\\\Tmax-31.pkl', 'rb') as f:\n",
    "    t_max12 = pickle.load(f)\n",
    "\n",
    "\n",
    "concatenated_data = xr.concat([t_max11, t_max12], dim='time')\n",
    "sliced_dataset = concatenated_data.sel(time=slice(\"2010-01-01\", \"2010-12-31\"))\n",
    "\n",
    "\n",
    "\n",
    "reshaped_data = result_ET_array.reshape(365,200, 600)\n",
    "\n",
    "ds_array = sliced_dataset.assign(ET=(['time', 'lat', 'lon'], reshaped_data))\n",
    "\n",
    "ds_array"
   ]
  },
  {
   "cell_type": "code",
   "execution_count": null,
   "metadata": {},
   "outputs": [],
   "source": [
    "Tmin_day"
   ]
  },
  {
   "cell_type": "code",
   "execution_count": null,
   "metadata": {},
   "outputs": [],
   "source": [
    "# result_array.size\n",
    "# ET_ca_array = result_array.reshape(365,200,600)\n",
    "t = Tmin.assign(ra=(['time', 'lat', 'lon'], result_array))\n",
    "t"
   ]
  },
  {
   "cell_type": "code",
   "execution_count": null,
   "metadata": {},
   "outputs": [],
   "source": [
    "yy = xr.open_dataset(\"D:\\\\mehdi\\\\DailyData\\\\Data\\\\Tmax_2010.nc\")\n",
    "yy.sel(time = \"2010-01-01\")"
   ]
  },
  {
   "cell_type": "code",
   "execution_count": null,
   "metadata": {},
   "outputs": [],
   "source": [
    "def check_between(\n",
    "    a: float,\n",
    "    min: float,\n",
    "    max: float,\n",
    "    name: str,\n",
    "):\n",
    "    if a < min or a > max:\n",
    "        raise ValueError(f\"{name} must be between {min} and {max}!\")"
   ]
  },
  {
   "cell_type": "code",
   "execution_count": null,
   "metadata": {},
   "outputs": [],
   "source": [
    "Tmean_day"
   ]
  },
  {
   "cell_type": "code",
   "execution_count": null,
   "metadata": {},
   "outputs": [],
   "source": [
    "for year in list_of_year[:2]:\n",
    "    t_min_{year} = xr.open_dataset(f\"Data\\\\Tmin_{1979}.nc\")\n",
    "    t_max_{year} = xr.open_dataset(f\"Data\\\\Tmax_{1979}.nc\")\n",
    "    \n",
    "    for i in range(t_min.sizes[\"time\"]):\n",
    "        print(i)"
   ]
  },
  {
   "cell_type": "code",
   "execution_count": null,
   "metadata": {},
   "outputs": [],
   "source": [
    "import os\n",
    "import sys\n",
    "\n",
    "sys.path.append('D:\\\\mehdi\\\\WaterBalance_new\\\\')\n",
    "\n",
    "from qdwb.evapotranspiration.et import *\n",
    "from qdwb.evapotranspiration.asset import *\n",
    "from qdwb.evapotranspiration.convert import *"
   ]
  },
  {
   "cell_type": "code",
   "execution_count": null,
   "metadata": {},
   "outputs": [],
   "source": [
    "time_list = a['time'].values.astype(str).tolist()"
   ]
  },
  {
   "cell_type": "code",
   "execution_count": null,
   "metadata": {},
   "outputs": [],
   "source": [
    "array_t_min = a.air_temperature.to_numpy()\n",
    "array_t_min"
   ]
  },
  {
   "cell_type": "code",
   "execution_count": null,
   "metadata": {},
   "outputs": [],
   "source": [
    "vectorized_func = np.vectorize(standard_date_to_Julian_day)\n",
    "result = vectorized_func(array_t_min)\n",
    "result"
   ]
  }
 ],
 "metadata": {
  "kernelspec": {
   "display_name": "base",
   "language": "python",
   "name": "python3"
  },
  "language_info": {
   "codemirror_mode": {
    "name": "ipython",
    "version": 3
   },
   "file_extension": ".py",
   "mimetype": "text/x-python",
   "name": "python",
   "nbconvert_exporter": "python",
   "pygments_lexer": "ipython3",
   "version": "3.10.11"
  },
  "orig_nbformat": 4
 },
 "nbformat": 4,
 "nbformat_minor": 2
}
