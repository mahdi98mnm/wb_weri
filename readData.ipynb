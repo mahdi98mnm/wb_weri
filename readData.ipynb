{
 "cells": [
  {
   "cell_type": "code",
   "execution_count": 1,
   "metadata": {},
   "outputs": [],
   "source": [
    "import math\n",
    "import os\n",
    "import sys\n",
    "from datetime import datetime\n",
    "import pandas as pd\n",
    "import numpy as np\n",
    "import xarray as xr\n",
    "import pickle\n",
    "import netCDF4 as nc\n",
    "\n",
    "sys.path.append('D:\\\\mehdi\\\\WaterBalance_new\\\\')\n",
    "from qdwb.evapotranspiration.et import *\n",
    "from qdwb.evapotranspiration.asset import *\n",
    "from qdwb.evapotranspiration.convert import *\n",
    "from qdwb.primary_surface_flow.primary_surface_flow import *\n",
    "from qdwb.primary_surface_flow.asset import *\n",
    "from qdwb.primary_surface_flow.check import *\n",
    "from qdwb.soil_content.soil_layers import *\n"
   ]
  },
  {
   "cell_type": "code",
   "execution_count": 2,
   "metadata": {},
   "outputs": [],
   "source": [
    "data_path = \"D:\\\\mehdi\\\\DailyData\\\\Data\\\\\"\n",
    "\n",
    "# list of name of files in folder\n",
    "def list_of_files(data_path):    \n",
    "    files = os.listdir(data_path)\n",
    "    return files\n",
    "\n",
    "all_list_files = list_of_files(data_path)"
   ]
  },
  {
   "cell_type": "markdown",
   "metadata": {},
   "source": [
    "# PET"
   ]
  },
  {
   "cell_type": "code",
   "execution_count": 3,
   "metadata": {},
   "outputs": [],
   "source": [
    "para = [\"P\", \"Tmin\", \"Tmax\"]\n",
    "\n",
    "list_files = {}\n",
    "\n",
    "for p in para:\n",
    "    \n",
    "    tmp = pd.DataFrame(\n",
    "        {\n",
    "            \"file\": [x for x in all_list_files if x.startswith(p)],\n",
    "            \"year\": [int(x.split(\"_\")[1][0:4]) for x in all_list_files if x.startswith(p)]\n",
    "        }\n",
    "        \n",
    "    )\n",
    "    \n",
    "    tmp.sort_values(by = \"year\", inplace = True)\n",
    "    \n",
    "    list_files[p] = tmp\n",
    "\n"
   ]
  },
  {
   "cell_type": "code",
   "execution_count": 4,
   "metadata": {},
   "outputs": [],
   "source": [
    "# with open(\"D:\\mehdi\\DailyData\\land_use.pkl\", \"rb\") as f:\n",
    "#     land_use = pickle.load(f)\n",
    "\n",
    "# land_use\n",
    "\n",
    "# land_use[\"Plant Date\"] = np.datetime64(\"2022\") + land_use['Plant Date'].astype('timedelta64[M]') + np.timedelta64(0, 'D')"
   ]
  },
  {
   "cell_type": "code",
   "execution_count": 5,
   "metadata": {},
   "outputs": [],
   "source": [
    "# df = land_use.to_dataframe()\n",
    "# df = df.reset_index()\n",
    "# column_titles = df.columns.tolist()\n",
    "# lll = df['cultivated'].to_list()\n",
    "\n",
    "# unique_list = pd.Series(lll).unique()\n",
    "# unique_list\n"
   ]
  },
  {
   "cell_type": "code",
   "execution_count": 6,
   "metadata": {},
   "outputs": [],
   "source": [
    "\n",
    "# math.isnan(np.unique(land_use['Plant Date'].sel(time = \"2022-01-01\")[:,:])[-1])"
   ]
  },
  {
   "cell_type": "code",
   "execution_count": 7,
   "metadata": {},
   "outputs": [],
   "source": [
    "# {year}-{int(x):02d}-{1:02d}\n",
    "\n",
    "def generate_date(x, year):\n",
    "    \n",
    "    if math.isnan(x):\n",
    "        return \"nan\"\n",
    "    else:\n",
    "        return f\"{year}-{int(x):02d}-01\"\n",
    "\n",
    "\n",
    "\n",
    "# plant_date_day = np.vectorize(generate_date)(\n",
    "#     x = land_use['Plant Date'].sel(time = \"2022-01-01\")[:,:],\n",
    "#     year = 2022\n",
    "# )\n",
    "\n",
    "# plant_date_day = np.where(plant_date_day == \"nan\", np.nan, plant_date_day)\n",
    "\n"
   ]
  },
  {
   "cell_type": "code",
   "execution_count": 8,
   "metadata": {},
   "outputs": [],
   "source": [
    "# if year == selected_years[0]:\n",
    "#     soil_water_content = xr.open_dataset(\"D:\\mehdi\\DailyData\\soil_water_content_1979001.nc\")\n",
    "    \n",
    "#     soil_water_content = soil_water_content.fillna(0)\n",
    "            \n",
    "#     soil_water_content = soil_water_content.rename({'x': 'lon','y': 'lat'})\n",
    "    \n",
    "#     constant_value_for_AE = 6\n",
    "#     AE = xr.Dataset(\n",
    "#         data_vars={\"available_evaporable_water\": ((\"time\", \"lat\", \"lon\"), np.full((len(soil_water_content.time), len(soil_water_content.lat), len(soil_water_content.lon)), constant_value_for_AE))},\n",
    "#         coords={\"lat\": soil_water_content.lat, \"lon\": soil_water_content.lon, \"time\": soil_water_content.time},\n",
    "#     )\n",
    "\n"
   ]
  },
  {
   "cell_type": "code",
   "execution_count": 9,
   "metadata": {},
   "outputs": [
    {
     "data": {
      "text/plain": [
       "array([[6., 6., 6., ..., 6., 6., 6.],\n",
       "       [6., 6., 6., ..., 6., 6., 6.],\n",
       "       [6., 6., 6., ..., 6., 6., 6.],\n",
       "       ...,\n",
       "       [6., 6., 6., ..., 6., 6., 6.],\n",
       "       [6., 6., 6., ..., 6., 6., 6.],\n",
       "       [6., 6., 6., ..., 6., 6., 6.]])"
      ]
     },
     "execution_count": 9,
     "metadata": {},
     "output_type": "execute_result"
    }
   ],
   "source": [
    "np.zeros((200, 600)) + 6"
   ]
  },
  {
   "cell_type": "code",
   "execution_count": 37,
   "metadata": {},
   "outputs": [
    {
     "name": "stdout",
     "output_type": "stream",
     "text": [
      "2010 1\n"
     ]
    },
    {
     "name": "stderr",
     "output_type": "stream",
     "text": [
      "c:\\Users\\psh2610\\AppData\\Local\\miniconda3\\lib\\site-packages\\numpy\\lib\\function_base.py:2455: RuntimeWarning: invalid value encountered in func (vectorized)\n",
      "  outputs = ufunc(*inputs)\n"
     ]
    },
    {
     "name": "stdout",
     "output_type": "stream",
     "text": [
      "2010 2\n"
     ]
    },
    {
     "name": "stderr",
     "output_type": "stream",
     "text": [
      "c:\\Users\\psh2610\\AppData\\Local\\miniconda3\\lib\\site-packages\\numpy\\lib\\function_base.py:2455: RuntimeWarning: invalid value encountered in func (vectorized)\n",
      "  outputs = ufunc(*inputs)\n"
     ]
    },
    {
     "name": "stdout",
     "output_type": "stream",
     "text": [
      "2010 3\n"
     ]
    },
    {
     "name": "stderr",
     "output_type": "stream",
     "text": [
      "c:\\Users\\psh2610\\AppData\\Local\\miniconda3\\lib\\site-packages\\numpy\\lib\\function_base.py:2455: RuntimeWarning: invalid value encountered in func (vectorized)\n",
      "  outputs = ufunc(*inputs)\n"
     ]
    },
    {
     "name": "stdout",
     "output_type": "stream",
     "text": [
      "2010 4\n"
     ]
    },
    {
     "name": "stderr",
     "output_type": "stream",
     "text": [
      "c:\\Users\\psh2610\\AppData\\Local\\miniconda3\\lib\\site-packages\\numpy\\lib\\function_base.py:2455: RuntimeWarning: invalid value encountered in func (vectorized)\n",
      "  outputs = ufunc(*inputs)\n"
     ]
    },
    {
     "name": "stdout",
     "output_type": "stream",
     "text": [
      "2010 5\n"
     ]
    },
    {
     "name": "stderr",
     "output_type": "stream",
     "text": [
      "c:\\Users\\psh2610\\AppData\\Local\\miniconda3\\lib\\site-packages\\numpy\\lib\\function_base.py:2455: RuntimeWarning: invalid value encountered in func (vectorized)\n",
      "  outputs = ufunc(*inputs)\n"
     ]
    },
    {
     "name": "stdout",
     "output_type": "stream",
     "text": [
      "2010 6\n"
     ]
    },
    {
     "name": "stderr",
     "output_type": "stream",
     "text": [
      "c:\\Users\\psh2610\\AppData\\Local\\miniconda3\\lib\\site-packages\\numpy\\lib\\function_base.py:2455: RuntimeWarning: invalid value encountered in func (vectorized)\n",
      "  outputs = ufunc(*inputs)\n"
     ]
    },
    {
     "name": "stdout",
     "output_type": "stream",
     "text": [
      "2010 7\n"
     ]
    },
    {
     "name": "stderr",
     "output_type": "stream",
     "text": [
      "c:\\Users\\psh2610\\AppData\\Local\\miniconda3\\lib\\site-packages\\numpy\\lib\\function_base.py:2455: RuntimeWarning: invalid value encountered in func (vectorized)\n",
      "  outputs = ufunc(*inputs)\n"
     ]
    },
    {
     "name": "stdout",
     "output_type": "stream",
     "text": [
      "2010 8\n"
     ]
    },
    {
     "name": "stderr",
     "output_type": "stream",
     "text": [
      "c:\\Users\\psh2610\\AppData\\Local\\miniconda3\\lib\\site-packages\\numpy\\lib\\function_base.py:2455: RuntimeWarning: invalid value encountered in func (vectorized)\n",
      "  outputs = ufunc(*inputs)\n"
     ]
    },
    {
     "name": "stdout",
     "output_type": "stream",
     "text": [
      "2010 9\n"
     ]
    },
    {
     "name": "stderr",
     "output_type": "stream",
     "text": [
      "c:\\Users\\psh2610\\AppData\\Local\\miniconda3\\lib\\site-packages\\numpy\\lib\\function_base.py:2455: RuntimeWarning: invalid value encountered in func (vectorized)\n",
      "  outputs = ufunc(*inputs)\n"
     ]
    },
    {
     "name": "stdout",
     "output_type": "stream",
     "text": [
      "2010 10\n"
     ]
    },
    {
     "name": "stderr",
     "output_type": "stream",
     "text": [
      "c:\\Users\\psh2610\\AppData\\Local\\miniconda3\\lib\\site-packages\\numpy\\lib\\function_base.py:2455: RuntimeWarning: invalid value encountered in func (vectorized)\n",
      "  outputs = ufunc(*inputs)\n"
     ]
    },
    {
     "name": "stdout",
     "output_type": "stream",
     "text": [
      "2010 11\n"
     ]
    },
    {
     "name": "stderr",
     "output_type": "stream",
     "text": [
      "c:\\Users\\psh2610\\AppData\\Local\\miniconda3\\lib\\site-packages\\numpy\\lib\\function_base.py:2455: RuntimeWarning: invalid value encountered in func (vectorized)\n",
      "  outputs = ufunc(*inputs)\n"
     ]
    },
    {
     "name": "stdout",
     "output_type": "stream",
     "text": [
      "2010 12\n"
     ]
    },
    {
     "name": "stderr",
     "output_type": "stream",
     "text": [
      "c:\\Users\\psh2610\\AppData\\Local\\miniconda3\\lib\\site-packages\\numpy\\lib\\function_base.py:2455: RuntimeWarning: invalid value encountered in func (vectorized)\n",
      "  outputs = ufunc(*inputs)\n"
     ]
    },
    {
     "name": "stdout",
     "output_type": "stream",
     "text": [
      "2010 13\n"
     ]
    },
    {
     "name": "stderr",
     "output_type": "stream",
     "text": [
      "c:\\Users\\psh2610\\AppData\\Local\\miniconda3\\lib\\site-packages\\numpy\\lib\\function_base.py:2455: RuntimeWarning: invalid value encountered in func (vectorized)\n",
      "  outputs = ufunc(*inputs)\n"
     ]
    },
    {
     "name": "stdout",
     "output_type": "stream",
     "text": [
      "2010 14\n"
     ]
    },
    {
     "name": "stderr",
     "output_type": "stream",
     "text": [
      "c:\\Users\\psh2610\\AppData\\Local\\miniconda3\\lib\\site-packages\\numpy\\lib\\function_base.py:2455: RuntimeWarning: invalid value encountered in func (vectorized)\n",
      "  outputs = ufunc(*inputs)\n"
     ]
    },
    {
     "name": "stdout",
     "output_type": "stream",
     "text": [
      "2010 15\n"
     ]
    },
    {
     "name": "stderr",
     "output_type": "stream",
     "text": [
      "c:\\Users\\psh2610\\AppData\\Local\\miniconda3\\lib\\site-packages\\numpy\\lib\\function_base.py:2455: RuntimeWarning: invalid value encountered in func (vectorized)\n",
      "  outputs = ufunc(*inputs)\n"
     ]
    },
    {
     "name": "stdout",
     "output_type": "stream",
     "text": [
      "2010 16\n"
     ]
    },
    {
     "name": "stderr",
     "output_type": "stream",
     "text": [
      "c:\\Users\\psh2610\\AppData\\Local\\miniconda3\\lib\\site-packages\\numpy\\lib\\function_base.py:2455: RuntimeWarning: invalid value encountered in func (vectorized)\n",
      "  outputs = ufunc(*inputs)\n"
     ]
    },
    {
     "name": "stdout",
     "output_type": "stream",
     "text": [
      "2010 17\n"
     ]
    },
    {
     "name": "stderr",
     "output_type": "stream",
     "text": [
      "c:\\Users\\psh2610\\AppData\\Local\\miniconda3\\lib\\site-packages\\numpy\\lib\\function_base.py:2455: RuntimeWarning: invalid value encountered in func (vectorized)\n",
      "  outputs = ufunc(*inputs)\n"
     ]
    },
    {
     "name": "stdout",
     "output_type": "stream",
     "text": [
      "2010 18\n"
     ]
    },
    {
     "name": "stderr",
     "output_type": "stream",
     "text": [
      "c:\\Users\\psh2610\\AppData\\Local\\miniconda3\\lib\\site-packages\\numpy\\lib\\function_base.py:2455: RuntimeWarning: invalid value encountered in func (vectorized)\n",
      "  outputs = ufunc(*inputs)\n"
     ]
    },
    {
     "name": "stdout",
     "output_type": "stream",
     "text": [
      "2010 19\n"
     ]
    },
    {
     "name": "stderr",
     "output_type": "stream",
     "text": [
      "c:\\Users\\psh2610\\AppData\\Local\\miniconda3\\lib\\site-packages\\numpy\\lib\\function_base.py:2455: RuntimeWarning: invalid value encountered in func (vectorized)\n",
      "  outputs = ufunc(*inputs)\n"
     ]
    },
    {
     "name": "stdout",
     "output_type": "stream",
     "text": [
      "2010 20\n"
     ]
    },
    {
     "name": "stderr",
     "output_type": "stream",
     "text": [
      "c:\\Users\\psh2610\\AppData\\Local\\miniconda3\\lib\\site-packages\\numpy\\lib\\function_base.py:2455: RuntimeWarning: invalid value encountered in func (vectorized)\n",
      "  outputs = ufunc(*inputs)\n"
     ]
    },
    {
     "name": "stdout",
     "output_type": "stream",
     "text": [
      "2010 21\n"
     ]
    },
    {
     "name": "stderr",
     "output_type": "stream",
     "text": [
      "c:\\Users\\psh2610\\AppData\\Local\\miniconda3\\lib\\site-packages\\numpy\\lib\\function_base.py:2455: RuntimeWarning: invalid value encountered in func (vectorized)\n",
      "  outputs = ufunc(*inputs)\n"
     ]
    },
    {
     "name": "stdout",
     "output_type": "stream",
     "text": [
      "2010 22\n"
     ]
    },
    {
     "name": "stderr",
     "output_type": "stream",
     "text": [
      "c:\\Users\\psh2610\\AppData\\Local\\miniconda3\\lib\\site-packages\\numpy\\lib\\function_base.py:2455: RuntimeWarning: invalid value encountered in func (vectorized)\n",
      "  outputs = ufunc(*inputs)\n"
     ]
    },
    {
     "name": "stdout",
     "output_type": "stream",
     "text": [
      "2010 23\n"
     ]
    },
    {
     "name": "stderr",
     "output_type": "stream",
     "text": [
      "c:\\Users\\psh2610\\AppData\\Local\\miniconda3\\lib\\site-packages\\numpy\\lib\\function_base.py:2455: RuntimeWarning: invalid value encountered in func (vectorized)\n",
      "  outputs = ufunc(*inputs)\n"
     ]
    },
    {
     "name": "stdout",
     "output_type": "stream",
     "text": [
      "2010 24\n"
     ]
    },
    {
     "name": "stderr",
     "output_type": "stream",
     "text": [
      "c:\\Users\\psh2610\\AppData\\Local\\miniconda3\\lib\\site-packages\\numpy\\lib\\function_base.py:2455: RuntimeWarning: invalid value encountered in func (vectorized)\n",
      "  outputs = ufunc(*inputs)\n"
     ]
    },
    {
     "name": "stdout",
     "output_type": "stream",
     "text": [
      "2010 25\n"
     ]
    },
    {
     "name": "stderr",
     "output_type": "stream",
     "text": [
      "c:\\Users\\psh2610\\AppData\\Local\\miniconda3\\lib\\site-packages\\numpy\\lib\\function_base.py:2455: RuntimeWarning: invalid value encountered in func (vectorized)\n",
      "  outputs = ufunc(*inputs)\n"
     ]
    },
    {
     "name": "stdout",
     "output_type": "stream",
     "text": [
      "2010 26\n"
     ]
    },
    {
     "name": "stderr",
     "output_type": "stream",
     "text": [
      "c:\\Users\\psh2610\\AppData\\Local\\miniconda3\\lib\\site-packages\\numpy\\lib\\function_base.py:2455: RuntimeWarning: invalid value encountered in func (vectorized)\n",
      "  outputs = ufunc(*inputs)\n"
     ]
    },
    {
     "name": "stdout",
     "output_type": "stream",
     "text": [
      "2010 27\n"
     ]
    },
    {
     "name": "stderr",
     "output_type": "stream",
     "text": [
      "c:\\Users\\psh2610\\AppData\\Local\\miniconda3\\lib\\site-packages\\numpy\\lib\\function_base.py:2455: RuntimeWarning: invalid value encountered in func (vectorized)\n",
      "  outputs = ufunc(*inputs)\n"
     ]
    },
    {
     "name": "stdout",
     "output_type": "stream",
     "text": [
      "2010 28\n"
     ]
    },
    {
     "name": "stderr",
     "output_type": "stream",
     "text": [
      "c:\\Users\\psh2610\\AppData\\Local\\miniconda3\\lib\\site-packages\\numpy\\lib\\function_base.py:2455: RuntimeWarning: invalid value encountered in func (vectorized)\n",
      "  outputs = ufunc(*inputs)\n"
     ]
    },
    {
     "name": "stdout",
     "output_type": "stream",
     "text": [
      "2010 29\n"
     ]
    },
    {
     "name": "stderr",
     "output_type": "stream",
     "text": [
      "c:\\Users\\psh2610\\AppData\\Local\\miniconda3\\lib\\site-packages\\numpy\\lib\\function_base.py:2455: RuntimeWarning: invalid value encountered in func (vectorized)\n",
      "  outputs = ufunc(*inputs)\n"
     ]
    },
    {
     "name": "stdout",
     "output_type": "stream",
     "text": [
      "2010 30\n"
     ]
    },
    {
     "name": "stderr",
     "output_type": "stream",
     "text": [
      "c:\\Users\\psh2610\\AppData\\Local\\miniconda3\\lib\\site-packages\\numpy\\lib\\function_base.py:2455: RuntimeWarning: invalid value encountered in func (vectorized)\n",
      "  outputs = ufunc(*inputs)\n"
     ]
    },
    {
     "name": "stdout",
     "output_type": "stream",
     "text": [
      "2010 31\n"
     ]
    },
    {
     "name": "stderr",
     "output_type": "stream",
     "text": [
      "c:\\Users\\psh2610\\AppData\\Local\\miniconda3\\lib\\site-packages\\numpy\\lib\\function_base.py:2455: RuntimeWarning: invalid value encountered in func (vectorized)\n",
      "  outputs = ufunc(*inputs)\n"
     ]
    },
    {
     "name": "stdout",
     "output_type": "stream",
     "text": [
      "2010 32\n"
     ]
    },
    {
     "name": "stderr",
     "output_type": "stream",
     "text": [
      "c:\\Users\\psh2610\\AppData\\Local\\miniconda3\\lib\\site-packages\\numpy\\lib\\function_base.py:2455: RuntimeWarning: invalid value encountered in func (vectorized)\n",
      "  outputs = ufunc(*inputs)\n"
     ]
    },
    {
     "name": "stdout",
     "output_type": "stream",
     "text": [
      "2010 33\n"
     ]
    },
    {
     "name": "stderr",
     "output_type": "stream",
     "text": [
      "c:\\Users\\psh2610\\AppData\\Local\\miniconda3\\lib\\site-packages\\numpy\\lib\\function_base.py:2455: RuntimeWarning: invalid value encountered in func (vectorized)\n",
      "  outputs = ufunc(*inputs)\n"
     ]
    },
    {
     "name": "stdout",
     "output_type": "stream",
     "text": [
      "2010 34\n"
     ]
    },
    {
     "name": "stderr",
     "output_type": "stream",
     "text": [
      "c:\\Users\\psh2610\\AppData\\Local\\miniconda3\\lib\\site-packages\\numpy\\lib\\function_base.py:2455: RuntimeWarning: invalid value encountered in func (vectorized)\n",
      "  outputs = ufunc(*inputs)\n"
     ]
    },
    {
     "name": "stdout",
     "output_type": "stream",
     "text": [
      "2010 35\n"
     ]
    },
    {
     "name": "stderr",
     "output_type": "stream",
     "text": [
      "c:\\Users\\psh2610\\AppData\\Local\\miniconda3\\lib\\site-packages\\numpy\\lib\\function_base.py:2455: RuntimeWarning: invalid value encountered in func (vectorized)\n",
      "  outputs = ufunc(*inputs)\n"
     ]
    },
    {
     "name": "stdout",
     "output_type": "stream",
     "text": [
      "2010 36\n"
     ]
    },
    {
     "name": "stderr",
     "output_type": "stream",
     "text": [
      "c:\\Users\\psh2610\\AppData\\Local\\miniconda3\\lib\\site-packages\\numpy\\lib\\function_base.py:2455: RuntimeWarning: invalid value encountered in func (vectorized)\n",
      "  outputs = ufunc(*inputs)\n"
     ]
    },
    {
     "name": "stdout",
     "output_type": "stream",
     "text": [
      "2010 37\n"
     ]
    },
    {
     "name": "stderr",
     "output_type": "stream",
     "text": [
      "c:\\Users\\psh2610\\AppData\\Local\\miniconda3\\lib\\site-packages\\numpy\\lib\\function_base.py:2455: RuntimeWarning: invalid value encountered in func (vectorized)\n",
      "  outputs = ufunc(*inputs)\n"
     ]
    },
    {
     "name": "stdout",
     "output_type": "stream",
     "text": [
      "2010 38\n"
     ]
    },
    {
     "name": "stderr",
     "output_type": "stream",
     "text": [
      "c:\\Users\\psh2610\\AppData\\Local\\miniconda3\\lib\\site-packages\\numpy\\lib\\function_base.py:2455: RuntimeWarning: invalid value encountered in func (vectorized)\n",
      "  outputs = ufunc(*inputs)\n"
     ]
    },
    {
     "name": "stdout",
     "output_type": "stream",
     "text": [
      "2010 39\n"
     ]
    },
    {
     "name": "stderr",
     "output_type": "stream",
     "text": [
      "c:\\Users\\psh2610\\AppData\\Local\\miniconda3\\lib\\site-packages\\numpy\\lib\\function_base.py:2455: RuntimeWarning: invalid value encountered in func (vectorized)\n",
      "  outputs = ufunc(*inputs)\n"
     ]
    },
    {
     "name": "stdout",
     "output_type": "stream",
     "text": [
      "2010 40\n"
     ]
    },
    {
     "name": "stderr",
     "output_type": "stream",
     "text": [
      "c:\\Users\\psh2610\\AppData\\Local\\miniconda3\\lib\\site-packages\\numpy\\lib\\function_base.py:2455: RuntimeWarning: invalid value encountered in func (vectorized)\n",
      "  outputs = ufunc(*inputs)\n"
     ]
    },
    {
     "name": "stdout",
     "output_type": "stream",
     "text": [
      "2010 41\n"
     ]
    },
    {
     "name": "stderr",
     "output_type": "stream",
     "text": [
      "c:\\Users\\psh2610\\AppData\\Local\\miniconda3\\lib\\site-packages\\numpy\\lib\\function_base.py:2455: RuntimeWarning: invalid value encountered in func (vectorized)\n",
      "  outputs = ufunc(*inputs)\n"
     ]
    },
    {
     "name": "stdout",
     "output_type": "stream",
     "text": [
      "2010 42\n"
     ]
    },
    {
     "name": "stderr",
     "output_type": "stream",
     "text": [
      "c:\\Users\\psh2610\\AppData\\Local\\miniconda3\\lib\\site-packages\\numpy\\lib\\function_base.py:2455: RuntimeWarning: invalid value encountered in func (vectorized)\n",
      "  outputs = ufunc(*inputs)\n"
     ]
    },
    {
     "name": "stdout",
     "output_type": "stream",
     "text": [
      "2010 43\n"
     ]
    },
    {
     "name": "stderr",
     "output_type": "stream",
     "text": [
      "c:\\Users\\psh2610\\AppData\\Local\\miniconda3\\lib\\site-packages\\numpy\\lib\\function_base.py:2455: RuntimeWarning: invalid value encountered in func (vectorized)\n",
      "  outputs = ufunc(*inputs)\n"
     ]
    },
    {
     "name": "stdout",
     "output_type": "stream",
     "text": [
      "2010 44\n"
     ]
    },
    {
     "name": "stderr",
     "output_type": "stream",
     "text": [
      "c:\\Users\\psh2610\\AppData\\Local\\miniconda3\\lib\\site-packages\\numpy\\lib\\function_base.py:2455: RuntimeWarning: invalid value encountered in func (vectorized)\n",
      "  outputs = ufunc(*inputs)\n"
     ]
    },
    {
     "name": "stdout",
     "output_type": "stream",
     "text": [
      "2010 45\n"
     ]
    },
    {
     "name": "stderr",
     "output_type": "stream",
     "text": [
      "c:\\Users\\psh2610\\AppData\\Local\\miniconda3\\lib\\site-packages\\numpy\\lib\\function_base.py:2455: RuntimeWarning: invalid value encountered in func (vectorized)\n",
      "  outputs = ufunc(*inputs)\n"
     ]
    },
    {
     "name": "stdout",
     "output_type": "stream",
     "text": [
      "2010 46\n"
     ]
    },
    {
     "name": "stderr",
     "output_type": "stream",
     "text": [
      "c:\\Users\\psh2610\\AppData\\Local\\miniconda3\\lib\\site-packages\\numpy\\lib\\function_base.py:2455: RuntimeWarning: invalid value encountered in func (vectorized)\n",
      "  outputs = ufunc(*inputs)\n"
     ]
    },
    {
     "name": "stdout",
     "output_type": "stream",
     "text": [
      "2010 47\n"
     ]
    },
    {
     "name": "stderr",
     "output_type": "stream",
     "text": [
      "c:\\Users\\psh2610\\AppData\\Local\\miniconda3\\lib\\site-packages\\numpy\\lib\\function_base.py:2455: RuntimeWarning: invalid value encountered in func (vectorized)\n",
      "  outputs = ufunc(*inputs)\n"
     ]
    },
    {
     "name": "stdout",
     "output_type": "stream",
     "text": [
      "2010 48\n"
     ]
    },
    {
     "name": "stderr",
     "output_type": "stream",
     "text": [
      "c:\\Users\\psh2610\\AppData\\Local\\miniconda3\\lib\\site-packages\\numpy\\lib\\function_base.py:2455: RuntimeWarning: invalid value encountered in func (vectorized)\n",
      "  outputs = ufunc(*inputs)\n"
     ]
    },
    {
     "name": "stdout",
     "output_type": "stream",
     "text": [
      "2010 49\n"
     ]
    },
    {
     "ename": "KeyboardInterrupt",
     "evalue": "",
     "output_type": "error",
     "traceback": [
      "\u001b[1;31m---------------------------------------------------------------------------\u001b[0m",
      "\u001b[1;31mKeyboardInterrupt\u001b[0m                         Traceback (most recent call last)",
      "Cell \u001b[1;32mIn[37], line 156\u001b[0m\n\u001b[0;32m    152\u001b[0m Tmax_day \u001b[39m=\u001b[39m Tmax\u001b[39m.\u001b[39mto_array()[\u001b[39m0\u001b[39m, j_day \u001b[39m-\u001b[39m \u001b[39m1\u001b[39m, :, :]\n\u001b[0;32m    154\u001b[0m Tmean_day \u001b[39m=\u001b[39m (Tmin_day \u001b[39m+\u001b[39m Tmax_day) \u001b[39m/\u001b[39m \u001b[39m2\u001b[39m\n\u001b[1;32m--> 156\u001b[0m ra_day \u001b[39m=\u001b[39m np\u001b[39m.\u001b[39;49mvectorize(extraterrestrial_radiation)(\n\u001b[0;32m    157\u001b[0m     inverse_relative_distance_earth_sun(\n\u001b[0;32m    158\u001b[0m         julian_date \u001b[39m=\u001b[39;49m j_day\n\u001b[0;32m    159\u001b[0m     ),\n\u001b[0;32m    160\u001b[0m     sunset_hour_angle(\n\u001b[0;32m    161\u001b[0m         latitude\u001b[39m=\u001b[39;49mconvert_degrees2radians(lat),\n\u001b[0;32m    162\u001b[0m         solar_declination \u001b[39m=\u001b[39;49m solar_declination(\n\u001b[0;32m    163\u001b[0m             julian_date \u001b[39m=\u001b[39;49m j_day\n\u001b[0;32m    164\u001b[0m         )\n\u001b[0;32m    165\u001b[0m     ),\n\u001b[0;32m    166\u001b[0m     convert_degrees2radians(\n\u001b[0;32m    167\u001b[0m         degrees \u001b[39m=\u001b[39;49m lat\n\u001b[0;32m    168\u001b[0m     ),\n\u001b[0;32m    169\u001b[0m     solar_declination(\n\u001b[0;32m    170\u001b[0m         julian_date \u001b[39m=\u001b[39;49m j_day\n\u001b[0;32m    171\u001b[0m     )            \n\u001b[0;32m    172\u001b[0m )\n\u001b[0;32m    174\u001b[0m Ra[\u001b[39m\"\u001b[39m\u001b[39mextraterrestrial_radiation\u001b[39m\u001b[39m\"\u001b[39m][j_day \u001b[39m-\u001b[39m \u001b[39m1\u001b[39m, :, :] \u001b[39m=\u001b[39m ra_day\n\u001b[0;32m    176\u001b[0m et_day_hargreaves_samani \u001b[39m=\u001b[39m np\u001b[39m.\u001b[39mvectorize(ReferenceEvapotranspiration\u001b[39m.\u001b[39mhargreaves_samani)(\n\u001b[0;32m    177\u001b[0m     tmin \u001b[39m=\u001b[39m Tmin_day,\n\u001b[0;32m    178\u001b[0m     tmax \u001b[39m=\u001b[39m Tmax_day,\n\u001b[0;32m    179\u001b[0m     tmean \u001b[39m=\u001b[39m Tmean_day,\n\u001b[0;32m    180\u001b[0m     ra \u001b[39m=\u001b[39m ra_day\n\u001b[0;32m    181\u001b[0m )\n",
      "File \u001b[1;32mc:\\Users\\psh2610\\AppData\\Local\\miniconda3\\lib\\site-packages\\numpy\\lib\\function_base.py:2372\u001b[0m, in \u001b[0;36mvectorize.__call__\u001b[1;34m(self, *args, **kwargs)\u001b[0m\n\u001b[0;32m   2369\u001b[0m     \u001b[39mself\u001b[39m\u001b[39m.\u001b[39m_init_stage_2(\u001b[39m*\u001b[39margs, \u001b[39m*\u001b[39m\u001b[39m*\u001b[39mkwargs)\n\u001b[0;32m   2370\u001b[0m     \u001b[39mreturn\u001b[39;00m \u001b[39mself\u001b[39m\n\u001b[1;32m-> 2372\u001b[0m \u001b[39mreturn\u001b[39;00m \u001b[39mself\u001b[39m\u001b[39m.\u001b[39m_call_as_normal(\u001b[39m*\u001b[39margs, \u001b[39m*\u001b[39m\u001b[39m*\u001b[39mkwargs)\n",
      "File \u001b[1;32mc:\\Users\\psh2610\\AppData\\Local\\miniconda3\\lib\\site-packages\\numpy\\lib\\function_base.py:2365\u001b[0m, in \u001b[0;36mvectorize._call_as_normal\u001b[1;34m(self, *args, **kwargs)\u001b[0m\n\u001b[0;32m   2362\u001b[0m     vargs \u001b[39m=\u001b[39m [args[_i] \u001b[39mfor\u001b[39;00m _i \u001b[39min\u001b[39;00m inds]\n\u001b[0;32m   2363\u001b[0m     vargs\u001b[39m.\u001b[39mextend([kwargs[_n] \u001b[39mfor\u001b[39;00m _n \u001b[39min\u001b[39;00m names])\n\u001b[1;32m-> 2365\u001b[0m \u001b[39mreturn\u001b[39;00m \u001b[39mself\u001b[39;49m\u001b[39m.\u001b[39;49m_vectorize_call(func\u001b[39m=\u001b[39;49mfunc, args\u001b[39m=\u001b[39;49mvargs)\n",
      "File \u001b[1;32mc:\\Users\\psh2610\\AppData\\Local\\miniconda3\\lib\\site-packages\\numpy\\lib\\function_base.py:2455\u001b[0m, in \u001b[0;36mvectorize._vectorize_call\u001b[1;34m(self, func, args)\u001b[0m\n\u001b[0;32m   2452\u001b[0m \u001b[39m# Convert args to object arrays first\u001b[39;00m\n\u001b[0;32m   2453\u001b[0m inputs \u001b[39m=\u001b[39m [asanyarray(a, dtype\u001b[39m=\u001b[39m\u001b[39mobject\u001b[39m) \u001b[39mfor\u001b[39;00m a \u001b[39min\u001b[39;00m args]\n\u001b[1;32m-> 2455\u001b[0m outputs \u001b[39m=\u001b[39m ufunc(\u001b[39m*\u001b[39;49minputs)\n\u001b[0;32m   2457\u001b[0m \u001b[39mif\u001b[39;00m ufunc\u001b[39m.\u001b[39mnout \u001b[39m==\u001b[39m \u001b[39m1\u001b[39m:\n\u001b[0;32m   2458\u001b[0m     res \u001b[39m=\u001b[39m asanyarray(outputs, dtype\u001b[39m=\u001b[39motypes[\u001b[39m0\u001b[39m])\n",
      "File \u001b[1;32mD:\\mehdi\\WaterBalance_new\\qdwb\\evapotranspiration\\asset.py:307\u001b[0m, in \u001b[0;36mextraterrestrial_radiation\u001b[1;34m(inverse_relative_distance_earth_sun, sunset_hour_angle, latitude, solar_declination)\u001b[0m\n\u001b[0;32m    303\u001b[0m temp_1 \u001b[39m=\u001b[39m ((\u001b[39m24\u001b[39m \u001b[39m*\u001b[39m \u001b[39m60\u001b[39m )\u001b[39m/\u001b[39m np\u001b[39m.\u001b[39mpi) \u001b[39m*\u001b[39m SOLAR_CONSTANT \u001b[39m*\u001b[39m inverse_relative_distance_earth_sun\n\u001b[0;32m    305\u001b[0m temp_2 \u001b[39m=\u001b[39m sunset_hour_angle \u001b[39m*\u001b[39m np\u001b[39m.\u001b[39msin(latitude) \u001b[39m*\u001b[39m np\u001b[39m.\u001b[39msin(solar_declination)\n\u001b[1;32m--> 307\u001b[0m temp_3 \u001b[39m=\u001b[39m np\u001b[39m.\u001b[39mcos(latitude)\u001b[39m*\u001b[39m np\u001b[39m.\u001b[39;49mcos(solar_declination) \u001b[39m*\u001b[39m np\u001b[39m.\u001b[39msin(sunset_hour_angle)\n\u001b[0;32m    309\u001b[0m \u001b[39mreturn\u001b[39;00m temp_1 \u001b[39m*\u001b[39m (temp_2 \u001b[39m+\u001b[39m temp_3)\n",
      "\u001b[1;31mKeyboardInterrupt\u001b[0m: "
     ]
    }
   ],
   "source": [
    "selected_years = [2010, 2011]\n",
    "\n",
    "with open(\"D:\\mehdi\\DailyData\\land_use.pkl\", \"rb\") as f:\n",
    "    land_use = pickle.load(f)\n",
    "land_use = land_use.rename({'x': 'lon','y': 'lat'})\n",
    "\n",
    "wp = xr.open_dataset(\"D:\\mehdi\\DailyData\\wilting_point_1979001.nc\")\n",
    "wp = wp.rename({'x': 'lon','y': 'lat'})\n",
    "\n",
    "fc = xr.open_dataset(\"D:\\mehdi\\DailyData\\coefficient_field_capacity_1979001.nc\")\n",
    "fc = fc.rename({'x': 'lon','y': 'lat'})\n",
    "\n",
    "cn = xr.open_dataset(\"D:\\mehdi\\DailyData\\curve_number_1979001.nc\")\n",
    "\n",
    "cn = cn.fillna(0)\n",
    "cn = cn.rename({'x': 'lon','y': 'lat'})\n",
    "\n",
    "for year in selected_years:\n",
    "    \n",
    "    Pre = xr.open_dataset(f\"{data_path}{list_files['P'][list_files['P']['year'] == year]['file'].values[0]}\")    \n",
    "    Tmin = xr.open_dataset(f\"{data_path}{list_files['Tmin'][list_files['Tmin']['year'] == year]['file'].values[0]}\")    \n",
    "    Tmax = xr.open_dataset(f\"{data_path}{list_files['Tmax'][list_files['Tmax']['year'] == year]['file'].values[0]}\")    \n",
    "    lat = np.repeat(Tmin.lat, Tmin.lon.size).values.reshape(Tmin.lat.size, Tmin.lon.size)    \n",
    "    lon = np.repeat(Tmin.lon, Tmin.lat.size).values.reshape(Tmin.lat.size, Tmin.lon.size)\n",
    "    \n",
    "    tmpDataArray = Tmin.copy(deep = True)\n",
    "    tmpDataArray = tmpDataArray.rename({'air_temperature': 'temp'})\n",
    "    tmpDataArray[\"temp\"].values = np.empty(shape=tmpDataArray[\"temp\"].shape)\n",
    "        \n",
    "    Ra = tmpDataArray.copy(deep = True)    \n",
    "    Ra = Ra.rename({'temp': 'extraterrestrial_radiation'})\n",
    "    \n",
    "    ET = tmpDataArray.copy(deep = True)    \n",
    "    ET = ET.rename({'temp': 'et_hargreaves_samani'})\n",
    "    \n",
    "    TE = tmpDataArray.copy(deep = True)    \n",
    "    TE = TE.rename({'temp': 'total_evaporable_water'})\n",
    "    \n",
    "    MRF = tmpDataArray.copy(deep = True)    \n",
    "    MRF = MRF.rename({'temp': 'moisture_reduction_function'})\n",
    "    \n",
    "    f_adjusted = tmpDataArray.copy(deep = True)    \n",
    "    f_adjusted = f_adjusted.rename({'temp': 'moisture_reduction_function'})\n",
    "    \n",
    "    ET_actual = tmpDataArray.copy(deep = True)    \n",
    "    ET_actual = ET_actual.rename({'temp': 'actual_evapotranspiration'})\n",
    "    \n",
    "    K_E = tmpDataArray.copy(deep = True)    \n",
    "    K_E = K_E.rename({'temp': 'available_evaporable_water'})\n",
    "    \n",
    "    E_actual = tmpDataArray.copy(deep = True)    \n",
    "    E_actual = E_actual.rename({'temp': 'actual_evaporation'})\n",
    "    \n",
    "    ET_total_actual = tmpDataArray.copy(deep = True)    \n",
    "    ET_total_actual = ET_total_actual.rename({'temp': 'total_actual_evapotranspiration'})\n",
    "    \n",
    "    RUN_OFF = tmpDataArray.copy(deep = True)    \n",
    "    RUN_OFF = RUN_OFF.rename({'temp': 'runoff'})\n",
    "    \n",
    "    INFILTRATION = tmpDataArray.copy(deep = True)    \n",
    "    INFILTRATION = INFILTRATION.rename({'temp': 'infiltration'})\n",
    "    \n",
    "    CROP_COEFFICIENT = tmpDataArray.copy(deep = True)    \n",
    "    CROP_COEFFICIENT = CROP_COEFFICIENT.rename({'temp': 'crop_coefficient'})\n",
    "    \n",
    "    SWC_EVAPORATION = tmpDataArray.copy(deep = True)    \n",
    "    SWC_EVAPORATION = SWC_EVAPORATION.rename({'temp': 'current_swc_evaporation_layer'})\n",
    "    \n",
    "    SWC_TRANSPIRATION = tmpDataArray.copy(deep = True)    \n",
    "    SWC_TRANSPIRATION = SWC_TRANSPIRATION.rename({'temp': 'current_swc_transpiration_layer'})\n",
    "    \n",
    "    SWC_TRANSITION = tmpDataArray.copy(deep = True)    \n",
    "    SWC_TRANSITION = SWC_TRANSITION.rename({'temp': 'current_swc_transition_layer'})\n",
    "    \n",
    "    EVAPORATION_TO_TRANSPIRATION = tmpDataArray.copy(deep = True)    \n",
    "    EVAPORATION_TO_TRANSPIRATION = EVAPORATION_TO_TRANSPIRATION.rename({'temp': 'current_evaporation_layer_to_transpiration_layer'})\n",
    "    \n",
    "    EVAPORATION_TO_TRANSITION = tmpDataArray.copy(deep = True)    \n",
    "    EVAPORATION_TO_TRANSITION = EVAPORATION_TO_TRANSITION.rename({'temp': 'current_evaporation_layer_to_transition_layer'})\n",
    "    \n",
    "    TRANSPIRATION_TO_TRANSITION = tmpDataArray.copy(deep = True)    \n",
    "    TRANSPIRATION_TO_TRANSITION = TRANSPIRATION_TO_TRANSITION.rename({'temp': 'current_transpiration_layer_to_transition_layer'})\n",
    "    \n",
    "    TRANSPIRATION_ADJUSTED = tmpDataArray.copy(deep = True)    \n",
    "    TRANSPIRATION_ADJUSTED = TRANSPIRATION_ADJUSTED.rename({'temp': 'transpiration'})\n",
    "    \n",
    "    EVAPORATION_ADJUSTED = tmpDataArray.copy(deep = True)    \n",
    "    EVAPORATION_ADJUSTED = EVAPORATION_ADJUSTED.rename({'temp': 'evaporation'})\n",
    "    \n",
    "    IRRIGATION_REQUIREMENT = tmpDataArray.copy(deep = True)    \n",
    "    IRRIGATION_REQUIREMENT = IRRIGATION_REQUIREMENT.rename({'temp': 'irrigation_requirement'})\n",
    "    \n",
    "    DEEP_PERCOLATION = tmpDataArray.copy(deep = True)    \n",
    "    DEEP_PERCOLATION = DEEP_PERCOLATION.rename({'temp': 'deepPercolation'})\n",
    "    \n",
    "    for j_day in range(1, Tmin.time.size + 1):\n",
    "        \n",
    "        print(year, j_day)\n",
    "        \n",
    "        if year == selected_years[0] and j_day == 1:\n",
    "            soil_water_content = xr.open_dataset(\"D:\\mehdi\\DailyData\\soil_water_content_1979001.nc\")        \n",
    "            soil_water_content = soil_water_content.fillna(0)         \n",
    "            soil_water_content = soil_water_content.rename({'x': 'lon','y': 'lat'})\n",
    "            \n",
    "            soil_water_content_evaporation = soil_water_content[\"volumetric_soil_water_layer_1\"].sel(time = \"1979-01-01\")[:, :]\n",
    "            soil_water_content_transpiration = soil_water_content[\"volumetric_soil_water_layer_2\"] + soil_water_content[\"volumetric_soil_water_layer_3\"]\n",
    "            soil_water_content_transpiration = soil_water_content_transpiration.sel(time = \"1979-01-01\")[:, :]\n",
    "            soil_water_content_transition = soil_water_content[\"volumetric_soil_water_layer_4\"].sel(time = \"1979-01-01\")[:, :]\n",
    "            \n",
    "            \n",
    "            \n",
    "            constant_value_for_AE = 6\n",
    "            # AE = xr.Dataset(\n",
    "            #     data_vars={\n",
    "            #         \"available_evaporable_water\": ((\"time\", \"lat\", \"lon\"), np.full((len(soil_water_content.time), len(soil_water_content.lat), len(soil_water_content.lon)), constant_value_for_AE))\n",
    "            #     },\n",
    "            #     coords={\n",
    "            #         \"lat\": soil_water_content.lat,\n",
    "            #         \"lon\": soil_water_content.lon,\n",
    "            #         \"time\": soil_water_content.time\n",
    "            #     },\n",
    "            # )\n",
    "            # AE = AE.to_array()\n",
    "            \n",
    "            AE = np.zeros((len(soil_water_content.lat), len(soil_water_content.lon))) + constant_value_for_AE\n",
    "                    \n",
    "        else:\n",
    "            \n",
    "            soil_water_content_evaporation = soil_water_content_day[0]\n",
    "            soil_water_content_evaporation = np.vectorize(lambda d: 0 if np.isnan(d) else d)(\n",
    "                d = soil_water_content_evaporation\n",
    "            )\n",
    "            soil_water_content_transpiration = soil_water_content_day[1]\n",
    "            soil_water_content_transition = soil_water_content_day[2]\n",
    "            \n",
    "            # TODO: AE???\n",
    "            AE = np.vectorize(available_evaporable_water)(\n",
    "                e_a = e_actual_day,\n",
    "                infiltration = run_off_and_infiltration_day[1],\n",
    "                available_evaporable_water_in_previous_step = available_evaporable_water_day\n",
    "            )\n",
    "            \n",
    "\n",
    "        \n",
    "        date_object = datetime.datetime.strptime(f\"{year}{j_day}\", '%Y%j').date()\n",
    "        model_date = date_object.strftime(\"%Y-%m-%d\")\n",
    "        \n",
    "        pre_day = Pre.to_array()[0, j_day - 1, :, :]\n",
    "        \n",
    "        Tmin_day = Tmin.to_array()[0, j_day - 1, :, :]\n",
    "        \n",
    "        Tmax_day = Tmax.to_array()[0, j_day - 1, :, :]\n",
    "        \n",
    "        Tmean_day = (Tmin_day + Tmax_day) / 2\n",
    "        \n",
    "        ra_day = np.vectorize(extraterrestrial_radiation)(\n",
    "            inverse_relative_distance_earth_sun(\n",
    "                julian_date = j_day\n",
    "            ),\n",
    "            sunset_hour_angle(\n",
    "                latitude=convert_degrees2radians(lat),\n",
    "                solar_declination = solar_declination(\n",
    "                    julian_date = j_day\n",
    "                )\n",
    "            ),\n",
    "            convert_degrees2radians(\n",
    "                degrees = lat\n",
    "            ),\n",
    "            solar_declination(\n",
    "                julian_date = j_day\n",
    "            )            \n",
    "        )\n",
    "        \n",
    "        Ra[\"extraterrestrial_radiation\"][j_day - 1, :, :] = ra_day\n",
    "                \n",
    "        et_day_hargreaves_samani = np.vectorize(ReferenceEvapotranspiration.hargreaves_samani)(\n",
    "            tmin = Tmin_day,\n",
    "            tmax = Tmax_day,\n",
    "            tmean = Tmean_day,\n",
    "            ra = ra_day\n",
    "        )\n",
    "        et_day_hargreaves_samani = np.vectorize(lambda d: 0 if d < 0 else d)(\n",
    "            d = et_day_hargreaves_samani\n",
    "        )\n",
    "        \n",
    "        ET[\"et_hargreaves_samani\"][j_day - 1, :, :] = et_day_hargreaves_samani\n",
    "        \n",
    "        total_evaporable_water_day = np.vectorize(available_water)(\n",
    "            permanent_wilting_point_wet = wp[\"b0\"].sel(time = \"1979-01-01\")[:, :],\n",
    "            field_capacity_wet = fc[\"b0\"].sel(time = \"1979-01-01\")[:, :],\n",
    "            soil_depth = land_use[\"Maximum Crop Height (h) (m)\"].sel(time = \"2022-01-01\")[:, :]*1000\n",
    "        )\n",
    "        \n",
    "        TE[\"total_evaporable_water\"][j_day - 1, :, :] = total_evaporable_water_day\n",
    "        \n",
    "        \n",
    "        \n",
    "        f_day = np.vectorize(moisture_reduction_function)(\n",
    "            soil_wetness_in_previous_step = soil_water_content_transpiration,\n",
    "            permanent_wilting_point_wet = wp[\"b0\"].sel(time = \"1979-01-01\")[:, :],\n",
    "            field_capacity_wet = fc[\"b0\"].sel(time = \"1979-01-01\")[:, :],\n",
    "            soil_depth = land_use[\"Maximum Crop Height (h) (m)\"].sel(time = \"2022-01-01\")[:, :]*1000\n",
    "        )\n",
    "        MRF[\"moisture_reduction_function\"][j_day - 1, :, :] = f_day\n",
    "        \n",
    "        f_adjusted_day = np.vectorize(lambda d: 0 if d < 0 else d)(\n",
    "            d = f_day\n",
    "        )\n",
    "        \n",
    "        f_adjusted[\"moisture_reduction_function\"][j_day - 1, :, :] = f_adjusted_day\n",
    "        \n",
    "        plant_date_day = np.vectorize(generate_date)(\n",
    "            x = land_use['Plant Date'].sel(time = \"2022-01-01\")[:,:],\n",
    "            year = year\n",
    "        )\n",
    "        plant_date_day = np.where(plant_date_day == \"nan\", pd.NA, plant_date_day)\n",
    "        \n",
    "        crop_coefficient_day = np.vectorize(PotentialEvapotranspiration.calculate_single_crop_coefficient_for_linear_changes_steps)(\n",
    "            crop_coefficient_ini = land_use[\"Kc init\"].sel(time = \"2022-01-01\")[:,:],\n",
    "            crop_coefficient_mid = land_use[\"Kc mid\"].sel(time = \"2022-01-01\")[:,:],\n",
    "            crop_coefficient_end = land_use[\"Kc end\"].sel(time = \"2022-01-01\")[:,:],\n",
    "            length_ini_crop = land_use[\"Init. (Lini)\"].sel(time = \"2022-01-01\")[:,:],\n",
    "            length_dev_crop = land_use[\"Dev. (Ldev)\"].sel(time = \"2022-01-01\")[:,:],\n",
    "            length_mid_crop = land_use[\"Mid (Lmid)\"].sel(time = \"2022-01-01\")[:,:],\n",
    "            length_late_crop = land_use[\"Late (Llate)\"].sel(time = \"2022-01-01\")[:,:],\n",
    "            plant_date = plant_date_day[:,:],\n",
    "            modeling_date = model_date\n",
    "        )\n",
    "        \n",
    "        \n",
    "        CROP_COEFFICIENT[\"crop_coefficient\"][j_day - 1, :, :] = crop_coefficient_day\n",
    "        \n",
    "        \n",
    "        et_actual_day = np.vectorize(ActualEvapotranspiration.et_covered)(\n",
    "            moisture_reduction_function = f_adjusted_day,\n",
    "            crop_coefficient = CROP_COEFFICIENT[\"crop_coefficient\"].sel(time = model_date)[:,:],\n",
    "            crop_cover = 0.4,\n",
    "            reference_crop_evapotranspiration = et_day_hargreaves_samani\n",
    "        )\n",
    "        ET_actual[\"actual_evapotranspiration\"][j_day - 1, :, :] = et_actual_day\n",
    "        \n",
    "        \n",
    "        available_evaporable_water_day = AE\n",
    "        # available_evaporable_water_day = AE[:, :]\n",
    "        \n",
    "        k_e_day = np.vectorize(ratio_of_actual_evaporable_water_to_total_evaporable_water)(\n",
    "            available_water = total_evaporable_water_day,\n",
    "            available_evaporable_water = available_evaporable_water_day\n",
    "        )\n",
    "        \n",
    "        K_E[\"available_evaporable_water\"][j_day - 1, :, :] = k_e_day\n",
    "        \n",
    "        \n",
    "        e_actual_day = np.vectorize(ActualEvapotranspiration.e_noncovered)(\n",
    "            ratio_of_actual_evaporable_water_to_total_evaporable_water = k_e_day,\n",
    "            crop_cover = 0.4,\n",
    "            reference_crop_evapotranspiration = et_day_hargreaves_samani\n",
    "        )\n",
    "        \n",
    "        E_actual[\"actual_evaporation\"][j_day - 1, :, :] = e_actual_day\n",
    "        \n",
    "        et_total_actual_day = np.vectorize(ActualEvapotranspiration.et_QDWB)(\n",
    "            evaporation_noncovered_areas = e_actual_day,\n",
    "            evapotranspiration_covered_areas = et_actual_day\n",
    "        )\n",
    "        \n",
    "        ET_total_actual[\"total_actual_evapotranspiration\"][j_day - 1, :, :] = et_total_actual_day\n",
    "        \n",
    "        # ### run off\n",
    "        \n",
    "        run_off_and_infiltration_day = np.vectorize(PrimarySurfaceFlow.scs)(\n",
    "            precipitation = pre_day,\n",
    "            curve_number = cn[\"dry\"].sel(time = \"1979-01-01\")[:, :],\n",
    "            rsa = True,\n",
    "            antecedent_precipitation = soil_water_content_evaporation,\n",
    "            is_growing_season = True\n",
    "        )\n",
    "        RUN_OFF[\"runoff\"][j_day - 1, :, :] = run_off_and_infiltration_day[0]\n",
    "        \n",
    "        INFILTRATION[\"infiltration\"][j_day - 1, :, :] = run_off_and_infiltration_day[1]\n",
    "        \n",
    "        ### soil water content\n",
    "\n",
    "        \n",
    "        soil_water_content_day = np.vectorize(waterSoilContent)(\n",
    "            covered = land_use[\"cultivated\"].sel(time = \"2022-01-01\")[:,:],\n",
    "            infiltration= run_off_and_infiltration_day[1],\n",
    "            evaporation= e_actual_day,\n",
    "            init_swc_evaporation_layer = soil_water_content_evaporation,\n",
    "            init_swc_transition_layer = soil_water_content_transition,\n",
    "            z_evaporation_layer = 100,\n",
    "            z_transition_layer = 1000,\n",
    "            fc_evaporation_layer = fc[\"b10\"].sel(time = \"1979-01-01\")[:, :],\n",
    "            fc_transition_layer = fc[\"b200\"].sel(time = \"1979-01-01\")[:, :],\n",
    "            pwp_evaporation_layer = wp[\"b10\"].sel(time = \"1979-01-01\")[:, :],\n",
    "            pwp_transition_layer = wp[\"b200\"].sel(time = \"1979-01-01\")[:, :],\n",
    "            stress_coefficient = 0.7,\n",
    "            MAD = 0.3,\n",
    "            transpiration = et_actual_day,\n",
    "            init_swc_transpiration_layer = soil_water_content_transpiration,\n",
    "            pwp_transpiration_layer = wp[\"b100\"].sel(time = \"1979-01-01\")[:, :],\n",
    "            z_transpiration_layer = land_use[\"Maximum Crop Height (h) (m)\"].sel(time = \"2022-01-01\")[:, :]*1000,\n",
    "            fc_transpiration_layer = fc[\"b100\"].sel(time = \"1979-01-01\")[:, :]\n",
    "        )\n",
    "        \n",
    "        SWC_EVAPORATION[\"current_swc_evaporation_layer\"][j_day - 1, :, :] = soil_water_content_day[0]\n",
    "        SWC_TRANSPIRATION[\"current_swc_transpiration_layer\"][j_day - 1, :, :] = soil_water_content_day[1]\n",
    "        SWC_TRANSITION[\"current_swc_transition_layer\"][j_day - 1, :, :] = soil_water_content_day[2]\n",
    "        EVAPORATION_TO_TRANSPIRATION[\"current_evaporation_layer_to_transpiration_layer\"][j_day - 1, :, :] = soil_water_content_day[3]\n",
    "        EVAPORATION_TO_TRANSITION[\"current_evaporation_layer_to_transition_layer\"][j_day - 1, :, :] = soil_water_content_day[4]\n",
    "        TRANSPIRATION_TO_TRANSITION[\"current_transpiration_layer_to_transition_layer\"][j_day - 1, :, :] = soil_water_content_day[5]\n",
    "        TRANSPIRATION_ADJUSTED[\"transpiration\"][j_day - 1, :, :] = soil_water_content_day[6]\n",
    "        EVAPORATION_ADJUSTED[\"evaporation\"][j_day - 1, :, :] = soil_water_content_day[7]\n",
    "        IRRIGATION_REQUIREMENT[\"irrigation_requirement\"][j_day - 1, :, :] = soil_water_content_day[8]\n",
    "        DEEP_PERCOLATION[\"deepPercolation\"][j_day - 1, :, :] = soil_water_content_day[9]\n",
    "        \n",
    "        \n",
    "    \n",
    "        \n",
    "        \n",
    "        # break\n",
    "    # Ra.to_netcdf(f\"{data_path}Ra_{year}.nc\")\n",
    "    \n",
    "    # ET.to_netcdf(f\"{data_path}ET_{year}.nc\")\n",
    "        \n",
    "    \n",
    "    break\n"
   ]
  },
  {
   "cell_type": "code",
   "execution_count": null,
   "metadata": {},
   "outputs": [],
   "source": [
    "soil_water_content_evaporation = np.vectorize(lambda d: 0 if np.isnan(d) else d)(\n",
    "    d = soil_water_content_evaporation\n",
    ")"
   ]
  },
  {
   "cell_type": "code",
   "execution_count": 73,
   "metadata": {},
   "outputs": [
    {
     "data": {
      "text/html": [
       "<div><svg style=\"position: absolute; width: 0; height: 0; overflow: hidden\">\n",
       "<defs>\n",
       "<symbol id=\"icon-database\" viewBox=\"0 0 32 32\">\n",
       "<path d=\"M16 0c-8.837 0-16 2.239-16 5v4c0 2.761 7.163 5 16 5s16-2.239 16-5v-4c0-2.761-7.163-5-16-5z\"></path>\n",
       "<path d=\"M16 17c-8.837 0-16-2.239-16-5v6c0 2.761 7.163 5 16 5s16-2.239 16-5v-6c0 2.761-7.163 5-16 5z\"></path>\n",
       "<path d=\"M16 26c-8.837 0-16-2.239-16-5v6c0 2.761 7.163 5 16 5s16-2.239 16-5v-6c0 2.761-7.163 5-16 5z\"></path>\n",
       "</symbol>\n",
       "<symbol id=\"icon-file-text2\" viewBox=\"0 0 32 32\">\n",
       "<path d=\"M28.681 7.159c-0.694-0.947-1.662-2.053-2.724-3.116s-2.169-2.030-3.116-2.724c-1.612-1.182-2.393-1.319-2.841-1.319h-15.5c-1.378 0-2.5 1.121-2.5 2.5v27c0 1.378 1.122 2.5 2.5 2.5h23c1.378 0 2.5-1.122 2.5-2.5v-19.5c0-0.448-0.137-1.23-1.319-2.841zM24.543 5.457c0.959 0.959 1.712 1.825 2.268 2.543h-4.811v-4.811c0.718 0.556 1.584 1.309 2.543 2.268zM28 29.5c0 0.271-0.229 0.5-0.5 0.5h-23c-0.271 0-0.5-0.229-0.5-0.5v-27c0-0.271 0.229-0.5 0.5-0.5 0 0 15.499-0 15.5 0v7c0 0.552 0.448 1 1 1h7v19.5z\"></path>\n",
       "<path d=\"M23 26h-14c-0.552 0-1-0.448-1-1s0.448-1 1-1h14c0.552 0 1 0.448 1 1s-0.448 1-1 1z\"></path>\n",
       "<path d=\"M23 22h-14c-0.552 0-1-0.448-1-1s0.448-1 1-1h14c0.552 0 1 0.448 1 1s-0.448 1-1 1z\"></path>\n",
       "<path d=\"M23 18h-14c-0.552 0-1-0.448-1-1s0.448-1 1-1h14c0.552 0 1 0.448 1 1s-0.448 1-1 1z\"></path>\n",
       "</symbol>\n",
       "</defs>\n",
       "</svg>\n",
       "<style>/* CSS stylesheet for displaying xarray objects in jupyterlab.\n",
       " *\n",
       " */\n",
       "\n",
       ":root {\n",
       "  --xr-font-color0: var(--jp-content-font-color0, rgba(0, 0, 0, 1));\n",
       "  --xr-font-color2: var(--jp-content-font-color2, rgba(0, 0, 0, 0.54));\n",
       "  --xr-font-color3: var(--jp-content-font-color3, rgba(0, 0, 0, 0.38));\n",
       "  --xr-border-color: var(--jp-border-color2, #e0e0e0);\n",
       "  --xr-disabled-color: var(--jp-layout-color3, #bdbdbd);\n",
       "  --xr-background-color: var(--jp-layout-color0, white);\n",
       "  --xr-background-color-row-even: var(--jp-layout-color1, white);\n",
       "  --xr-background-color-row-odd: var(--jp-layout-color2, #eeeeee);\n",
       "}\n",
       "\n",
       "html[theme=dark],\n",
       "body[data-theme=dark],\n",
       "body.vscode-dark {\n",
       "  --xr-font-color0: rgba(255, 255, 255, 1);\n",
       "  --xr-font-color2: rgba(255, 255, 255, 0.54);\n",
       "  --xr-font-color3: rgba(255, 255, 255, 0.38);\n",
       "  --xr-border-color: #1F1F1F;\n",
       "  --xr-disabled-color: #515151;\n",
       "  --xr-background-color: #111111;\n",
       "  --xr-background-color-row-even: #111111;\n",
       "  --xr-background-color-row-odd: #313131;\n",
       "}\n",
       "\n",
       ".xr-wrap {\n",
       "  display: block !important;\n",
       "  min-width: 300px;\n",
       "  max-width: 700px;\n",
       "}\n",
       "\n",
       ".xr-text-repr-fallback {\n",
       "  /* fallback to plain text repr when CSS is not injected (untrusted notebook) */\n",
       "  display: none;\n",
       "}\n",
       "\n",
       ".xr-header {\n",
       "  padding-top: 6px;\n",
       "  padding-bottom: 6px;\n",
       "  margin-bottom: 4px;\n",
       "  border-bottom: solid 1px var(--xr-border-color);\n",
       "}\n",
       "\n",
       ".xr-header > div,\n",
       ".xr-header > ul {\n",
       "  display: inline;\n",
       "  margin-top: 0;\n",
       "  margin-bottom: 0;\n",
       "}\n",
       "\n",
       ".xr-obj-type,\n",
       ".xr-array-name {\n",
       "  margin-left: 2px;\n",
       "  margin-right: 10px;\n",
       "}\n",
       "\n",
       ".xr-obj-type {\n",
       "  color: var(--xr-font-color2);\n",
       "}\n",
       "\n",
       ".xr-sections {\n",
       "  padding-left: 0 !important;\n",
       "  display: grid;\n",
       "  grid-template-columns: 150px auto auto 1fr 20px 20px;\n",
       "}\n",
       "\n",
       ".xr-section-item {\n",
       "  display: contents;\n",
       "}\n",
       "\n",
       ".xr-section-item input {\n",
       "  display: none;\n",
       "}\n",
       "\n",
       ".xr-section-item input + label {\n",
       "  color: var(--xr-disabled-color);\n",
       "}\n",
       "\n",
       ".xr-section-item input:enabled + label {\n",
       "  cursor: pointer;\n",
       "  color: var(--xr-font-color2);\n",
       "}\n",
       "\n",
       ".xr-section-item input:enabled + label:hover {\n",
       "  color: var(--xr-font-color0);\n",
       "}\n",
       "\n",
       ".xr-section-summary {\n",
       "  grid-column: 1;\n",
       "  color: var(--xr-font-color2);\n",
       "  font-weight: 500;\n",
       "}\n",
       "\n",
       ".xr-section-summary > span {\n",
       "  display: inline-block;\n",
       "  padding-left: 0.5em;\n",
       "}\n",
       "\n",
       ".xr-section-summary-in:disabled + label {\n",
       "  color: var(--xr-font-color2);\n",
       "}\n",
       "\n",
       ".xr-section-summary-in + label:before {\n",
       "  display: inline-block;\n",
       "  content: '►';\n",
       "  font-size: 11px;\n",
       "  width: 15px;\n",
       "  text-align: center;\n",
       "}\n",
       "\n",
       ".xr-section-summary-in:disabled + label:before {\n",
       "  color: var(--xr-disabled-color);\n",
       "}\n",
       "\n",
       ".xr-section-summary-in:checked + label:before {\n",
       "  content: '▼';\n",
       "}\n",
       "\n",
       ".xr-section-summary-in:checked + label > span {\n",
       "  display: none;\n",
       "}\n",
       "\n",
       ".xr-section-summary,\n",
       ".xr-section-inline-details {\n",
       "  padding-top: 4px;\n",
       "  padding-bottom: 4px;\n",
       "}\n",
       "\n",
       ".xr-section-inline-details {\n",
       "  grid-column: 2 / -1;\n",
       "}\n",
       "\n",
       ".xr-section-details {\n",
       "  display: none;\n",
       "  grid-column: 1 / -1;\n",
       "  margin-bottom: 5px;\n",
       "}\n",
       "\n",
       ".xr-section-summary-in:checked ~ .xr-section-details {\n",
       "  display: contents;\n",
       "}\n",
       "\n",
       ".xr-array-wrap {\n",
       "  grid-column: 1 / -1;\n",
       "  display: grid;\n",
       "  grid-template-columns: 20px auto;\n",
       "}\n",
       "\n",
       ".xr-array-wrap > label {\n",
       "  grid-column: 1;\n",
       "  vertical-align: top;\n",
       "}\n",
       "\n",
       ".xr-preview {\n",
       "  color: var(--xr-font-color3);\n",
       "}\n",
       "\n",
       ".xr-array-preview,\n",
       ".xr-array-data {\n",
       "  padding: 0 5px !important;\n",
       "  grid-column: 2;\n",
       "}\n",
       "\n",
       ".xr-array-data,\n",
       ".xr-array-in:checked ~ .xr-array-preview {\n",
       "  display: none;\n",
       "}\n",
       "\n",
       ".xr-array-in:checked ~ .xr-array-data,\n",
       ".xr-array-preview {\n",
       "  display: inline-block;\n",
       "}\n",
       "\n",
       ".xr-dim-list {\n",
       "  display: inline-block !important;\n",
       "  list-style: none;\n",
       "  padding: 0 !important;\n",
       "  margin: 0;\n",
       "}\n",
       "\n",
       ".xr-dim-list li {\n",
       "  display: inline-block;\n",
       "  padding: 0;\n",
       "  margin: 0;\n",
       "}\n",
       "\n",
       ".xr-dim-list:before {\n",
       "  content: '(';\n",
       "}\n",
       "\n",
       ".xr-dim-list:after {\n",
       "  content: ')';\n",
       "}\n",
       "\n",
       ".xr-dim-list li:not(:last-child):after {\n",
       "  content: ',';\n",
       "  padding-right: 5px;\n",
       "}\n",
       "\n",
       ".xr-has-index {\n",
       "  font-weight: bold;\n",
       "}\n",
       "\n",
       ".xr-var-list,\n",
       ".xr-var-item {\n",
       "  display: contents;\n",
       "}\n",
       "\n",
       ".xr-var-item > div,\n",
       ".xr-var-item label,\n",
       ".xr-var-item > .xr-var-name span {\n",
       "  background-color: var(--xr-background-color-row-even);\n",
       "  margin-bottom: 0;\n",
       "}\n",
       "\n",
       ".xr-var-item > .xr-var-name:hover span {\n",
       "  padding-right: 5px;\n",
       "}\n",
       "\n",
       ".xr-var-list > li:nth-child(odd) > div,\n",
       ".xr-var-list > li:nth-child(odd) > label,\n",
       ".xr-var-list > li:nth-child(odd) > .xr-var-name span {\n",
       "  background-color: var(--xr-background-color-row-odd);\n",
       "}\n",
       "\n",
       ".xr-var-name {\n",
       "  grid-column: 1;\n",
       "}\n",
       "\n",
       ".xr-var-dims {\n",
       "  grid-column: 2;\n",
       "}\n",
       "\n",
       ".xr-var-dtype {\n",
       "  grid-column: 3;\n",
       "  text-align: right;\n",
       "  color: var(--xr-font-color2);\n",
       "}\n",
       "\n",
       ".xr-var-preview {\n",
       "  grid-column: 4;\n",
       "}\n",
       "\n",
       ".xr-index-preview {\n",
       "  grid-column: 2 / 5;\n",
       "  color: var(--xr-font-color2);\n",
       "}\n",
       "\n",
       ".xr-var-name,\n",
       ".xr-var-dims,\n",
       ".xr-var-dtype,\n",
       ".xr-preview,\n",
       ".xr-attrs dt {\n",
       "  white-space: nowrap;\n",
       "  overflow: hidden;\n",
       "  text-overflow: ellipsis;\n",
       "  padding-right: 10px;\n",
       "}\n",
       "\n",
       ".xr-var-name:hover,\n",
       ".xr-var-dims:hover,\n",
       ".xr-var-dtype:hover,\n",
       ".xr-attrs dt:hover {\n",
       "  overflow: visible;\n",
       "  width: auto;\n",
       "  z-index: 1;\n",
       "}\n",
       "\n",
       ".xr-var-attrs,\n",
       ".xr-var-data,\n",
       ".xr-index-data {\n",
       "  display: none;\n",
       "  background-color: var(--xr-background-color) !important;\n",
       "  padding-bottom: 5px !important;\n",
       "}\n",
       "\n",
       ".xr-var-attrs-in:checked ~ .xr-var-attrs,\n",
       ".xr-var-data-in:checked ~ .xr-var-data,\n",
       ".xr-index-data-in:checked ~ .xr-index-data {\n",
       "  display: block;\n",
       "}\n",
       "\n",
       ".xr-var-data > table {\n",
       "  float: right;\n",
       "}\n",
       "\n",
       ".xr-var-name span,\n",
       ".xr-var-data,\n",
       ".xr-index-name div,\n",
       ".xr-index-data,\n",
       ".xr-attrs {\n",
       "  padding-left: 25px !important;\n",
       "}\n",
       "\n",
       ".xr-attrs,\n",
       ".xr-var-attrs,\n",
       ".xr-var-data,\n",
       ".xr-index-data {\n",
       "  grid-column: 1 / -1;\n",
       "}\n",
       "\n",
       "dl.xr-attrs {\n",
       "  padding: 0;\n",
       "  margin: 0;\n",
       "  display: grid;\n",
       "  grid-template-columns: 125px auto;\n",
       "}\n",
       "\n",
       ".xr-attrs dt,\n",
       ".xr-attrs dd {\n",
       "  padding: 0;\n",
       "  margin: 0;\n",
       "  float: left;\n",
       "  padding-right: 10px;\n",
       "  width: auto;\n",
       "}\n",
       "\n",
       ".xr-attrs dt {\n",
       "  font-weight: normal;\n",
       "  grid-column: 1;\n",
       "}\n",
       "\n",
       ".xr-attrs dt:hover span {\n",
       "  display: inline-block;\n",
       "  background: var(--xr-background-color);\n",
       "  padding-right: 10px;\n",
       "}\n",
       "\n",
       ".xr-attrs dd {\n",
       "  grid-column: 2;\n",
       "  white-space: pre-wrap;\n",
       "  word-break: break-all;\n",
       "}\n",
       "\n",
       ".xr-icon-database,\n",
       ".xr-icon-file-text2,\n",
       ".xr-no-icon {\n",
       "  display: inline-block;\n",
       "  vertical-align: middle;\n",
       "  width: 1em;\n",
       "  height: 1.5em !important;\n",
       "  stroke-width: 0;\n",
       "  stroke: currentColor;\n",
       "  fill: currentColor;\n",
       "}\n",
       "</style><pre class='xr-text-repr-fallback'>&lt;xarray.Dataset&gt;\n",
       "Dimensions:                      (lon: 600, lat: 200, time: 1)\n",
       "Coordinates:\n",
       "  * lon                          (lon) float64 -124.9 -124.8 ... -65.15 -65.05\n",
       "  * lat                          (lat) float64 44.95 44.85 44.75 ... 25.15 25.05\n",
       "  * time                         (time) datetime64[ns] 2022-01-01\n",
       "Data variables: (12/16)\n",
       "    spatial_ref                  (time, lat, lon) int64 0 0 0 0 0 ... 0 0 0 0 0\n",
       "    cropland                     (time, lat, lon) float64 nan nan ... -3.277e+04\n",
       "    cultivated                   (time, lat, lon) float64 nan nan ... -3.277e+04\n",
       "    Color                        (time, lat, lon) object nan nan nan ... nan nan\n",
       "    Description                  (time, lat, lon) object nan nan nan ... nan nan\n",
       "    Kc init                      (time, lat, lon) float64 nan nan ... nan nan\n",
       "    ...                           ...\n",
       "    Dev. (Ldev)                  (time, lat, lon) float64 nan nan ... nan nan\n",
       "    Mid (Lmid)                   (time, lat, lon) float64 nan nan ... nan nan\n",
       "    Late (Llate)                 (time, lat, lon) float64 nan nan ... nan nan\n",
       "    Total                        (time, lat, lon) float64 nan nan ... nan nan\n",
       "    Plant Date                   (time, lat, lon) float64 nan nan ... nan nan\n",
       "    Region                       (time, lat, lon) object nan nan nan ... nan nan</pre><div class='xr-wrap' style='display:none'><div class='xr-header'><div class='xr-obj-type'>xarray.Dataset</div></div><ul class='xr-sections'><li class='xr-section-item'><input id='section-41c3ef89-30cf-4082-91de-ced6f9279894' class='xr-section-summary-in' type='checkbox' disabled ><label for='section-41c3ef89-30cf-4082-91de-ced6f9279894' class='xr-section-summary'  title='Expand/collapse section'>Dimensions:</label><div class='xr-section-inline-details'><ul class='xr-dim-list'><li><span class='xr-has-index'>lon</span>: 600</li><li><span class='xr-has-index'>lat</span>: 200</li><li><span class='xr-has-index'>time</span>: 1</li></ul></div><div class='xr-section-details'></div></li><li class='xr-section-item'><input id='section-f5a6aa03-12ec-46a2-9a52-31fb4e3b8f9b' class='xr-section-summary-in' type='checkbox'  checked><label for='section-f5a6aa03-12ec-46a2-9a52-31fb4e3b8f9b' class='xr-section-summary' >Coordinates: <span>(3)</span></label><div class='xr-section-inline-details'></div><div class='xr-section-details'><ul class='xr-var-list'><li class='xr-var-item'><div class='xr-var-name'><span class='xr-has-index'>lon</span></div><div class='xr-var-dims'>(lon)</div><div class='xr-var-dtype'>float64</div><div class='xr-var-preview xr-preview'>-124.9 -124.8 ... -65.15 -65.05</div><input id='attrs-8d7b5432-2c1b-4221-b593-c423b3e24d79' class='xr-var-attrs-in' type='checkbox' disabled><label for='attrs-8d7b5432-2c1b-4221-b593-c423b3e24d79' title='Show/Hide attributes'><svg class='icon xr-icon-file-text2'><use xlink:href='#icon-file-text2'></use></svg></label><input id='data-f0749f75-0196-485e-a2fe-12d302f41c7a' class='xr-var-data-in' type='checkbox'><label for='data-f0749f75-0196-485e-a2fe-12d302f41c7a' title='Show/Hide data repr'><svg class='icon xr-icon-database'><use xlink:href='#icon-database'></use></svg></label><div class='xr-var-attrs'><dl class='xr-attrs'></dl></div><div class='xr-var-data'><pre>array([-124.949997, -124.849991, -124.75    , ...,  -65.249992,  -65.149994,\n",
       "        -65.049995])</pre></div></li><li class='xr-var-item'><div class='xr-var-name'><span class='xr-has-index'>lat</span></div><div class='xr-var-dims'>(lat)</div><div class='xr-var-dtype'>float64</div><div class='xr-var-preview xr-preview'>44.95 44.85 44.75 ... 25.15 25.05</div><input id='attrs-a28821f8-938a-416f-9441-171383e59fce' class='xr-var-attrs-in' type='checkbox' disabled><label for='attrs-a28821f8-938a-416f-9441-171383e59fce' title='Show/Hide attributes'><svg class='icon xr-icon-file-text2'><use xlink:href='#icon-file-text2'></use></svg></label><input id='data-e50b625b-faa2-479f-af42-85b9ab0b76e1' class='xr-var-data-in' type='checkbox'><label for='data-e50b625b-faa2-479f-af42-85b9ab0b76e1' title='Show/Hide data repr'><svg class='icon xr-icon-database'><use xlink:href='#icon-database'></use></svg></label><div class='xr-var-attrs'><dl class='xr-attrs'></dl></div><div class='xr-var-data'><pre>array([44.950001, 44.849998, 44.75    , 44.650002, 44.549999, 44.450001,\n",
       "       44.349998, 44.25    , 44.150002, 44.049999, 43.950001, 43.849998,\n",
       "       43.75    , 43.650002, 43.549999, 43.450001, 43.349998, 43.25    ,\n",
       "       43.150002, 43.049999, 42.950001, 42.849998, 42.75    , 42.650002,\n",
       "       42.549999, 42.450001, 42.349998, 42.25    , 42.150002, 42.049999,\n",
       "       41.950001, 41.849998, 41.75    , 41.650002, 41.549999, 41.450001,\n",
       "       41.349998, 41.25    , 41.150002, 41.049999, 40.950001, 40.849998,\n",
       "       40.75    , 40.650002, 40.549999, 40.450001, 40.349998, 40.25    ,\n",
       "       40.150002, 40.049999, 39.950001, 39.849998, 39.75    , 39.650002,\n",
       "       39.549999, 39.450001, 39.349998, 39.25    , 39.150002, 39.049999,\n",
       "       38.950001, 38.849998, 38.75    , 38.650002, 38.549999, 38.450001,\n",
       "       38.349998, 38.25    , 38.150002, 38.049999, 37.950001, 37.849998,\n",
       "       37.75    , 37.650002, 37.549999, 37.450001, 37.349998, 37.25    ,\n",
       "       37.150002, 37.049999, 36.950001, 36.849998, 36.75    , 36.650002,\n",
       "       36.549999, 36.450001, 36.349998, 36.25    , 36.150002, 36.049999,\n",
       "       35.950001, 35.849998, 35.75    , 35.650002, 35.549999, 35.450001,\n",
       "       35.349998, 35.25    , 35.150002, 35.049999, 34.950001, 34.849998,\n",
       "       34.75    , 34.650002, 34.549999, 34.450001, 34.349998, 34.25    ,\n",
       "       34.150002, 34.049999, 33.950001, 33.849998, 33.75    , 33.650002,\n",
       "       33.549999, 33.450001, 33.349998, 33.25    , 33.150002, 33.049999,\n",
       "       32.950001, 32.849998, 32.75    , 32.650002, 32.549999, 32.450001,\n",
       "       32.349998, 32.25    , 32.150002, 32.049999, 31.950001, 31.849998,\n",
       "       31.75    , 31.650002, 31.549999, 31.450001, 31.349998, 31.25    ,\n",
       "       31.150002, 31.049999, 30.950001, 30.849998, 30.75    , 30.650002,\n",
       "       30.549999, 30.450001, 30.349998, 30.25    , 30.150002, 30.049999,\n",
       "       29.950001, 29.849998, 29.75    , 29.650002, 29.549999, 29.450001,\n",
       "       29.349998, 29.25    , 29.150002, 29.049999, 28.950001, 28.849998,\n",
       "       28.75    , 28.650002, 28.549999, 28.450001, 28.349998, 28.25    ,\n",
       "       28.150002, 28.049999, 27.950001, 27.849998, 27.75    , 27.650002,\n",
       "       27.549999, 27.450001, 27.349998, 27.25    , 27.150002, 27.049999,\n",
       "       26.950001, 26.849998, 26.75    , 26.650002, 26.549999, 26.450001,\n",
       "       26.349998, 26.25    , 26.150002, 26.049999, 25.950001, 25.850002,\n",
       "       25.749996, 25.649998, 25.549999, 25.450001, 25.350002, 25.249996,\n",
       "       25.149998, 25.049999])</pre></div></li><li class='xr-var-item'><div class='xr-var-name'><span class='xr-has-index'>time</span></div><div class='xr-var-dims'>(time)</div><div class='xr-var-dtype'>datetime64[ns]</div><div class='xr-var-preview xr-preview'>2022-01-01</div><input id='attrs-40e4ef84-33a9-4fd7-94d7-61381a84f6bc' class='xr-var-attrs-in' type='checkbox' disabled><label for='attrs-40e4ef84-33a9-4fd7-94d7-61381a84f6bc' title='Show/Hide attributes'><svg class='icon xr-icon-file-text2'><use xlink:href='#icon-file-text2'></use></svg></label><input id='data-20840874-2ad9-4276-9c38-533a943458b2' class='xr-var-data-in' type='checkbox'><label for='data-20840874-2ad9-4276-9c38-533a943458b2' title='Show/Hide data repr'><svg class='icon xr-icon-database'><use xlink:href='#icon-database'></use></svg></label><div class='xr-var-attrs'><dl class='xr-attrs'></dl></div><div class='xr-var-data'><pre>array([&#x27;2022-01-01T00:00:00.000000000&#x27;], dtype=&#x27;datetime64[ns]&#x27;)</pre></div></li></ul></div></li><li class='xr-section-item'><input id='section-f1cbb3ad-f8e8-45ce-851d-52af7e4e0b8c' class='xr-section-summary-in' type='checkbox'  ><label for='section-f1cbb3ad-f8e8-45ce-851d-52af7e4e0b8c' class='xr-section-summary' >Data variables: <span>(16)</span></label><div class='xr-section-inline-details'></div><div class='xr-section-details'><ul class='xr-var-list'><li class='xr-var-item'><div class='xr-var-name'><span>spatial_ref</span></div><div class='xr-var-dims'>(time, lat, lon)</div><div class='xr-var-dtype'>int64</div><div class='xr-var-preview xr-preview'>0 0 0 0 0 0 0 0 ... 0 0 0 0 0 0 0 0</div><input id='attrs-15c4e86d-3197-41f9-b278-666db99c9288' class='xr-var-attrs-in' type='checkbox' disabled><label for='attrs-15c4e86d-3197-41f9-b278-666db99c9288' title='Show/Hide attributes'><svg class='icon xr-icon-file-text2'><use xlink:href='#icon-file-text2'></use></svg></label><input id='data-9155c74b-0ea1-4669-871b-d7f3c876a7ba' class='xr-var-data-in' type='checkbox'><label for='data-9155c74b-0ea1-4669-871b-d7f3c876a7ba' title='Show/Hide data repr'><svg class='icon xr-icon-database'><use xlink:href='#icon-database'></use></svg></label><div class='xr-var-attrs'><dl class='xr-attrs'></dl></div><div class='xr-var-data'><pre>array([[[0, 0, 0, ..., 0, 0, 0],\n",
       "        [0, 0, 0, ..., 0, 0, 0],\n",
       "        [0, 0, 0, ..., 0, 0, 0],\n",
       "        ...,\n",
       "        [0, 0, 0, ..., 0, 0, 0],\n",
       "        [0, 0, 0, ..., 0, 0, 0],\n",
       "        [0, 0, 0, ..., 0, 0, 0]]], dtype=int64)</pre></div></li><li class='xr-var-item'><div class='xr-var-name'><span>cropland</span></div><div class='xr-var-dims'>(time, lat, lon)</div><div class='xr-var-dtype'>float64</div><div class='xr-var-preview xr-preview'>nan nan ... -3.277e+04 -3.277e+04</div><input id='attrs-9d014049-8ece-40bb-8180-85df74c39ec5' class='xr-var-attrs-in' type='checkbox' disabled><label for='attrs-9d014049-8ece-40bb-8180-85df74c39ec5' title='Show/Hide attributes'><svg class='icon xr-icon-file-text2'><use xlink:href='#icon-file-text2'></use></svg></label><input id='data-49ae745f-a0e5-48b0-8329-8d4ee3940b52' class='xr-var-data-in' type='checkbox'><label for='data-49ae745f-a0e5-48b0-8329-8d4ee3940b52' title='Show/Hide data repr'><svg class='icon xr-icon-database'><use xlink:href='#icon-database'></use></svg></label><div class='xr-var-attrs'><dl class='xr-attrs'></dl></div><div class='xr-var-data'><pre>array([[[    nan,     nan,     nan, ..., -32768., -32768., -32768.],\n",
       "        [    nan,     nan,     nan, ..., -32768., -32768., -32768.],\n",
       "        [    nan,     nan,     nan, ..., -32768., -32768., -32768.],\n",
       "        ...,\n",
       "        [    nan,     nan,     nan, ..., -32768., -32768., -32768.],\n",
       "        [    nan,     nan,     nan, ..., -32768., -32768., -32768.],\n",
       "        [    nan,     nan,     nan, ..., -32768., -32768., -32768.]]])</pre></div></li><li class='xr-var-item'><div class='xr-var-name'><span>cultivated</span></div><div class='xr-var-dims'>(time, lat, lon)</div><div class='xr-var-dtype'>float64</div><div class='xr-var-preview xr-preview'>nan nan ... -3.277e+04 -3.277e+04</div><input id='attrs-361276b5-8e0c-4441-a3d1-29180b9661e1' class='xr-var-attrs-in' type='checkbox' disabled><label for='attrs-361276b5-8e0c-4441-a3d1-29180b9661e1' title='Show/Hide attributes'><svg class='icon xr-icon-file-text2'><use xlink:href='#icon-file-text2'></use></svg></label><input id='data-b60b2caa-4d99-411a-8ba2-480f016ab007' class='xr-var-data-in' type='checkbox'><label for='data-b60b2caa-4d99-411a-8ba2-480f016ab007' title='Show/Hide data repr'><svg class='icon xr-icon-database'><use xlink:href='#icon-database'></use></svg></label><div class='xr-var-attrs'><dl class='xr-attrs'></dl></div><div class='xr-var-data'><pre>array([[[    nan,     nan,     nan, ..., -32768., -32768., -32768.],\n",
       "        [    nan,     nan,     nan, ..., -32768., -32768., -32768.],\n",
       "        [    nan,     nan,     nan, ..., -32768., -32768., -32768.],\n",
       "        ...,\n",
       "        [    nan,     nan,     nan, ..., -32768., -32768., -32768.],\n",
       "        [    nan,     nan,     nan, ..., -32768., -32768., -32768.],\n",
       "        [    nan,     nan,     nan, ..., -32768., -32768., -32768.]]])</pre></div></li><li class='xr-var-item'><div class='xr-var-name'><span>Color</span></div><div class='xr-var-dims'>(time, lat, lon)</div><div class='xr-var-dtype'>object</div><div class='xr-var-preview xr-preview'>nan nan nan nan ... nan nan nan nan</div><input id='attrs-a7276b80-ce7a-41ba-a661-9526892cbe94' class='xr-var-attrs-in' type='checkbox' disabled><label for='attrs-a7276b80-ce7a-41ba-a661-9526892cbe94' title='Show/Hide attributes'><svg class='icon xr-icon-file-text2'><use xlink:href='#icon-file-text2'></use></svg></label><input id='data-868eb6a2-b105-4e84-9c19-c755dc4f0692' class='xr-var-data-in' type='checkbox'><label for='data-868eb6a2-b105-4e84-9c19-c755dc4f0692' title='Show/Hide data repr'><svg class='icon xr-icon-database'><use xlink:href='#icon-database'></use></svg></label><div class='xr-var-attrs'><dl class='xr-attrs'></dl></div><div class='xr-var-data'><pre>array([[[nan, nan, nan, ..., nan, nan, nan],\n",
       "        [nan, nan, nan, ..., nan, nan, nan],\n",
       "        [nan, nan, nan, ..., nan, nan, nan],\n",
       "        ...,\n",
       "        [nan, nan, nan, ..., nan, nan, nan],\n",
       "        [nan, nan, nan, ..., nan, nan, nan],\n",
       "        [nan, nan, nan, ..., nan, nan, nan]]], dtype=object)</pre></div></li><li class='xr-var-item'><div class='xr-var-name'><span>Description</span></div><div class='xr-var-dims'>(time, lat, lon)</div><div class='xr-var-dtype'>object</div><div class='xr-var-preview xr-preview'>nan nan nan nan ... nan nan nan nan</div><input id='attrs-0fcc5782-ce85-4a1c-b5f6-4617727b80e3' class='xr-var-attrs-in' type='checkbox' disabled><label for='attrs-0fcc5782-ce85-4a1c-b5f6-4617727b80e3' title='Show/Hide attributes'><svg class='icon xr-icon-file-text2'><use xlink:href='#icon-file-text2'></use></svg></label><input id='data-9695b21e-3f30-41a6-9df6-4fcb30ea235a' class='xr-var-data-in' type='checkbox'><label for='data-9695b21e-3f30-41a6-9df6-4fcb30ea235a' title='Show/Hide data repr'><svg class='icon xr-icon-database'><use xlink:href='#icon-database'></use></svg></label><div class='xr-var-attrs'><dl class='xr-attrs'></dl></div><div class='xr-var-data'><pre>array([[[nan, nan, nan, ..., nan, nan, nan],\n",
       "        [nan, nan, nan, ..., nan, nan, nan],\n",
       "        [nan, nan, nan, ..., nan, nan, nan],\n",
       "        ...,\n",
       "        [nan, nan, nan, ..., nan, nan, nan],\n",
       "        [nan, nan, nan, ..., nan, nan, nan],\n",
       "        [nan, nan, nan, ..., nan, nan, nan]]], dtype=object)</pre></div></li><li class='xr-var-item'><div class='xr-var-name'><span>Kc init</span></div><div class='xr-var-dims'>(time, lat, lon)</div><div class='xr-var-dtype'>float64</div><div class='xr-var-preview xr-preview'>nan nan nan nan ... nan nan nan nan</div><input id='attrs-fe1f7246-739d-4d20-8090-b27ba0454fc8' class='xr-var-attrs-in' type='checkbox' disabled><label for='attrs-fe1f7246-739d-4d20-8090-b27ba0454fc8' title='Show/Hide attributes'><svg class='icon xr-icon-file-text2'><use xlink:href='#icon-file-text2'></use></svg></label><input id='data-80216322-4991-493f-93ed-983a97c8a236' class='xr-var-data-in' type='checkbox'><label for='data-80216322-4991-493f-93ed-983a97c8a236' title='Show/Hide data repr'><svg class='icon xr-icon-database'><use xlink:href='#icon-database'></use></svg></label><div class='xr-var-attrs'><dl class='xr-attrs'></dl></div><div class='xr-var-data'><pre>array([[[nan, nan, nan, ..., nan, nan, nan],\n",
       "        [nan, nan, nan, ..., nan, nan, nan],\n",
       "        [nan, nan, nan, ..., nan, nan, nan],\n",
       "        ...,\n",
       "        [nan, nan, nan, ..., nan, nan, nan],\n",
       "        [nan, nan, nan, ..., nan, nan, nan],\n",
       "        [nan, nan, nan, ..., nan, nan, nan]]])</pre></div></li><li class='xr-var-item'><div class='xr-var-name'><span>Kc mid</span></div><div class='xr-var-dims'>(time, lat, lon)</div><div class='xr-var-dtype'>float64</div><div class='xr-var-preview xr-preview'>nan nan nan nan ... nan nan nan nan</div><input id='attrs-5ffcf4be-6180-4398-92c6-ff194c3e9dbc' class='xr-var-attrs-in' type='checkbox' disabled><label for='attrs-5ffcf4be-6180-4398-92c6-ff194c3e9dbc' title='Show/Hide attributes'><svg class='icon xr-icon-file-text2'><use xlink:href='#icon-file-text2'></use></svg></label><input id='data-b4e9b56c-c006-4b71-b561-abb394fa1732' class='xr-var-data-in' type='checkbox'><label for='data-b4e9b56c-c006-4b71-b561-abb394fa1732' title='Show/Hide data repr'><svg class='icon xr-icon-database'><use xlink:href='#icon-database'></use></svg></label><div class='xr-var-attrs'><dl class='xr-attrs'></dl></div><div class='xr-var-data'><pre>array([[[nan, nan, nan, ..., nan, nan, nan],\n",
       "        [nan, nan, nan, ..., nan, nan, nan],\n",
       "        [nan, nan, nan, ..., nan, nan, nan],\n",
       "        ...,\n",
       "        [nan, nan, nan, ..., nan, nan, nan],\n",
       "        [nan, nan, nan, ..., nan, nan, nan],\n",
       "        [nan, nan, nan, ..., nan, nan, nan]]])</pre></div></li><li class='xr-var-item'><div class='xr-var-name'><span>Kc end</span></div><div class='xr-var-dims'>(time, lat, lon)</div><div class='xr-var-dtype'>float64</div><div class='xr-var-preview xr-preview'>nan nan nan nan ... nan nan nan nan</div><input id='attrs-5b2d1170-ef26-4035-8e89-604efb38a91e' class='xr-var-attrs-in' type='checkbox' disabled><label for='attrs-5b2d1170-ef26-4035-8e89-604efb38a91e' title='Show/Hide attributes'><svg class='icon xr-icon-file-text2'><use xlink:href='#icon-file-text2'></use></svg></label><input id='data-df80098a-6777-4241-9b63-41703a56aeb1' class='xr-var-data-in' type='checkbox'><label for='data-df80098a-6777-4241-9b63-41703a56aeb1' title='Show/Hide data repr'><svg class='icon xr-icon-database'><use xlink:href='#icon-database'></use></svg></label><div class='xr-var-attrs'><dl class='xr-attrs'></dl></div><div class='xr-var-data'><pre>array([[[nan, nan, nan, ..., nan, nan, nan],\n",
       "        [nan, nan, nan, ..., nan, nan, nan],\n",
       "        [nan, nan, nan, ..., nan, nan, nan],\n",
       "        ...,\n",
       "        [nan, nan, nan, ..., nan, nan, nan],\n",
       "        [nan, nan, nan, ..., nan, nan, nan],\n",
       "        [nan, nan, nan, ..., nan, nan, nan]]])</pre></div></li><li class='xr-var-item'><div class='xr-var-name'><span>Maximum Crop Height (h) (m)</span></div><div class='xr-var-dims'>(time, lat, lon)</div><div class='xr-var-dtype'>float64</div><div class='xr-var-preview xr-preview'>nan nan nan nan ... nan nan nan nan</div><input id='attrs-95494501-9dea-4ec8-ba8f-98b01b98351b' class='xr-var-attrs-in' type='checkbox' disabled><label for='attrs-95494501-9dea-4ec8-ba8f-98b01b98351b' title='Show/Hide attributes'><svg class='icon xr-icon-file-text2'><use xlink:href='#icon-file-text2'></use></svg></label><input id='data-755b1b6d-7d14-48fb-941f-9dc7e91d5244' class='xr-var-data-in' type='checkbox'><label for='data-755b1b6d-7d14-48fb-941f-9dc7e91d5244' title='Show/Hide data repr'><svg class='icon xr-icon-database'><use xlink:href='#icon-database'></use></svg></label><div class='xr-var-attrs'><dl class='xr-attrs'></dl></div><div class='xr-var-data'><pre>array([[[nan, nan, nan, ..., nan, nan, nan],\n",
       "        [nan, nan, nan, ..., nan, nan, nan],\n",
       "        [nan, nan, nan, ..., nan, nan, nan],\n",
       "        ...,\n",
       "        [nan, nan, nan, ..., nan, nan, nan],\n",
       "        [nan, nan, nan, ..., nan, nan, nan],\n",
       "        [nan, nan, nan, ..., nan, nan, nan]]])</pre></div></li><li class='xr-var-item'><div class='xr-var-name'><span>Init. (Lini)</span></div><div class='xr-var-dims'>(time, lat, lon)</div><div class='xr-var-dtype'>float64</div><div class='xr-var-preview xr-preview'>nan nan nan nan ... nan nan nan nan</div><input id='attrs-54b9a4de-0991-4389-a19e-232911e30667' class='xr-var-attrs-in' type='checkbox' disabled><label for='attrs-54b9a4de-0991-4389-a19e-232911e30667' title='Show/Hide attributes'><svg class='icon xr-icon-file-text2'><use xlink:href='#icon-file-text2'></use></svg></label><input id='data-3bda834b-4f11-4937-b522-5754eaed844d' class='xr-var-data-in' type='checkbox'><label for='data-3bda834b-4f11-4937-b522-5754eaed844d' title='Show/Hide data repr'><svg class='icon xr-icon-database'><use xlink:href='#icon-database'></use></svg></label><div class='xr-var-attrs'><dl class='xr-attrs'></dl></div><div class='xr-var-data'><pre>array([[[nan, nan, nan, ..., nan, nan, nan],\n",
       "        [nan, nan, nan, ..., nan, nan, nan],\n",
       "        [nan, nan, nan, ..., nan, nan, nan],\n",
       "        ...,\n",
       "        [nan, nan, nan, ..., nan, nan, nan],\n",
       "        [nan, nan, nan, ..., nan, nan, nan],\n",
       "        [nan, nan, nan, ..., nan, nan, nan]]])</pre></div></li><li class='xr-var-item'><div class='xr-var-name'><span>Dev. (Ldev)</span></div><div class='xr-var-dims'>(time, lat, lon)</div><div class='xr-var-dtype'>float64</div><div class='xr-var-preview xr-preview'>nan nan nan nan ... nan nan nan nan</div><input id='attrs-0b0893c8-10bc-4d34-8296-8818f46faf13' class='xr-var-attrs-in' type='checkbox' disabled><label for='attrs-0b0893c8-10bc-4d34-8296-8818f46faf13' title='Show/Hide attributes'><svg class='icon xr-icon-file-text2'><use xlink:href='#icon-file-text2'></use></svg></label><input id='data-a1c7b607-5330-400e-b8a8-0d79a7160426' class='xr-var-data-in' type='checkbox'><label for='data-a1c7b607-5330-400e-b8a8-0d79a7160426' title='Show/Hide data repr'><svg class='icon xr-icon-database'><use xlink:href='#icon-database'></use></svg></label><div class='xr-var-attrs'><dl class='xr-attrs'></dl></div><div class='xr-var-data'><pre>array([[[nan, nan, nan, ..., nan, nan, nan],\n",
       "        [nan, nan, nan, ..., nan, nan, nan],\n",
       "        [nan, nan, nan, ..., nan, nan, nan],\n",
       "        ...,\n",
       "        [nan, nan, nan, ..., nan, nan, nan],\n",
       "        [nan, nan, nan, ..., nan, nan, nan],\n",
       "        [nan, nan, nan, ..., nan, nan, nan]]])</pre></div></li><li class='xr-var-item'><div class='xr-var-name'><span>Mid (Lmid)</span></div><div class='xr-var-dims'>(time, lat, lon)</div><div class='xr-var-dtype'>float64</div><div class='xr-var-preview xr-preview'>nan nan nan nan ... nan nan nan nan</div><input id='attrs-4d97380c-79c0-4109-9a57-d9861cca3544' class='xr-var-attrs-in' type='checkbox' disabled><label for='attrs-4d97380c-79c0-4109-9a57-d9861cca3544' title='Show/Hide attributes'><svg class='icon xr-icon-file-text2'><use xlink:href='#icon-file-text2'></use></svg></label><input id='data-9c58c764-57a8-4ac2-a2a2-63fcab980a2c' class='xr-var-data-in' type='checkbox'><label for='data-9c58c764-57a8-4ac2-a2a2-63fcab980a2c' title='Show/Hide data repr'><svg class='icon xr-icon-database'><use xlink:href='#icon-database'></use></svg></label><div class='xr-var-attrs'><dl class='xr-attrs'></dl></div><div class='xr-var-data'><pre>array([[[nan, nan, nan, ..., nan, nan, nan],\n",
       "        [nan, nan, nan, ..., nan, nan, nan],\n",
       "        [nan, nan, nan, ..., nan, nan, nan],\n",
       "        ...,\n",
       "        [nan, nan, nan, ..., nan, nan, nan],\n",
       "        [nan, nan, nan, ..., nan, nan, nan],\n",
       "        [nan, nan, nan, ..., nan, nan, nan]]])</pre></div></li><li class='xr-var-item'><div class='xr-var-name'><span>Late (Llate)</span></div><div class='xr-var-dims'>(time, lat, lon)</div><div class='xr-var-dtype'>float64</div><div class='xr-var-preview xr-preview'>nan nan nan nan ... nan nan nan nan</div><input id='attrs-966b4978-6dce-4037-a567-58e4b41c4248' class='xr-var-attrs-in' type='checkbox' disabled><label for='attrs-966b4978-6dce-4037-a567-58e4b41c4248' title='Show/Hide attributes'><svg class='icon xr-icon-file-text2'><use xlink:href='#icon-file-text2'></use></svg></label><input id='data-2bfaa5c3-cea6-4e43-a9cc-7151cb78f898' class='xr-var-data-in' type='checkbox'><label for='data-2bfaa5c3-cea6-4e43-a9cc-7151cb78f898' title='Show/Hide data repr'><svg class='icon xr-icon-database'><use xlink:href='#icon-database'></use></svg></label><div class='xr-var-attrs'><dl class='xr-attrs'></dl></div><div class='xr-var-data'><pre>array([[[nan, nan, nan, ..., nan, nan, nan],\n",
       "        [nan, nan, nan, ..., nan, nan, nan],\n",
       "        [nan, nan, nan, ..., nan, nan, nan],\n",
       "        ...,\n",
       "        [nan, nan, nan, ..., nan, nan, nan],\n",
       "        [nan, nan, nan, ..., nan, nan, nan],\n",
       "        [nan, nan, nan, ..., nan, nan, nan]]])</pre></div></li><li class='xr-var-item'><div class='xr-var-name'><span>Total</span></div><div class='xr-var-dims'>(time, lat, lon)</div><div class='xr-var-dtype'>float64</div><div class='xr-var-preview xr-preview'>nan nan nan nan ... nan nan nan nan</div><input id='attrs-32dec25f-e478-4eef-8df2-cf0f558265ae' class='xr-var-attrs-in' type='checkbox' disabled><label for='attrs-32dec25f-e478-4eef-8df2-cf0f558265ae' title='Show/Hide attributes'><svg class='icon xr-icon-file-text2'><use xlink:href='#icon-file-text2'></use></svg></label><input id='data-aa15453a-00ff-4998-9a5c-d513016968df' class='xr-var-data-in' type='checkbox'><label for='data-aa15453a-00ff-4998-9a5c-d513016968df' title='Show/Hide data repr'><svg class='icon xr-icon-database'><use xlink:href='#icon-database'></use></svg></label><div class='xr-var-attrs'><dl class='xr-attrs'></dl></div><div class='xr-var-data'><pre>array([[[nan, nan, nan, ..., nan, nan, nan],\n",
       "        [nan, nan, nan, ..., nan, nan, nan],\n",
       "        [nan, nan, nan, ..., nan, nan, nan],\n",
       "        ...,\n",
       "        [nan, nan, nan, ..., nan, nan, nan],\n",
       "        [nan, nan, nan, ..., nan, nan, nan],\n",
       "        [nan, nan, nan, ..., nan, nan, nan]]])</pre></div></li><li class='xr-var-item'><div class='xr-var-name'><span>Plant Date</span></div><div class='xr-var-dims'>(time, lat, lon)</div><div class='xr-var-dtype'>float64</div><div class='xr-var-preview xr-preview'>nan nan nan nan ... nan nan nan nan</div><input id='attrs-d650d76c-8d96-4a87-b3ca-458efd7584b4' class='xr-var-attrs-in' type='checkbox' disabled><label for='attrs-d650d76c-8d96-4a87-b3ca-458efd7584b4' title='Show/Hide attributes'><svg class='icon xr-icon-file-text2'><use xlink:href='#icon-file-text2'></use></svg></label><input id='data-eee2f46c-4cc2-4322-bcf0-63ead22611dc' class='xr-var-data-in' type='checkbox'><label for='data-eee2f46c-4cc2-4322-bcf0-63ead22611dc' title='Show/Hide data repr'><svg class='icon xr-icon-database'><use xlink:href='#icon-database'></use></svg></label><div class='xr-var-attrs'><dl class='xr-attrs'></dl></div><div class='xr-var-data'><pre>array([[[nan, nan, nan, ..., nan, nan, nan],\n",
       "        [nan, nan, nan, ..., nan, nan, nan],\n",
       "        [nan, nan, nan, ..., nan, nan, nan],\n",
       "        ...,\n",
       "        [nan, nan, nan, ..., nan, nan, nan],\n",
       "        [nan, nan, nan, ..., nan, nan, nan],\n",
       "        [nan, nan, nan, ..., nan, nan, nan]]])</pre></div></li><li class='xr-var-item'><div class='xr-var-name'><span>Region</span></div><div class='xr-var-dims'>(time, lat, lon)</div><div class='xr-var-dtype'>object</div><div class='xr-var-preview xr-preview'>nan nan nan nan ... nan nan nan nan</div><input id='attrs-c98cf5e5-5e01-465d-9181-fdb1d2958302' class='xr-var-attrs-in' type='checkbox' disabled><label for='attrs-c98cf5e5-5e01-465d-9181-fdb1d2958302' title='Show/Hide attributes'><svg class='icon xr-icon-file-text2'><use xlink:href='#icon-file-text2'></use></svg></label><input id='data-e98aa7bb-ae11-4634-b008-a25f079f362f' class='xr-var-data-in' type='checkbox'><label for='data-e98aa7bb-ae11-4634-b008-a25f079f362f' title='Show/Hide data repr'><svg class='icon xr-icon-database'><use xlink:href='#icon-database'></use></svg></label><div class='xr-var-attrs'><dl class='xr-attrs'></dl></div><div class='xr-var-data'><pre>array([[[nan, nan, nan, ..., nan, nan, nan],\n",
       "        [nan, nan, nan, ..., nan, nan, nan],\n",
       "        [nan, nan, nan, ..., nan, nan, nan],\n",
       "        ...,\n",
       "        [nan, nan, nan, ..., nan, nan, nan],\n",
       "        [nan, nan, nan, ..., nan, nan, nan],\n",
       "        [nan, nan, nan, ..., nan, nan, nan]]], dtype=object)</pre></div></li></ul></div></li><li class='xr-section-item'><input id='section-6a20062b-aca4-49d7-b77c-ab224e3e7647' class='xr-section-summary-in' type='checkbox'  ><label for='section-6a20062b-aca4-49d7-b77c-ab224e3e7647' class='xr-section-summary' >Indexes: <span>(3)</span></label><div class='xr-section-inline-details'></div><div class='xr-section-details'><ul class='xr-var-list'><li class='xr-var-item'><div class='xr-index-name'><div>lon</div></div><div class='xr-index-preview'>PandasIndex</div><div></div><input id='index-42d865ce-98b3-45f7-af7f-8668f1d9ca8a' class='xr-index-data-in' type='checkbox'/><label for='index-42d865ce-98b3-45f7-af7f-8668f1d9ca8a' title='Show/Hide index repr'><svg class='icon xr-icon-database'><use xlink:href='#icon-database'></use></svg></label><div class='xr-index-data'><pre>PandasIndex(Float64Index([-124.94999694824219, -124.84999084472656,             -124.75,\n",
       "              -124.64999389648438, -124.54999542236328, -124.44999694824219,\n",
       "              -124.34999084472656,             -124.25, -124.14999389648438,\n",
       "              -124.04999542236328,\n",
       "              ...\n",
       "               -65.94999694824219,   -65.8499984741211,  -65.74999237060547,\n",
       "               -65.64999389648438,  -65.54999542236328,  -65.44999694824219,\n",
       "                -65.3499984741211,  -65.24999237060547,  -65.14999389648438,\n",
       "               -65.04999542236328],\n",
       "             dtype=&#x27;float64&#x27;, name=&#x27;lon&#x27;, length=600))</pre></div></li><li class='xr-var-item'><div class='xr-index-name'><div>lat</div></div><div class='xr-index-preview'>PandasIndex</div><div></div><input id='index-8ec41596-72a5-41cf-bfc0-189ae8c3a389' class='xr-index-data-in' type='checkbox'/><label for='index-8ec41596-72a5-41cf-bfc0-189ae8c3a389' title='Show/Hide index repr'><svg class='icon xr-icon-database'><use xlink:href='#icon-database'></use></svg></label><div class='xr-index-data'><pre>PandasIndex(Float64Index([ 44.95000076293945, 44.849998474121094,              44.75,\n",
       "              44.650001525878906,  44.54999923706055,  44.45000076293945,\n",
       "              44.349998474121094,              44.25, 44.150001525878906,\n",
       "               44.04999923706055,\n",
       "              ...\n",
       "              25.950000762939453,  25.85000228881836, 25.749996185302734,\n",
       "               25.64999771118164, 25.549999237060547, 25.450000762939453,\n",
       "               25.35000228881836, 25.249996185302734,  25.14999771118164,\n",
       "              25.049999237060547],\n",
       "             dtype=&#x27;float64&#x27;, name=&#x27;lat&#x27;, length=200))</pre></div></li><li class='xr-var-item'><div class='xr-index-name'><div>time</div></div><div class='xr-index-preview'>PandasIndex</div><div></div><input id='index-8c66c1d3-b821-46f9-9910-aaeb159b3e82' class='xr-index-data-in' type='checkbox'/><label for='index-8c66c1d3-b821-46f9-9910-aaeb159b3e82' title='Show/Hide index repr'><svg class='icon xr-icon-database'><use xlink:href='#icon-database'></use></svg></label><div class='xr-index-data'><pre>PandasIndex(DatetimeIndex([&#x27;2022-01-01&#x27;], dtype=&#x27;datetime64[ns]&#x27;, name=&#x27;time&#x27;, freq=None))</pre></div></li></ul></div></li><li class='xr-section-item'><input id='section-32371171-e9e0-4ca6-98f4-82175a6f2d05' class='xr-section-summary-in' type='checkbox' disabled ><label for='section-32371171-e9e0-4ca6-98f4-82175a6f2d05' class='xr-section-summary'  title='Expand/collapse section'>Attributes: <span>(0)</span></label><div class='xr-section-inline-details'></div><div class='xr-section-details'><dl class='xr-attrs'></dl></div></li></ul></div></div>"
      ],
      "text/plain": [
       "<xarray.Dataset>\n",
       "Dimensions:                      (lon: 600, lat: 200, time: 1)\n",
       "Coordinates:\n",
       "  * lon                          (lon) float64 -124.9 -124.8 ... -65.15 -65.05\n",
       "  * lat                          (lat) float64 44.95 44.85 44.75 ... 25.15 25.05\n",
       "  * time                         (time) datetime64[ns] 2022-01-01\n",
       "Data variables: (12/16)\n",
       "    spatial_ref                  (time, lat, lon) int64 0 0 0 0 0 ... 0 0 0 0 0\n",
       "    cropland                     (time, lat, lon) float64 nan nan ... -3.277e+04\n",
       "    cultivated                   (time, lat, lon) float64 nan nan ... -3.277e+04\n",
       "    Color                        (time, lat, lon) object nan nan nan ... nan nan\n",
       "    Description                  (time, lat, lon) object nan nan nan ... nan nan\n",
       "    Kc init                      (time, lat, lon) float64 nan nan ... nan nan\n",
       "    ...                           ...\n",
       "    Dev. (Ldev)                  (time, lat, lon) float64 nan nan ... nan nan\n",
       "    Mid (Lmid)                   (time, lat, lon) float64 nan nan ... nan nan\n",
       "    Late (Llate)                 (time, lat, lon) float64 nan nan ... nan nan\n",
       "    Total                        (time, lat, lon) float64 nan nan ... nan nan\n",
       "    Plant Date                   (time, lat, lon) float64 nan nan ... nan nan\n",
       "    Region                       (time, lat, lon) object nan nan nan ... nan nan"
      ]
     },
     "execution_count": 73,
     "metadata": {},
     "output_type": "execute_result"
    }
   ],
   "source": [
    "land_use"
   ]
  },
  {
   "cell_type": "code",
   "execution_count": 77,
   "metadata": {},
   "outputs": [
    {
     "data": {
      "text/html": [
       "<div><svg style=\"position: absolute; width: 0; height: 0; overflow: hidden\">\n",
       "<defs>\n",
       "<symbol id=\"icon-database\" viewBox=\"0 0 32 32\">\n",
       "<path d=\"M16 0c-8.837 0-16 2.239-16 5v4c0 2.761 7.163 5 16 5s16-2.239 16-5v-4c0-2.761-7.163-5-16-5z\"></path>\n",
       "<path d=\"M16 17c-8.837 0-16-2.239-16-5v6c0 2.761 7.163 5 16 5s16-2.239 16-5v-6c0 2.761-7.163 5-16 5z\"></path>\n",
       "<path d=\"M16 26c-8.837 0-16-2.239-16-5v6c0 2.761 7.163 5 16 5s16-2.239 16-5v-6c0 2.761-7.163 5-16 5z\"></path>\n",
       "</symbol>\n",
       "<symbol id=\"icon-file-text2\" viewBox=\"0 0 32 32\">\n",
       "<path d=\"M28.681 7.159c-0.694-0.947-1.662-2.053-2.724-3.116s-2.169-2.030-3.116-2.724c-1.612-1.182-2.393-1.319-2.841-1.319h-15.5c-1.378 0-2.5 1.121-2.5 2.5v27c0 1.378 1.122 2.5 2.5 2.5h23c1.378 0 2.5-1.122 2.5-2.5v-19.5c0-0.448-0.137-1.23-1.319-2.841zM24.543 5.457c0.959 0.959 1.712 1.825 2.268 2.543h-4.811v-4.811c0.718 0.556 1.584 1.309 2.543 2.268zM28 29.5c0 0.271-0.229 0.5-0.5 0.5h-23c-0.271 0-0.5-0.229-0.5-0.5v-27c0-0.271 0.229-0.5 0.5-0.5 0 0 15.499-0 15.5 0v7c0 0.552 0.448 1 1 1h7v19.5z\"></path>\n",
       "<path d=\"M23 26h-14c-0.552 0-1-0.448-1-1s0.448-1 1-1h14c0.552 0 1 0.448 1 1s-0.448 1-1 1z\"></path>\n",
       "<path d=\"M23 22h-14c-0.552 0-1-0.448-1-1s0.448-1 1-1h14c0.552 0 1 0.448 1 1s-0.448 1-1 1z\"></path>\n",
       "<path d=\"M23 18h-14c-0.552 0-1-0.448-1-1s0.448-1 1-1h14c0.552 0 1 0.448 1 1s-0.448 1-1 1z\"></path>\n",
       "</symbol>\n",
       "</defs>\n",
       "</svg>\n",
       "<style>/* CSS stylesheet for displaying xarray objects in jupyterlab.\n",
       " *\n",
       " */\n",
       "\n",
       ":root {\n",
       "  --xr-font-color0: var(--jp-content-font-color0, rgba(0, 0, 0, 1));\n",
       "  --xr-font-color2: var(--jp-content-font-color2, rgba(0, 0, 0, 0.54));\n",
       "  --xr-font-color3: var(--jp-content-font-color3, rgba(0, 0, 0, 0.38));\n",
       "  --xr-border-color: var(--jp-border-color2, #e0e0e0);\n",
       "  --xr-disabled-color: var(--jp-layout-color3, #bdbdbd);\n",
       "  --xr-background-color: var(--jp-layout-color0, white);\n",
       "  --xr-background-color-row-even: var(--jp-layout-color1, white);\n",
       "  --xr-background-color-row-odd: var(--jp-layout-color2, #eeeeee);\n",
       "}\n",
       "\n",
       "html[theme=dark],\n",
       "body[data-theme=dark],\n",
       "body.vscode-dark {\n",
       "  --xr-font-color0: rgba(255, 255, 255, 1);\n",
       "  --xr-font-color2: rgba(255, 255, 255, 0.54);\n",
       "  --xr-font-color3: rgba(255, 255, 255, 0.38);\n",
       "  --xr-border-color: #1F1F1F;\n",
       "  --xr-disabled-color: #515151;\n",
       "  --xr-background-color: #111111;\n",
       "  --xr-background-color-row-even: #111111;\n",
       "  --xr-background-color-row-odd: #313131;\n",
       "}\n",
       "\n",
       ".xr-wrap {\n",
       "  display: block !important;\n",
       "  min-width: 300px;\n",
       "  max-width: 700px;\n",
       "}\n",
       "\n",
       ".xr-text-repr-fallback {\n",
       "  /* fallback to plain text repr when CSS is not injected (untrusted notebook) */\n",
       "  display: none;\n",
       "}\n",
       "\n",
       ".xr-header {\n",
       "  padding-top: 6px;\n",
       "  padding-bottom: 6px;\n",
       "  margin-bottom: 4px;\n",
       "  border-bottom: solid 1px var(--xr-border-color);\n",
       "}\n",
       "\n",
       ".xr-header > div,\n",
       ".xr-header > ul {\n",
       "  display: inline;\n",
       "  margin-top: 0;\n",
       "  margin-bottom: 0;\n",
       "}\n",
       "\n",
       ".xr-obj-type,\n",
       ".xr-array-name {\n",
       "  margin-left: 2px;\n",
       "  margin-right: 10px;\n",
       "}\n",
       "\n",
       ".xr-obj-type {\n",
       "  color: var(--xr-font-color2);\n",
       "}\n",
       "\n",
       ".xr-sections {\n",
       "  padding-left: 0 !important;\n",
       "  display: grid;\n",
       "  grid-template-columns: 150px auto auto 1fr 20px 20px;\n",
       "}\n",
       "\n",
       ".xr-section-item {\n",
       "  display: contents;\n",
       "}\n",
       "\n",
       ".xr-section-item input {\n",
       "  display: none;\n",
       "}\n",
       "\n",
       ".xr-section-item input + label {\n",
       "  color: var(--xr-disabled-color);\n",
       "}\n",
       "\n",
       ".xr-section-item input:enabled + label {\n",
       "  cursor: pointer;\n",
       "  color: var(--xr-font-color2);\n",
       "}\n",
       "\n",
       ".xr-section-item input:enabled + label:hover {\n",
       "  color: var(--xr-font-color0);\n",
       "}\n",
       "\n",
       ".xr-section-summary {\n",
       "  grid-column: 1;\n",
       "  color: var(--xr-font-color2);\n",
       "  font-weight: 500;\n",
       "}\n",
       "\n",
       ".xr-section-summary > span {\n",
       "  display: inline-block;\n",
       "  padding-left: 0.5em;\n",
       "}\n",
       "\n",
       ".xr-section-summary-in:disabled + label {\n",
       "  color: var(--xr-font-color2);\n",
       "}\n",
       "\n",
       ".xr-section-summary-in + label:before {\n",
       "  display: inline-block;\n",
       "  content: '►';\n",
       "  font-size: 11px;\n",
       "  width: 15px;\n",
       "  text-align: center;\n",
       "}\n",
       "\n",
       ".xr-section-summary-in:disabled + label:before {\n",
       "  color: var(--xr-disabled-color);\n",
       "}\n",
       "\n",
       ".xr-section-summary-in:checked + label:before {\n",
       "  content: '▼';\n",
       "}\n",
       "\n",
       ".xr-section-summary-in:checked + label > span {\n",
       "  display: none;\n",
       "}\n",
       "\n",
       ".xr-section-summary,\n",
       ".xr-section-inline-details {\n",
       "  padding-top: 4px;\n",
       "  padding-bottom: 4px;\n",
       "}\n",
       "\n",
       ".xr-section-inline-details {\n",
       "  grid-column: 2 / -1;\n",
       "}\n",
       "\n",
       ".xr-section-details {\n",
       "  display: none;\n",
       "  grid-column: 1 / -1;\n",
       "  margin-bottom: 5px;\n",
       "}\n",
       "\n",
       ".xr-section-summary-in:checked ~ .xr-section-details {\n",
       "  display: contents;\n",
       "}\n",
       "\n",
       ".xr-array-wrap {\n",
       "  grid-column: 1 / -1;\n",
       "  display: grid;\n",
       "  grid-template-columns: 20px auto;\n",
       "}\n",
       "\n",
       ".xr-array-wrap > label {\n",
       "  grid-column: 1;\n",
       "  vertical-align: top;\n",
       "}\n",
       "\n",
       ".xr-preview {\n",
       "  color: var(--xr-font-color3);\n",
       "}\n",
       "\n",
       ".xr-array-preview,\n",
       ".xr-array-data {\n",
       "  padding: 0 5px !important;\n",
       "  grid-column: 2;\n",
       "}\n",
       "\n",
       ".xr-array-data,\n",
       ".xr-array-in:checked ~ .xr-array-preview {\n",
       "  display: none;\n",
       "}\n",
       "\n",
       ".xr-array-in:checked ~ .xr-array-data,\n",
       ".xr-array-preview {\n",
       "  display: inline-block;\n",
       "}\n",
       "\n",
       ".xr-dim-list {\n",
       "  display: inline-block !important;\n",
       "  list-style: none;\n",
       "  padding: 0 !important;\n",
       "  margin: 0;\n",
       "}\n",
       "\n",
       ".xr-dim-list li {\n",
       "  display: inline-block;\n",
       "  padding: 0;\n",
       "  margin: 0;\n",
       "}\n",
       "\n",
       ".xr-dim-list:before {\n",
       "  content: '(';\n",
       "}\n",
       "\n",
       ".xr-dim-list:after {\n",
       "  content: ')';\n",
       "}\n",
       "\n",
       ".xr-dim-list li:not(:last-child):after {\n",
       "  content: ',';\n",
       "  padding-right: 5px;\n",
       "}\n",
       "\n",
       ".xr-has-index {\n",
       "  font-weight: bold;\n",
       "}\n",
       "\n",
       ".xr-var-list,\n",
       ".xr-var-item {\n",
       "  display: contents;\n",
       "}\n",
       "\n",
       ".xr-var-item > div,\n",
       ".xr-var-item label,\n",
       ".xr-var-item > .xr-var-name span {\n",
       "  background-color: var(--xr-background-color-row-even);\n",
       "  margin-bottom: 0;\n",
       "}\n",
       "\n",
       ".xr-var-item > .xr-var-name:hover span {\n",
       "  padding-right: 5px;\n",
       "}\n",
       "\n",
       ".xr-var-list > li:nth-child(odd) > div,\n",
       ".xr-var-list > li:nth-child(odd) > label,\n",
       ".xr-var-list > li:nth-child(odd) > .xr-var-name span {\n",
       "  background-color: var(--xr-background-color-row-odd);\n",
       "}\n",
       "\n",
       ".xr-var-name {\n",
       "  grid-column: 1;\n",
       "}\n",
       "\n",
       ".xr-var-dims {\n",
       "  grid-column: 2;\n",
       "}\n",
       "\n",
       ".xr-var-dtype {\n",
       "  grid-column: 3;\n",
       "  text-align: right;\n",
       "  color: var(--xr-font-color2);\n",
       "}\n",
       "\n",
       ".xr-var-preview {\n",
       "  grid-column: 4;\n",
       "}\n",
       "\n",
       ".xr-index-preview {\n",
       "  grid-column: 2 / 5;\n",
       "  color: var(--xr-font-color2);\n",
       "}\n",
       "\n",
       ".xr-var-name,\n",
       ".xr-var-dims,\n",
       ".xr-var-dtype,\n",
       ".xr-preview,\n",
       ".xr-attrs dt {\n",
       "  white-space: nowrap;\n",
       "  overflow: hidden;\n",
       "  text-overflow: ellipsis;\n",
       "  padding-right: 10px;\n",
       "}\n",
       "\n",
       ".xr-var-name:hover,\n",
       ".xr-var-dims:hover,\n",
       ".xr-var-dtype:hover,\n",
       ".xr-attrs dt:hover {\n",
       "  overflow: visible;\n",
       "  width: auto;\n",
       "  z-index: 1;\n",
       "}\n",
       "\n",
       ".xr-var-attrs,\n",
       ".xr-var-data,\n",
       ".xr-index-data {\n",
       "  display: none;\n",
       "  background-color: var(--xr-background-color) !important;\n",
       "  padding-bottom: 5px !important;\n",
       "}\n",
       "\n",
       ".xr-var-attrs-in:checked ~ .xr-var-attrs,\n",
       ".xr-var-data-in:checked ~ .xr-var-data,\n",
       ".xr-index-data-in:checked ~ .xr-index-data {\n",
       "  display: block;\n",
       "}\n",
       "\n",
       ".xr-var-data > table {\n",
       "  float: right;\n",
       "}\n",
       "\n",
       ".xr-var-name span,\n",
       ".xr-var-data,\n",
       ".xr-index-name div,\n",
       ".xr-index-data,\n",
       ".xr-attrs {\n",
       "  padding-left: 25px !important;\n",
       "}\n",
       "\n",
       ".xr-attrs,\n",
       ".xr-var-attrs,\n",
       ".xr-var-data,\n",
       ".xr-index-data {\n",
       "  grid-column: 1 / -1;\n",
       "}\n",
       "\n",
       "dl.xr-attrs {\n",
       "  padding: 0;\n",
       "  margin: 0;\n",
       "  display: grid;\n",
       "  grid-template-columns: 125px auto;\n",
       "}\n",
       "\n",
       ".xr-attrs dt,\n",
       ".xr-attrs dd {\n",
       "  padding: 0;\n",
       "  margin: 0;\n",
       "  float: left;\n",
       "  padding-right: 10px;\n",
       "  width: auto;\n",
       "}\n",
       "\n",
       ".xr-attrs dt {\n",
       "  font-weight: normal;\n",
       "  grid-column: 1;\n",
       "}\n",
       "\n",
       ".xr-attrs dt:hover span {\n",
       "  display: inline-block;\n",
       "  background: var(--xr-background-color);\n",
       "  padding-right: 10px;\n",
       "}\n",
       "\n",
       ".xr-attrs dd {\n",
       "  grid-column: 2;\n",
       "  white-space: pre-wrap;\n",
       "  word-break: break-all;\n",
       "}\n",
       "\n",
       ".xr-icon-database,\n",
       ".xr-icon-file-text2,\n",
       ".xr-no-icon {\n",
       "  display: inline-block;\n",
       "  vertical-align: middle;\n",
       "  width: 1em;\n",
       "  height: 1.5em !important;\n",
       "  stroke-width: 0;\n",
       "  stroke: currentColor;\n",
       "  fill: currentColor;\n",
       "}\n",
       "</style><pre class='xr-text-repr-fallback'>&lt;xarray.DataArray &#x27;Total&#x27; (lon: 600)&gt;\n",
       "array([ nan,  nan,  nan,  nan,  nan,  nan,  nan,  nan,  nan,  nan,  nan,\n",
       "        nan,  nan,  nan,  nan,  nan,  nan,   0.,   0.,   0.,   0.,   0.,\n",
       "         0.,  nan,  nan,  nan,  nan,  nan,  nan,  nan,  nan,  nan,  nan,\n",
       "        nan,  nan,  nan,  75.,   0.,   0.,   0.,   0.,   0.,   0.,   0.,\n",
       "         0.,   0.,  75.,   0.,   0.,  nan,  nan,  nan,  nan,  nan,  nan,\n",
       "        nan,   0.,   0.,  nan,  nan,  nan,  nan,  nan,  nan,  nan,  nan,\n",
       "        nan,  nan,  nan,  nan,  75.,  75.,  75.,  75.,  75.,  75.,  nan,\n",
       "        nan,  nan,  nan,  nan,  75.,  75.,  nan,  nan,  nan,  nan,  nan,\n",
       "        nan,  nan,  nan,  nan,  nan,  75.,  75.,  75.,  75.,  nan,  nan,\n",
       "        nan,  75.,  75.,  75.,  75.,  75.,  nan,  nan,  nan,  nan,  nan,\n",
       "        nan,  nan,  75.,  75.,  75.,  75.,  nan,   0.,   0.,  75.,  75.,\n",
       "        75.,  75.,  75.,  75.,  75.,  75.,  75.,  75.,  nan,  nan,  nan,\n",
       "        nan,  nan,  75.,  nan,  nan,  nan,  nan,  nan,  75.,  75.,  75.,\n",
       "        75.,  75.,  nan,  75.,  75.,  nan,  nan,  nan,  nan,  nan,  nan,\n",
       "        75.,  75.,  75.,  75.,  75.,  75.,  75.,  75.,  75.,  75.,  75.,\n",
       "        75.,  75.,  75.,  75.,  75.,  75.,  nan,  nan,   0.,  nan,  nan,\n",
       "         0.,   0.,   0.,   0.,   0.,  75.,  75.,  75.,  75.,  75.,  75.,\n",
       "        75.,  75.,  75.,  75.,  75.,  75.,  75.,  75.,  75.,  75.,  75.,\n",
       "        75.,   0.,   0.,  75.,   0.,   0.,   0.,   0.,   0.,   0.,   0.,\n",
       "         0.,   0.,   0.,   0.,   0.,   0.,   0.,   0.,   0.,   0.,   0.,\n",
       "...\n",
       "        nan,  nan,  nan,  nan,  nan,  nan,  nan,  nan,  nan,  nan, 240.,\n",
       "        nan,  nan,  nan,  nan,  nan,  nan,  nan,  nan,  nan,  nan,  nan,\n",
       "        nan,  nan,  nan,  nan,  nan, 140., 140., 140., 140., 140.,  nan,\n",
       "        nan,  nan,  nan,  nan,  nan,  nan,  nan,  nan,  nan,  nan,  nan,\n",
       "        nan,  nan,  nan,  nan,  nan,  nan,  nan,  nan,  nan,  nan,  nan,\n",
       "        nan,  nan,  nan,  nan,  nan,  nan,  nan,  nan,  nan,  nan,  nan,\n",
       "        nan,  nan,  nan,  nan,  nan,  nan,  nan,  nan,  nan,  nan,  nan,\n",
       "        nan,  nan,  nan,  nan,  nan,  nan,  nan,  nan,  nan,  nan,  nan,\n",
       "        nan,  nan,  nan,  nan,  nan,  nan,  nan,  nan,  nan,  nan,  nan,\n",
       "        nan,  nan,  nan,  nan,  nan,  nan,  nan,  nan,  nan,  nan,  nan,\n",
       "        nan,  nan,  nan,  nan,  nan,  nan, 140., 140.,  nan, 140., 140.,\n",
       "       140., 140.,  nan,  nan,  nan,  nan,  nan,  nan,  nan, 170., 170.,\n",
       "        nan,  nan,  nan,  45.,  45.,  nan,  nan,  nan,  nan,  nan,  45.,\n",
       "        nan,  45.,  45.,  nan,  nan,  nan,  nan,  nan,  nan,  nan,  nan,\n",
       "        nan,  nan,  nan,  nan,  nan,  nan,  nan,  nan,  nan,  nan,  nan,\n",
       "        nan,  nan,  nan,  nan,  nan,  nan,  nan,  nan,  nan,  nan,  nan,\n",
       "        nan,  nan,  nan,  nan,  nan,  nan,  nan,  nan,  nan,  nan,  nan,\n",
       "        nan,  nan,  nan,  nan,  nan,  nan,  nan,  nan,  nan,  nan,  nan,\n",
       "        nan,  nan,  nan,  nan,  nan,  nan,  nan,  nan,  nan,  nan,  nan,\n",
       "        nan,  nan,  nan,  nan,  nan,  nan])\n",
       "Coordinates:\n",
       "  * lon      (lon) float64 -124.9 -124.8 -124.8 -124.6 ... -65.25 -65.15 -65.05\n",
       "    lat      float64 44.95\n",
       "    time     datetime64[ns] 2022-01-01</pre><div class='xr-wrap' style='display:none'><div class='xr-header'><div class='xr-obj-type'>xarray.DataArray</div><div class='xr-array-name'>'Total'</div><ul class='xr-dim-list'><li><span class='xr-has-index'>lon</span>: 600</li></ul></div><ul class='xr-sections'><li class='xr-section-item'><div class='xr-array-wrap'><input id='section-bbedf451-a2ed-4328-b29f-7035d3e8999b' class='xr-array-in' type='checkbox' checked><label for='section-bbedf451-a2ed-4328-b29f-7035d3e8999b' title='Show/hide data repr'><svg class='icon xr-icon-database'><use xlink:href='#icon-database'></use></svg></label><div class='xr-array-preview xr-preview'><span>nan nan nan nan nan nan nan nan ... nan nan nan nan nan nan nan nan</span></div><div class='xr-array-data'><pre>array([ nan,  nan,  nan,  nan,  nan,  nan,  nan,  nan,  nan,  nan,  nan,\n",
       "        nan,  nan,  nan,  nan,  nan,  nan,   0.,   0.,   0.,   0.,   0.,\n",
       "         0.,  nan,  nan,  nan,  nan,  nan,  nan,  nan,  nan,  nan,  nan,\n",
       "        nan,  nan,  nan,  75.,   0.,   0.,   0.,   0.,   0.,   0.,   0.,\n",
       "         0.,   0.,  75.,   0.,   0.,  nan,  nan,  nan,  nan,  nan,  nan,\n",
       "        nan,   0.,   0.,  nan,  nan,  nan,  nan,  nan,  nan,  nan,  nan,\n",
       "        nan,  nan,  nan,  nan,  75.,  75.,  75.,  75.,  75.,  75.,  nan,\n",
       "        nan,  nan,  nan,  nan,  75.,  75.,  nan,  nan,  nan,  nan,  nan,\n",
       "        nan,  nan,  nan,  nan,  nan,  75.,  75.,  75.,  75.,  nan,  nan,\n",
       "        nan,  75.,  75.,  75.,  75.,  75.,  nan,  nan,  nan,  nan,  nan,\n",
       "        nan,  nan,  75.,  75.,  75.,  75.,  nan,   0.,   0.,  75.,  75.,\n",
       "        75.,  75.,  75.,  75.,  75.,  75.,  75.,  75.,  nan,  nan,  nan,\n",
       "        nan,  nan,  75.,  nan,  nan,  nan,  nan,  nan,  75.,  75.,  75.,\n",
       "        75.,  75.,  nan,  75.,  75.,  nan,  nan,  nan,  nan,  nan,  nan,\n",
       "        75.,  75.,  75.,  75.,  75.,  75.,  75.,  75.,  75.,  75.,  75.,\n",
       "        75.,  75.,  75.,  75.,  75.,  75.,  nan,  nan,   0.,  nan,  nan,\n",
       "         0.,   0.,   0.,   0.,   0.,  75.,  75.,  75.,  75.,  75.,  75.,\n",
       "        75.,  75.,  75.,  75.,  75.,  75.,  75.,  75.,  75.,  75.,  75.,\n",
       "        75.,   0.,   0.,  75.,   0.,   0.,   0.,   0.,   0.,   0.,   0.,\n",
       "         0.,   0.,   0.,   0.,   0.,   0.,   0.,   0.,   0.,   0.,   0.,\n",
       "...\n",
       "        nan,  nan,  nan,  nan,  nan,  nan,  nan,  nan,  nan,  nan, 240.,\n",
       "        nan,  nan,  nan,  nan,  nan,  nan,  nan,  nan,  nan,  nan,  nan,\n",
       "        nan,  nan,  nan,  nan,  nan, 140., 140., 140., 140., 140.,  nan,\n",
       "        nan,  nan,  nan,  nan,  nan,  nan,  nan,  nan,  nan,  nan,  nan,\n",
       "        nan,  nan,  nan,  nan,  nan,  nan,  nan,  nan,  nan,  nan,  nan,\n",
       "        nan,  nan,  nan,  nan,  nan,  nan,  nan,  nan,  nan,  nan,  nan,\n",
       "        nan,  nan,  nan,  nan,  nan,  nan,  nan,  nan,  nan,  nan,  nan,\n",
       "        nan,  nan,  nan,  nan,  nan,  nan,  nan,  nan,  nan,  nan,  nan,\n",
       "        nan,  nan,  nan,  nan,  nan,  nan,  nan,  nan,  nan,  nan,  nan,\n",
       "        nan,  nan,  nan,  nan,  nan,  nan,  nan,  nan,  nan,  nan,  nan,\n",
       "        nan,  nan,  nan,  nan,  nan,  nan, 140., 140.,  nan, 140., 140.,\n",
       "       140., 140.,  nan,  nan,  nan,  nan,  nan,  nan,  nan, 170., 170.,\n",
       "        nan,  nan,  nan,  45.,  45.,  nan,  nan,  nan,  nan,  nan,  45.,\n",
       "        nan,  45.,  45.,  nan,  nan,  nan,  nan,  nan,  nan,  nan,  nan,\n",
       "        nan,  nan,  nan,  nan,  nan,  nan,  nan,  nan,  nan,  nan,  nan,\n",
       "        nan,  nan,  nan,  nan,  nan,  nan,  nan,  nan,  nan,  nan,  nan,\n",
       "        nan,  nan,  nan,  nan,  nan,  nan,  nan,  nan,  nan,  nan,  nan,\n",
       "        nan,  nan,  nan,  nan,  nan,  nan,  nan,  nan,  nan,  nan,  nan,\n",
       "        nan,  nan,  nan,  nan,  nan,  nan,  nan,  nan,  nan,  nan,  nan,\n",
       "        nan,  nan,  nan,  nan,  nan,  nan])</pre></div></div></li><li class='xr-section-item'><input id='section-047523fa-1f35-4463-a7ee-d693c8f6a3f6' class='xr-section-summary-in' type='checkbox'  checked><label for='section-047523fa-1f35-4463-a7ee-d693c8f6a3f6' class='xr-section-summary' >Coordinates: <span>(3)</span></label><div class='xr-section-inline-details'></div><div class='xr-section-details'><ul class='xr-var-list'><li class='xr-var-item'><div class='xr-var-name'><span class='xr-has-index'>lon</span></div><div class='xr-var-dims'>(lon)</div><div class='xr-var-dtype'>float64</div><div class='xr-var-preview xr-preview'>-124.9 -124.8 ... -65.15 -65.05</div><input id='attrs-3c6018c5-0435-461e-80b9-cd6d6b3190c5' class='xr-var-attrs-in' type='checkbox' disabled><label for='attrs-3c6018c5-0435-461e-80b9-cd6d6b3190c5' title='Show/Hide attributes'><svg class='icon xr-icon-file-text2'><use xlink:href='#icon-file-text2'></use></svg></label><input id='data-43bfe3a5-463e-4c8c-b0ca-e1b810c49b9d' class='xr-var-data-in' type='checkbox'><label for='data-43bfe3a5-463e-4c8c-b0ca-e1b810c49b9d' title='Show/Hide data repr'><svg class='icon xr-icon-database'><use xlink:href='#icon-database'></use></svg></label><div class='xr-var-attrs'><dl class='xr-attrs'></dl></div><div class='xr-var-data'><pre>array([-124.949997, -124.849991, -124.75    , ...,  -65.249992,  -65.149994,\n",
       "        -65.049995])</pre></div></li><li class='xr-var-item'><div class='xr-var-name'><span>lat</span></div><div class='xr-var-dims'>()</div><div class='xr-var-dtype'>float64</div><div class='xr-var-preview xr-preview'>44.95</div><input id='attrs-d45b8c01-54a1-43e6-96e2-2f2e721be142' class='xr-var-attrs-in' type='checkbox' disabled><label for='attrs-d45b8c01-54a1-43e6-96e2-2f2e721be142' title='Show/Hide attributes'><svg class='icon xr-icon-file-text2'><use xlink:href='#icon-file-text2'></use></svg></label><input id='data-2790edd7-6431-4fb1-8285-b2e104b21996' class='xr-var-data-in' type='checkbox'><label for='data-2790edd7-6431-4fb1-8285-b2e104b21996' title='Show/Hide data repr'><svg class='icon xr-icon-database'><use xlink:href='#icon-database'></use></svg></label><div class='xr-var-attrs'><dl class='xr-attrs'></dl></div><div class='xr-var-data'><pre>array(44.95000076)</pre></div></li><li class='xr-var-item'><div class='xr-var-name'><span>time</span></div><div class='xr-var-dims'>()</div><div class='xr-var-dtype'>datetime64[ns]</div><div class='xr-var-preview xr-preview'>2022-01-01</div><input id='attrs-c0db3cce-87e2-48f3-afe3-83a81bb70733' class='xr-var-attrs-in' type='checkbox' disabled><label for='attrs-c0db3cce-87e2-48f3-afe3-83a81bb70733' title='Show/Hide attributes'><svg class='icon xr-icon-file-text2'><use xlink:href='#icon-file-text2'></use></svg></label><input id='data-b85d338b-b059-4c07-a763-ae75fdc7f350' class='xr-var-data-in' type='checkbox'><label for='data-b85d338b-b059-4c07-a763-ae75fdc7f350' title='Show/Hide data repr'><svg class='icon xr-icon-database'><use xlink:href='#icon-database'></use></svg></label><div class='xr-var-attrs'><dl class='xr-attrs'></dl></div><div class='xr-var-data'><pre>array(&#x27;2022-01-01T00:00:00.000000000&#x27;, dtype=&#x27;datetime64[ns]&#x27;)</pre></div></li></ul></div></li><li class='xr-section-item'><input id='section-640cb128-3733-4931-a30e-624ad258ed80' class='xr-section-summary-in' type='checkbox'  ><label for='section-640cb128-3733-4931-a30e-624ad258ed80' class='xr-section-summary' >Indexes: <span>(1)</span></label><div class='xr-section-inline-details'></div><div class='xr-section-details'><ul class='xr-var-list'><li class='xr-var-item'><div class='xr-index-name'><div>lon</div></div><div class='xr-index-preview'>PandasIndex</div><div></div><input id='index-1b20c762-c628-4948-9fc8-3b68f448a438' class='xr-index-data-in' type='checkbox'/><label for='index-1b20c762-c628-4948-9fc8-3b68f448a438' title='Show/Hide index repr'><svg class='icon xr-icon-database'><use xlink:href='#icon-database'></use></svg></label><div class='xr-index-data'><pre>PandasIndex(Float64Index([-124.94999694824219, -124.84999084472656,             -124.75,\n",
       "              -124.64999389648438, -124.54999542236328, -124.44999694824219,\n",
       "              -124.34999084472656,             -124.25, -124.14999389648438,\n",
       "              -124.04999542236328,\n",
       "              ...\n",
       "               -65.94999694824219,   -65.8499984741211,  -65.74999237060547,\n",
       "               -65.64999389648438,  -65.54999542236328,  -65.44999694824219,\n",
       "                -65.3499984741211,  -65.24999237060547,  -65.14999389648438,\n",
       "               -65.04999542236328],\n",
       "             dtype=&#x27;float64&#x27;, name=&#x27;lon&#x27;, length=600))</pre></div></li></ul></div></li><li class='xr-section-item'><input id='section-c1767ac5-dc63-45ec-a518-00c5d24645ea' class='xr-section-summary-in' type='checkbox' disabled ><label for='section-c1767ac5-dc63-45ec-a518-00c5d24645ea' class='xr-section-summary'  title='Expand/collapse section'>Attributes: <span>(0)</span></label><div class='xr-section-inline-details'></div><div class='xr-section-details'><dl class='xr-attrs'></dl></div></li></ul></div></div>"
      ],
      "text/plain": [
       "<xarray.DataArray 'Total' (lon: 600)>\n",
       "array([ nan,  nan,  nan,  nan,  nan,  nan,  nan,  nan,  nan,  nan,  nan,\n",
       "        nan,  nan,  nan,  nan,  nan,  nan,   0.,   0.,   0.,   0.,   0.,\n",
       "         0.,  nan,  nan,  nan,  nan,  nan,  nan,  nan,  nan,  nan,  nan,\n",
       "        nan,  nan,  nan,  75.,   0.,   0.,   0.,   0.,   0.,   0.,   0.,\n",
       "         0.,   0.,  75.,   0.,   0.,  nan,  nan,  nan,  nan,  nan,  nan,\n",
       "        nan,   0.,   0.,  nan,  nan,  nan,  nan,  nan,  nan,  nan,  nan,\n",
       "        nan,  nan,  nan,  nan,  75.,  75.,  75.,  75.,  75.,  75.,  nan,\n",
       "        nan,  nan,  nan,  nan,  75.,  75.,  nan,  nan,  nan,  nan,  nan,\n",
       "        nan,  nan,  nan,  nan,  nan,  75.,  75.,  75.,  75.,  nan,  nan,\n",
       "        nan,  75.,  75.,  75.,  75.,  75.,  nan,  nan,  nan,  nan,  nan,\n",
       "        nan,  nan,  75.,  75.,  75.,  75.,  nan,   0.,   0.,  75.,  75.,\n",
       "        75.,  75.,  75.,  75.,  75.,  75.,  75.,  75.,  nan,  nan,  nan,\n",
       "        nan,  nan,  75.,  nan,  nan,  nan,  nan,  nan,  75.,  75.,  75.,\n",
       "        75.,  75.,  nan,  75.,  75.,  nan,  nan,  nan,  nan,  nan,  nan,\n",
       "        75.,  75.,  75.,  75.,  75.,  75.,  75.,  75.,  75.,  75.,  75.,\n",
       "        75.,  75.,  75.,  75.,  75.,  75.,  nan,  nan,   0.,  nan,  nan,\n",
       "         0.,   0.,   0.,   0.,   0.,  75.,  75.,  75.,  75.,  75.,  75.,\n",
       "        75.,  75.,  75.,  75.,  75.,  75.,  75.,  75.,  75.,  75.,  75.,\n",
       "        75.,   0.,   0.,  75.,   0.,   0.,   0.,   0.,   0.,   0.,   0.,\n",
       "         0.,   0.,   0.,   0.,   0.,   0.,   0.,   0.,   0.,   0.,   0.,\n",
       "...\n",
       "        nan,  nan,  nan,  nan,  nan,  nan,  nan,  nan,  nan,  nan, 240.,\n",
       "        nan,  nan,  nan,  nan,  nan,  nan,  nan,  nan,  nan,  nan,  nan,\n",
       "        nan,  nan,  nan,  nan,  nan, 140., 140., 140., 140., 140.,  nan,\n",
       "        nan,  nan,  nan,  nan,  nan,  nan,  nan,  nan,  nan,  nan,  nan,\n",
       "        nan,  nan,  nan,  nan,  nan,  nan,  nan,  nan,  nan,  nan,  nan,\n",
       "        nan,  nan,  nan,  nan,  nan,  nan,  nan,  nan,  nan,  nan,  nan,\n",
       "        nan,  nan,  nan,  nan,  nan,  nan,  nan,  nan,  nan,  nan,  nan,\n",
       "        nan,  nan,  nan,  nan,  nan,  nan,  nan,  nan,  nan,  nan,  nan,\n",
       "        nan,  nan,  nan,  nan,  nan,  nan,  nan,  nan,  nan,  nan,  nan,\n",
       "        nan,  nan,  nan,  nan,  nan,  nan,  nan,  nan,  nan,  nan,  nan,\n",
       "        nan,  nan,  nan,  nan,  nan,  nan, 140., 140.,  nan, 140., 140.,\n",
       "       140., 140.,  nan,  nan,  nan,  nan,  nan,  nan,  nan, 170., 170.,\n",
       "        nan,  nan,  nan,  45.,  45.,  nan,  nan,  nan,  nan,  nan,  45.,\n",
       "        nan,  45.,  45.,  nan,  nan,  nan,  nan,  nan,  nan,  nan,  nan,\n",
       "        nan,  nan,  nan,  nan,  nan,  nan,  nan,  nan,  nan,  nan,  nan,\n",
       "        nan,  nan,  nan,  nan,  nan,  nan,  nan,  nan,  nan,  nan,  nan,\n",
       "        nan,  nan,  nan,  nan,  nan,  nan,  nan,  nan,  nan,  nan,  nan,\n",
       "        nan,  nan,  nan,  nan,  nan,  nan,  nan,  nan,  nan,  nan,  nan,\n",
       "        nan,  nan,  nan,  nan,  nan,  nan,  nan,  nan,  nan,  nan,  nan,\n",
       "        nan,  nan,  nan,  nan,  nan,  nan])\n",
       "Coordinates:\n",
       "  * lon      (lon) float64 -124.9 -124.8 -124.8 -124.6 ... -65.25 -65.15 -65.05\n",
       "    lat      float64 44.95\n",
       "    time     datetime64[ns] 2022-01-01"
      ]
     },
     "execution_count": 77,
     "metadata": {},
     "output_type": "execute_result"
    }
   ],
   "source": [
    "land_use[\"Total\"][0][0]"
   ]
  },
  {
   "cell_type": "code",
   "execution_count": 61,
   "metadata": {},
   "outputs": [
    {
     "data": {
      "text/plain": [
       "'2010-04-01'"
      ]
     },
     "execution_count": 61,
     "metadata": {},
     "output_type": "execute_result"
    }
   ],
   "source": [
    "plant_date_day[0][36]\n",
    "\n"
   ]
  },
  {
   "cell_type": "code",
   "execution_count": 80,
   "metadata": {},
   "outputs": [],
   "source": [
    "def check_date(plant_date, n_day, model_date):\n",
    "    for date_ii in plant_date:\n",
    "        if pd.isna(date_ii):\n",
    "            return False\n",
    "        model_date_day = date(int(model_date[:4]), int(model_date[5:7]), int(model_date[8:]))\n",
    "        pla_date = date(int(date_ii[:4]), int(date_ii[5:7]), int(date_ii[8:]))\n",
    "        if model_date_day > pla_date and model_date_day < pla_date + timedelta(days=n_day):\n",
    "            return True\n",
    "    return False"
   ]
  },
  {
   "cell_type": "code",
   "execution_count": 83,
   "metadata": {},
   "outputs": [
    {
     "ename": "TypeError",
     "evalue": "'NAType' object is not iterable",
     "output_type": "error",
     "traceback": [
      "\u001b[1;31m---------------------------------------------------------------------------\u001b[0m",
      "\u001b[1;31mTypeError\u001b[0m                                 Traceback (most recent call last)",
      "Cell \u001b[1;32mIn[83], line 3\u001b[0m\n\u001b[0;32m      1\u001b[0m plll \u001b[39m=\u001b[39m \u001b[39m'\u001b[39m\u001b[39m2010-04-01\u001b[39m\u001b[39m'\u001b[39m\n\u001b[1;32m----> 3\u001b[0m iiiii \u001b[39m=\u001b[39m np\u001b[39m.\u001b[39;49mvectorize(check_date)(\n\u001b[0;32m      4\u001b[0m     plant_date \u001b[39m=\u001b[39;49m plant_date_day,\n\u001b[0;32m      5\u001b[0m     n_day \u001b[39m=\u001b[39;49m land_use[\u001b[39m\"\u001b[39;49m\u001b[39mTotal\u001b[39;49m\u001b[39m\"\u001b[39;49m][:,:],\n\u001b[0;32m      6\u001b[0m     model_date \u001b[39m=\u001b[39;49m \u001b[39m'\u001b[39;49m\u001b[39m2010-04-01\u001b[39;49m\u001b[39m'\u001b[39;49m\n\u001b[0;32m      7\u001b[0m )\n",
      "File \u001b[1;32mc:\\Users\\psh2610\\AppData\\Local\\miniconda3\\lib\\site-packages\\numpy\\lib\\function_base.py:2372\u001b[0m, in \u001b[0;36mvectorize.__call__\u001b[1;34m(self, *args, **kwargs)\u001b[0m\n\u001b[0;32m   2369\u001b[0m     \u001b[39mself\u001b[39m\u001b[39m.\u001b[39m_init_stage_2(\u001b[39m*\u001b[39margs, \u001b[39m*\u001b[39m\u001b[39m*\u001b[39mkwargs)\n\u001b[0;32m   2370\u001b[0m     \u001b[39mreturn\u001b[39;00m \u001b[39mself\u001b[39m\n\u001b[1;32m-> 2372\u001b[0m \u001b[39mreturn\u001b[39;00m \u001b[39mself\u001b[39m\u001b[39m.\u001b[39m_call_as_normal(\u001b[39m*\u001b[39margs, \u001b[39m*\u001b[39m\u001b[39m*\u001b[39mkwargs)\n",
      "File \u001b[1;32mc:\\Users\\psh2610\\AppData\\Local\\miniconda3\\lib\\site-packages\\numpy\\lib\\function_base.py:2365\u001b[0m, in \u001b[0;36mvectorize._call_as_normal\u001b[1;34m(self, *args, **kwargs)\u001b[0m\n\u001b[0;32m   2362\u001b[0m     vargs \u001b[39m=\u001b[39m [args[_i] \u001b[39mfor\u001b[39;00m _i \u001b[39min\u001b[39;00m inds]\n\u001b[0;32m   2363\u001b[0m     vargs\u001b[39m.\u001b[39mextend([kwargs[_n] \u001b[39mfor\u001b[39;00m _n \u001b[39min\u001b[39;00m names])\n\u001b[1;32m-> 2365\u001b[0m \u001b[39mreturn\u001b[39;00m \u001b[39mself\u001b[39;49m\u001b[39m.\u001b[39;49m_vectorize_call(func\u001b[39m=\u001b[39;49mfunc, args\u001b[39m=\u001b[39;49mvargs)\n",
      "File \u001b[1;32mc:\\Users\\psh2610\\AppData\\Local\\miniconda3\\lib\\site-packages\\numpy\\lib\\function_base.py:2450\u001b[0m, in \u001b[0;36mvectorize._vectorize_call\u001b[1;34m(self, func, args)\u001b[0m\n\u001b[0;32m   2448\u001b[0m     res \u001b[39m=\u001b[39m func()\n\u001b[0;32m   2449\u001b[0m \u001b[39melse\u001b[39;00m:\n\u001b[1;32m-> 2450\u001b[0m     ufunc, otypes \u001b[39m=\u001b[39m \u001b[39mself\u001b[39;49m\u001b[39m.\u001b[39;49m_get_ufunc_and_otypes(func\u001b[39m=\u001b[39;49mfunc, args\u001b[39m=\u001b[39;49margs)\n\u001b[0;32m   2452\u001b[0m     \u001b[39m# Convert args to object arrays first\u001b[39;00m\n\u001b[0;32m   2453\u001b[0m     inputs \u001b[39m=\u001b[39m [asanyarray(a, dtype\u001b[39m=\u001b[39m\u001b[39mobject\u001b[39m) \u001b[39mfor\u001b[39;00m a \u001b[39min\u001b[39;00m args]\n",
      "File \u001b[1;32mc:\\Users\\psh2610\\AppData\\Local\\miniconda3\\lib\\site-packages\\numpy\\lib\\function_base.py:2410\u001b[0m, in \u001b[0;36mvectorize._get_ufunc_and_otypes\u001b[1;34m(self, func, args)\u001b[0m\n\u001b[0;32m   2406\u001b[0m     \u001b[39mraise\u001b[39;00m \u001b[39mValueError\u001b[39;00m(\u001b[39m'\u001b[39m\u001b[39mcannot call `vectorize` on size 0 inputs \u001b[39m\u001b[39m'\u001b[39m\n\u001b[0;32m   2407\u001b[0m                      \u001b[39m'\u001b[39m\u001b[39munless `otypes` is set\u001b[39m\u001b[39m'\u001b[39m)\n\u001b[0;32m   2409\u001b[0m inputs \u001b[39m=\u001b[39m [arg\u001b[39m.\u001b[39mflat[\u001b[39m0\u001b[39m] \u001b[39mfor\u001b[39;00m arg \u001b[39min\u001b[39;00m args]\n\u001b[1;32m-> 2410\u001b[0m outputs \u001b[39m=\u001b[39m func(\u001b[39m*\u001b[39;49minputs)\n\u001b[0;32m   2412\u001b[0m \u001b[39m# Performance note: profiling indicates that -- for simple\u001b[39;00m\n\u001b[0;32m   2413\u001b[0m \u001b[39m# functions at least -- this wrapping can almost double the\u001b[39;00m\n\u001b[0;32m   2414\u001b[0m \u001b[39m# execution time.\u001b[39;00m\n\u001b[0;32m   2415\u001b[0m \u001b[39m# Hence we make it optional.\u001b[39;00m\n\u001b[0;32m   2416\u001b[0m \u001b[39mif\u001b[39;00m \u001b[39mself\u001b[39m\u001b[39m.\u001b[39mcache:\n",
      "File \u001b[1;32mc:\\Users\\psh2610\\AppData\\Local\\miniconda3\\lib\\site-packages\\numpy\\lib\\function_base.py:2360\u001b[0m, in \u001b[0;36mvectorize._call_as_normal.<locals>.func\u001b[1;34m(*vargs)\u001b[0m\n\u001b[0;32m   2358\u001b[0m     the_args[_i] \u001b[39m=\u001b[39m vargs[_n]\n\u001b[0;32m   2359\u001b[0m kwargs\u001b[39m.\u001b[39mupdate(\u001b[39mzip\u001b[39m(names, vargs[\u001b[39mlen\u001b[39m(inds):]))\n\u001b[1;32m-> 2360\u001b[0m \u001b[39mreturn\u001b[39;00m \u001b[39mself\u001b[39m\u001b[39m.\u001b[39mpyfunc(\u001b[39m*\u001b[39mthe_args, \u001b[39m*\u001b[39m\u001b[39m*\u001b[39mkwargs)\n",
      "Cell \u001b[1;32mIn[80], line 2\u001b[0m, in \u001b[0;36mcheck_date\u001b[1;34m(plant_date, n_day, model_date)\u001b[0m\n\u001b[0;32m      1\u001b[0m \u001b[39mdef\u001b[39;00m \u001b[39mcheck_date\u001b[39m(plant_date, n_day, model_date):\n\u001b[1;32m----> 2\u001b[0m     \u001b[39mfor\u001b[39;00m date_ii \u001b[39min\u001b[39;00m plant_date:\n\u001b[0;32m      3\u001b[0m         \u001b[39mif\u001b[39;00m pd\u001b[39m.\u001b[39misna(date_ii):\n\u001b[0;32m      4\u001b[0m             \u001b[39mreturn\u001b[39;00m \u001b[39mFalse\u001b[39;00m\n",
      "\u001b[1;31mTypeError\u001b[0m: 'NAType' object is not iterable"
     ]
    }
   ],
   "source": [
    "plll = '2010-04-01'\n",
    "\n",
    "iiiii = np.vectorize(check_date)(\n",
    "    plant_date = plant_date_day,\n",
    "    n_day = land_use[\"Total\"][:,:],\n",
    "    model_date = '2010-04-01'\n",
    ")"
   ]
  },
  {
   "cell_type": "code",
   "execution_count": 81,
   "metadata": {},
   "outputs": [
    {
     "data": {
      "text/plain": [
       "array([[<NA>, <NA>, <NA>, ..., <NA>, <NA>, <NA>],\n",
       "       [<NA>, <NA>, <NA>, ..., <NA>, <NA>, <NA>],\n",
       "       [<NA>, <NA>, <NA>, ..., <NA>, <NA>, <NA>],\n",
       "       ...,\n",
       "       [<NA>, <NA>, <NA>, ..., <NA>, <NA>, <NA>],\n",
       "       [<NA>, <NA>, <NA>, ..., <NA>, <NA>, <NA>],\n",
       "       [<NA>, <NA>, <NA>, ..., <NA>, <NA>, <NA>]], dtype=object)"
      ]
     },
     "execution_count": 81,
     "metadata": {},
     "output_type": "execute_result"
    }
   ],
   "source": [
    "plant_date_day"
   ]
  },
  {
   "cell_type": "code",
   "execution_count": 72,
   "metadata": {},
   "outputs": [
    {
     "data": {
      "text/plain": [
       "array([False, False, False, False, False, False, False, False, False,\n",
       "       False, False, False, False, False, False, False, False, False,\n",
       "       False, False, False, False, False, False, False, False, False,\n",
       "       False, False, False, False, False, False, False, False, False,\n",
       "        True, False, False, False, False, False, False, False, False,\n",
       "       False,  True, False, False, False, False, False, False, False,\n",
       "       False, False, False, False, False, False, False, False, False,\n",
       "       False, False, False, False, False, False, False,  True,  True,\n",
       "        True,  True,  True,  True, False, False, False, False, False,\n",
       "        True,  True, False, False, False, False, False, False, False,\n",
       "       False, False, False,  True,  True,  True,  True, False, False,\n",
       "       False,  True,  True,  True,  True,  True, False, False, False,\n",
       "       False, False, False, False,  True,  True,  True,  True, False,\n",
       "       False, False,  True,  True,  True,  True,  True,  True,  True,\n",
       "        True,  True,  True, False, False, False, False, False,  True,\n",
       "       False, False, False, False, False,  True,  True,  True,  True,\n",
       "        True, False,  True,  True, False, False, False, False, False,\n",
       "       False,  True,  True,  True,  True,  True,  True,  True,  True,\n",
       "        True,  True,  True,  True,  True,  True,  True,  True,  True,\n",
       "       False, False, False, False, False, False, False, False, False,\n",
       "       False,  True,  True,  True,  True,  True,  True,  True,  True,\n",
       "        True,  True,  True,  True,  True,  True,  True,  True,  True,\n",
       "        True, False, False,  True, False, False, False, False, False,\n",
       "       False, False, False, False, False, False, False, False, False,\n",
       "       False, False, False, False, False, False, False, False, False,\n",
       "       False, False, False, False, False, False, False, False, False,\n",
       "       False, False, False, False, False, False, False, False, False,\n",
       "       False, False, False, False,  True,  True,  True,  True,  True,\n",
       "       False, False, False, False, False, False, False,  True, False,\n",
       "       False, False,  True,  True,  True,  True,  True,  True,  True,\n",
       "        True,  True,  True,  True,  True,  True, False, False,  True,\n",
       "       False, False, False, False, False, False,  True,  True,  True,\n",
       "        True,  True,  True,  True,  True,  True,  True,  True,  True,\n",
       "        True,  True,  True,  True,  True,  True,  True,  True,  True,\n",
       "        True,  True,  True,  True,  True,  True,  True, False, False,\n",
       "       False, False, False, False, False, False, False, False, False,\n",
       "        True,  True,  True, False, False, False, False, False, False,\n",
       "       False, False, False, False, False, False, False,  True, False,\n",
       "        True,  True,  True,  True,  True,  True,  True,  True,  True,\n",
       "        True, False, False, False, False, False, False,  True,  True,\n",
       "        True,  True,  True,  True,  True,  True,  True,  True,  True,\n",
       "        True,  True,  True,  True,  True,  True,  True, False, False,\n",
       "       False, False, False, False, False, False, False, False, False,\n",
       "       False, False, False, False, False, False, False, False,  True,\n",
       "       False, False, False, False, False, False, False, False, False,\n",
       "       False, False, False, False, False, False, False,  True,  True,\n",
       "        True,  True,  True, False, False, False, False, False, False,\n",
       "       False, False, False, False, False, False, False, False, False,\n",
       "       False, False, False, False, False, False, False, False, False,\n",
       "       False, False, False, False, False, False, False, False, False,\n",
       "       False, False, False, False, False, False, False, False, False,\n",
       "       False, False, False, False, False, False, False, False, False,\n",
       "       False, False, False, False, False, False, False, False, False,\n",
       "       False, False, False, False, False, False, False, False, False,\n",
       "       False, False, False, False, False, False, False, False, False,\n",
       "       False, False, False, False, False, False,  True,  True, False,\n",
       "        True,  True,  True,  True, False, False, False, False, False,\n",
       "       False, False,  True,  True, False, False, False,  True,  True,\n",
       "       False, False, False, False, False,  True, False,  True,  True,\n",
       "       False, False, False, False, False, False, False, False, False,\n",
       "       False, False, False, False, False, False, False, False, False,\n",
       "       False, False, False, False, False, False, False, False, False,\n",
       "       False, False, False, False, False, False, False, False, False,\n",
       "       False, False, False, False, False, False, False, False, False,\n",
       "       False, False, False, False, False, False, False, False, False,\n",
       "       False, False, False, False, False, False, False, False, False,\n",
       "       False, False, False, False, False, False])"
      ]
     },
     "execution_count": 72,
     "metadata": {},
     "output_type": "execute_result"
    }
   ],
   "source": [
    "date(int(model_date[:4]), int(model_date[5:7]), int(model_date[8:]))\n",
    "\n",
    "\n",
    "# print(pd.isna(pd.NA))\n",
    "\n",
    "\n",
    "igs = np.vectorize(lambda d: False if pd.isna(d) else date(int(d[:4]), int(d[5:7]), int(d[8:])))(\n",
    "    d = plant_date_day\n",
    ")\n",
    "igs[0]"
   ]
  },
  {
   "cell_type": "code",
   "execution_count": 65,
   "metadata": {},
   "outputs": [
    {
     "name": "stdout",
     "output_type": "stream",
     "text": [
      "False\n"
     ]
    }
   ],
   "source": [
    "plll = '2010-04-01'\n",
    "plll_2 = '2010-03-02'\n",
    "pld = date(int(plll[:4]), int(plll[5:7]), int(plll[8:]))\n",
    "pld_2 = date(int(plll_2[:4]), int(plll_2[5:7]), int(plll_2[8:]))\n",
    "\n",
    "print(pld_2 > pld)"
   ]
  }
 ],
 "metadata": {
  "kernelspec": {
   "display_name": "base",
   "language": "python",
   "name": "python3"
  },
  "language_info": {
   "codemirror_mode": {
    "name": "ipython",
    "version": 3
   },
   "file_extension": ".py",
   "mimetype": "text/x-python",
   "name": "python",
   "nbconvert_exporter": "python",
   "pygments_lexer": "ipython3",
   "version": "3.10.11"
  },
  "orig_nbformat": 4
 },
 "nbformat": 4,
 "nbformat_minor": 2
}
