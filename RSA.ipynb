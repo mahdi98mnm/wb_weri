{
 "cells": [
  {
   "cell_type": "code",
   "execution_count": 1,
   "metadata": {},
   "outputs": [],
   "source": [
    "from pysheds.grid import Grid\n",
    "import numpy as np\n",
    "import matplotlib.pyplot as plt\n",
    "from matplotlib import colors\n",
    "import seaborn as sns\n",
    "import meteomatics.api as api\n",
    "import datetime as dt\n",
    "import rioxarray"
   ]
  },
  {
   "cell_type": "markdown",
   "metadata": {},
   "source": [
    "# import tiff file"
   ]
  },
  {
   "cell_type": "code",
   "execution_count": null,
   "metadata": {},
   "outputs": [],
   "source": [
    "###Credentials:\n",
    "username = 'python-community'\n",
    "password = 'Umivipawe179'"
   ]
  },
  {
   "cell_type": "code",
   "execution_count": null,
   "metadata": {},
   "outputs": [],
   "source": [
    "lat_N = 41.249\n",
    "lon_W = -118.859\n",
    "lat_S = 35.206\n",
    "lon_E = -114.147\n",
    "res = 0.1"
   ]
  },
  {
   "cell_type": "code",
   "execution_count": null,
   "metadata": {},
   "outputs": [],
   "source": [
    "startdate_grid = dt.datetime.utcnow().replace(hour=0, minute=0, second=0, microsecond=0)"
   ]
  },
  {
   "cell_type": "code",
   "execution_count": null,
   "metadata": {},
   "outputs": [],
   "source": [
    "elev = api.query_grid(\n",
    "  startdate_grid, 'elevation:m', lat_N, lon_W,\n",
    "  lat_S, lon_E, res, res, username, password\n",
    ")"
   ]
  },
  {
   "cell_type": "code",
   "execution_count": null,
   "metadata": {},
   "outputs": [],
   "source": [
    "elev[elev <= 0.0] = np.nan\n",
    "da = elev.T.unstack().to_xarray()\n",
    "nc = da.to_dataset(name='elevation')\n",
    "nc"
   ]
  },
  {
   "cell_type": "code",
   "execution_count": null,
   "metadata": {},
   "outputs": [],
   "source": [
    "nc.rio.set_spatial_dims( 'lon', 'lat', inplace=True)\n",
    "nc.rio.set_crs(\"epsg:4326\", inplace=True)\n",
    "nc.rio.to_raster('elevation.tif') \n",
    "grid = Grid.from_raster('elevation.tif')\n",
    "dem = grid.read_raster('elevation.tif')"
   ]
  },
  {
   "cell_type": "code",
   "execution_count": 2,
   "metadata": {},
   "outputs": [
    {
     "name": "stderr",
     "output_type": "stream",
     "text": [
      "d:\\mehdi\\.venv\\lib\\site-packages\\pysheds\\io.py:134: UserWarning: No `nodata` value detected. Defaulting to 0.\n",
      "  warnings.warn('No `nodata` value detected. Defaulting to 0.')\n",
      "d:\\mehdi\\.venv\\lib\\site-packages\\pysheds\\io.py:134: UserWarning: No `nodata` value detected. Defaulting to 0.\n",
      "  warnings.warn('No `nodata` value detected. Defaulting to 0.')\n"
     ]
    }
   ],
   "source": [
    "path_dem = r'D:\\mehdi\\DailyData\\nevada_basin8\\nevada_8s_of_a_6.tif'\n",
    "grid = Grid.from_raster(path_dem)\n",
    "dem = grid.read_raster(path_dem)"
   ]
  },
  {
   "cell_type": "markdown",
   "metadata": {},
   "source": [
    "# Elevation to flow direction"
   ]
  },
  {
   "cell_type": "code",
   "execution_count": 3,
   "metadata": {},
   "outputs": [
    {
     "data": {
      "text/plain": [
       "Raster([[0, 0, 0, ..., 0, 0, 0],\n",
       "        [0, 0, 0, ..., 0, 0, 0],\n",
       "        [0, 0, 0, ..., 0, 0, 0],\n",
       "        ...,\n",
       "        [0, 0, 0, ..., 0, 0, 0],\n",
       "        [0, 0, 0, ..., 0, 0, 0],\n",
       "        [0, 0, 0, ..., 0, 0, 0]], dtype=int64)"
      ]
     },
     "execution_count": 3,
     "metadata": {},
     "output_type": "execute_result"
    }
   ],
   "source": [
    "# Determine D8 flow directions from DEM\n",
    "# ----------------------\n",
    "# Specify directional mapping\n",
    "dirmap = (64, 128, 1, 2, 4, 8, 16, 32)\n",
    "    \n",
    "# Compute flow directions\n",
    "# -------------------------------------\n",
    "fdir = grid.flowdir(dem, dirmap=dirmap)\n",
    "fdir"
   ]
  },
  {
   "cell_type": "markdown",
   "metadata": {},
   "source": [
    "# Compute accumulation from flow direction"
   ]
  },
  {
   "cell_type": "code",
   "execution_count": 4,
   "metadata": {},
   "outputs": [],
   "source": [
    "# Calculate flow accumulation\n",
    "# --------------------------\n",
    "acc = grid.accumulation(fdir, dirmap=dirmap)\n"
   ]
  },
  {
   "cell_type": "markdown",
   "metadata": {},
   "source": [
    "# Delineate catchment from flow direction"
   ]
  },
  {
   "cell_type": "code",
   "execution_count": 5,
   "metadata": {},
   "outputs": [],
   "source": [
    "# Delineate a catchment\n",
    "# ---------------------\n",
    "# Specify pour point\n",
    "x, y = -115.24, 35.30\n",
    "\n",
    "# Snap pour point to high accumulation cell\n",
    "x_snap, y_snap = grid.snap_to_mask(acc > 1000, (x, y))\n",
    "\n",
    "# Delineate the catchment\n",
    "catch = grid.catchment(x=x_snap, y=y_snap, fdir=fdir, dirmap=dirmap, \n",
    "                       xytype='coordinate')\n",
    "\n",
    "# Crop and plot the catchment\n",
    "# ---------------------------\n",
    "# Clip the bounding box to the catchment\n",
    "grid.clip_to(catch)\n",
    "clipped_catch = grid.view(catch)"
   ]
  },
  {
   "cell_type": "markdown",
   "metadata": {},
   "source": [
    "# Extract the river network"
   ]
  },
  {
   "cell_type": "code",
   "execution_count": 6,
   "metadata": {},
   "outputs": [],
   "source": [
    "# Extract river network\n",
    "# ---------------------\n",
    "branches = grid.extract_river_network(fdir, acc > 50, dirmap=dirmap)"
   ]
  },
  {
   "cell_type": "markdown",
   "metadata": {},
   "source": [
    "# Compute flow distance from flow direction"
   ]
  },
  {
   "cell_type": "code",
   "execution_count": 7,
   "metadata": {},
   "outputs": [],
   "source": [
    "# Calculate distance to outlet from each cell\n",
    "# -------------------------------------------\n",
    "dist = grid.distance_to_outlet(x=x_snap, y=y_snap, fdir=fdir, dirmap=dirmap,\n",
    "                               xytype='coordinate')\n",
    "\n"
   ]
  },
  {
   "cell_type": "code",
   "execution_count": 8,
   "metadata": {},
   "outputs": [
    {
     "data": {
      "text/plain": [
       "Text(0.5, 1.0, 'Flow Distance')"
      ]
     },
     "execution_count": 8,
     "metadata": {},
     "output_type": "execute_result"
    },
    {
     "data": {
      "image/png": "[encoded data removed]",
      "text/plain": [
       "<Figure size 800x600 with 2 Axes>"
      ]
     },
     "metadata": {
      "needs_background": "light"
     },
     "output_type": "display_data"
    }
   ],
   "source": [
    "fig, ax = plt.subplots(figsize=(8,6))\n",
    "fig.patch.set_alpha(0)\n",
    "plt.grid('on', zorder=0)\n",
    "im = ax.imshow(dist, extent=grid.extent, zorder=2,\n",
    "               cmap='cubehelix_r')\n",
    "plt.colorbar(im, ax=ax, label='Distance to outlet (cells)')\n",
    "plt.xlabel('Longitude')\n",
    "plt.ylabel('Latitude')\n",
    "plt.title('Flow Distance', size=14)"
   ]
  }
 ],
 "metadata": {
  "kernelspec": {
   "display_name": ".venv",
   "language": "python",
   "name": "python3"
  },
  "language_info": {
   "codemirror_mode": {
    "name": "ipython",
    "version": 3
   },
   "file_extension": ".py",
   "mimetype": "text/x-python",
   "name": "python",
   "nbconvert_exporter": "python",
   "pygments_lexer": "ipython3",
   "version": "3.10.12"
  },
  "orig_nbformat": 4
 },
 "nbformat": 4,
 "nbformat_minor": 2
}
