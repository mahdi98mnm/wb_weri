{
  "nbformat": 4,
  "nbformat_minor": 0,
  "metadata": {
    "colab": {
      "private_outputs": true,
      "provenance": []
    },
    "kernelspec": {
      "name": "python3",
      "display_name": "Python 3"
    },
    "language_info": {
      "name": "python"
    }
  },
  "cells": [
    {
      "cell_type": "markdown",
      "source": [
        "# import library"
      ],
      "metadata": {
        "id": "pZzrgGK885PF"
      }
    },
    {
      "cell_type": "code",
      "execution_count": null,
      "metadata": {
        "id": "A2FWRJJmaONb"
      },
      "outputs": [],
      "source": [
        "import os, sys\n",
        "from google.colab import drive\n",
        "drive.mount('/content/drive')"
      ]
    },
    {
      "cell_type": "code",
      "source": [
        "! pip install wxee rasterio"
      ],
      "metadata": {
        "id": "_nSk17CBakYa"
      },
      "execution_count": null,
      "outputs": []
    },
    {
      "cell_type": "code",
      "source": [
        "import xarray as xr\n",
        "import ee\n",
        "import itertools\n",
        "import pickle\n",
        "import pandas as pd\n",
        "import wxee\n",
        "import rasterio\n",
        "import numpy as np\n",
        "from datetime import datetime"
      ],
      "metadata": {
        "id": "co9LF0mgapv9"
      },
      "execution_count": null,
      "outputs": []
    },
    {
      "cell_type": "markdown",
      "source": [
        "# import constant"
      ],
      "metadata": {
        "id": "s9WWFMu789lH"
      }
    },
    {
      "cell_type": "code",
      "source": [
        "LAT_MIN = 25\n",
        "LAT_MAX = 45\n",
        "LON_MIN = -125\n",
        "LON_MAX = -65"
      ],
      "metadata": {
        "id": "27uYVUNgasqr"
      },
      "execution_count": null,
      "outputs": []
    },
    {
      "cell_type": "markdown",
      "source": [
        "# import xarray sample"
      ],
      "metadata": {
        "id": "eog9_UNX9AdV"
      }
    },
    {
      "cell_type": "code",
      "source": [
        "soil_wc = xr.open_dataset('/content/drive/MyDrive/w/soil_water_content_1979001.nc')\n",
        "soil_wc"
      ],
      "metadata": {
        "id": "3u9pFbtoau43"
      },
      "execution_count": null,
      "outputs": []
    },
    {
      "cell_type": "markdown",
      "source": [
        "# GEE"
      ],
      "metadata": {
        "id": "jW0wsR579C26"
      }
    },
    {
      "cell_type": "code",
      "source": [
        "service_account = 'test-175@ee-mohammadnejadmehdi77.iam.gserviceaccount.com'\n",
        "\n",
        "credentials = ee.ServiceAccountCredentials(\n",
        "    email=service_account,\n",
        "    key_file=\"/content/drive/MyDrive/w/private-key.json\"\n",
        ")\n",
        "\n",
        "ee.Initialize(credentials)"
      ],
      "metadata": {
        "id": "5u3XBizaax8J"
      },
      "execution_count": null,
      "outputs": []
    },
    {
      "cell_type": "markdown",
      "source": [
        "# get landuse data as xarray"
      ],
      "metadata": {
        "id": "_sYvgwrG9Dtz"
      }
    },
    {
      "cell_type": "code",
      "source": [
        "shape = ee.Geometry.Rectangle([LON_MAX,LAT_MIN,LON_MIN,LAT_MAX])\n",
        "\n",
        "landuse_fao = ee.ImageCollection(\"projects/sat-io/open-datasets/landcover/ESRI_Global-LULC_10m_TS\")\n",
        "\n",
        "\n",
        "\n",
        "landuse_fao = landuse_fao.filterDate('2022-01-01','2022-12-31').filterBounds(shape)\n",
        "\n",
        "\n",
        "landuse_fao = landuse_fao.set(\"system:time_start\", ee.Date(\"2022-01-01\"))\n",
        "arr_landuse_fao = landuse_fao.wx.to_xarray(scale=10000, crs='EPSG:4326')\n",
        "\n",
        "\n",
        "xds_repr_match_landuse_fao = arr_landuse_fao.rio.reproject_match(soil_wc, resampling = rasterio.enums.Resampling.mode)\n",
        "xds_repr_match_landuse_fao\n"
      ],
      "metadata": {
        "id": "9RWzeQbMbAhG"
      },
      "execution_count": null,
      "outputs": []
    },
    {
      "cell_type": "code",
      "source": [
        "xds_repr_match_landuse_fao.time"
      ],
      "metadata": {
        "id": "fyNYgIuK2ZDj"
      },
      "execution_count": null,
      "outputs": []
    },
    {
      "cell_type": "code",
      "source": [
        "new_times = pd.to_datetime('2022-01-01T00:00:00.000000000')\n",
        "\n",
        "# old_time_index = xds_repr_match_landuse_fao.time.to_index().get_loc('2022-01-01T01:30:00.000000000')\n",
        "\n",
        "\n",
        "# xds_repr_match_landuse_fao['time'][old_time_index] = new_times\n",
        "\n",
        "\n",
        "\n",
        "# Create a new dataset with the desired time values\n",
        "# new_dataset = xds_repr_match_landuse_fao.assign_coords(time = new_times)\n",
        "new_dataset = xds_repr_match_landuse_fao.assign_coords(time=(\"time\", new_times))\n",
        "\n",
        "new_dataset\n"
      ],
      "metadata": {
        "id": "SaxeFWFc0IbD"
      },
      "execution_count": null,
      "outputs": []
    },
    {
      "cell_type": "code",
      "source": [
        "import numpy as np\n",
        "np.unique(xds_repr_match_landuse_fao[\"b1\"])"
      ],
      "metadata": {
        "id": "vwX0oMRD98aO"
      },
      "execution_count": null,
      "outputs": []
    },
    {
      "cell_type": "markdown",
      "source": [
        "# get class landuse file"
      ],
      "metadata": {
        "id": "aOT65MKI9Img"
      }
    },
    {
      "cell_type": "code",
      "source": [
        "df_1 = pd.read_excel(\"/content/drive/MyDrive/w/landuse_fao.xlsx\", sheet_name=\"Sheet1\")\n",
        "df_1"
      ],
      "metadata": {
        "id": "1bxX24dp9MLN"
      },
      "execution_count": null,
      "outputs": []
    },
    {
      "cell_type": "code",
      "source": [
        "column_titles = df_1.columns.tolist()\n",
        "omitted_list = column_titles[1:]\n",
        "column_titles"
      ],
      "metadata": {
        "id": "-C7xAEcS-TOj"
      },
      "execution_count": null,
      "outputs": []
    },
    {
      "cell_type": "markdown",
      "source": [
        "# map dataframe on landse data"
      ],
      "metadata": {
        "id": "gGar1u1h9fSn"
      }
    },
    {
      "cell_type": "code",
      "source": [
        "column_titles = df_1.columns.tolist()\n",
        "omitted_list = column_titles[1:]\n",
        "\n",
        "df = xds_repr_match_landuse_fao.to_dataframe()\n",
        "\n",
        "for col in omitted_list:\n",
        "\n",
        "    land_use_fao_dict = dict(zip(df_1['Class Value'], df_1[col]))\n",
        "\n",
        "    df[col] = df['b1'].map(land_use_fao_dict)\n",
        "\n",
        "\n",
        "landuse_name_da = df.to_xarray()\n",
        "landuse_name_da = landuse_name_da.transpose('time', 'y', 'x')\n",
        "landuse_name_da"
      ],
      "metadata": {
        "id": "PMm1lK5k9gOD"
      },
      "execution_count": null,
      "outputs": []
    },
    {
      "cell_type": "code",
      "source": [
        "xds_repr_match_landuse_fao.to_netcdf(\"/content/drive/MyDrive/w/land_use_fao_2022001.nc\")"
      ],
      "metadata": {
        "id": "YaZoXE_OdB2c"
      },
      "execution_count": null,
      "outputs": []
    }
  ]
}