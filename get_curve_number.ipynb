{
  "nbformat": 4,
  "nbformat_minor": 0,
  "metadata": {
    "colab": {
      "private_outputs": true,
      "provenance": []
    },
    "kernelspec": {
      "name": "python3",
      "display_name": "Python 3"
    },
    "language_info": {
      "name": "python"
    }
  },
  "cells": [
    {
      "cell_type": "code",
      "execution_count": null,
      "metadata": {
        "id": "ylW1BQ00aUsz"
      },
      "outputs": [],
      "source": [
        "from google.colab import drive\n",
        "drive.mount('/content/drive')"
      ]
    },
    {
      "cell_type": "markdown",
      "source": [
        "# import library"
      ],
      "metadata": {
        "id": "zyvr_vd3agMY"
      }
    },
    {
      "cell_type": "code",
      "source": [
        "! pip install wxee rioxarray rasterio"
      ],
      "metadata": {
        "id": "Q2SeMp3sa1v9"
      },
      "execution_count": null,
      "outputs": []
    },
    {
      "cell_type": "code",
      "source": [
        "import os\n",
        "import sys\n",
        "import pandas as pd\n",
        "import numpy as np\n",
        "import xarray as xr\n",
        "import ee\n",
        "import wxee\n",
        "import rioxarray\n",
        "import rasterio\n",
        "import pickle\n",
        "import pyproj"
      ],
      "metadata": {
        "id": "ckvlus7Qar0C"
      },
      "execution_count": null,
      "outputs": []
    },
    {
      "cell_type": "markdown",
      "source": [
        "# sample data"
      ],
      "metadata": {
        "id": "FuD7AWd_cWTh"
      }
    },
    {
      "cell_type": "code",
      "source": [
        "soil_wc = xr.open_dataset('/content/drive/MyDrive/w/soil_water_content_1979001.nc')"
      ],
      "metadata": {
        "id": "cY1n6abLcWec"
      },
      "execution_count": null,
      "outputs": []
    },
    {
      "cell_type": "markdown",
      "source": [
        "# set coordinate"
      ],
      "metadata": {
        "id": "P1-robz3bEHR"
      }
    },
    {
      "cell_type": "code",
      "source": [
        "LAT_MIN = 25\n",
        "LAT_MAX = 45\n",
        "LON_MIN = -125\n",
        "LON_MAX = -65"
      ],
      "metadata": {
        "id": "uT56XUaAbDce"
      },
      "execution_count": null,
      "outputs": []
    },
    {
      "cell_type": "markdown",
      "source": [
        "# Authorize in Google Earth Engine"
      ],
      "metadata": {
        "id": "OjA1yq3rbfHy"
      }
    },
    {
      "cell_type": "code",
      "source": [
        "service_account = 'test-175@ee-mohammadnejadmehdi77.iam.gserviceaccount.com'\n",
        "\n",
        "credentials = ee.ServiceAccountCredentials(\n",
        "    email=service_account,\n",
        "    key_file='/content/drive/MyDrive/w/private-key.json'\n",
        ")\n",
        "\n",
        "ee.Initialize(credentials)"
      ],
      "metadata": {
        "id": "06ekNgXNbfOL"
      },
      "execution_count": null,
      "outputs": []
    },
    {
      "cell_type": "markdown",
      "source": [
        "# function for mask netcdf files"
      ],
      "metadata": {
        "id": "BpwZKqURbLjB"
      }
    },
    {
      "cell_type": "code",
      "source": [
        "def mask_nc_file(\n",
        "    nc,\n",
        "    variable,\n",
        "    lat_min,\n",
        "    lat_max,\n",
        "    lon_min,\n",
        "    lon_max\n",
        "):\n",
        "    with xr.open_dataset(nc) as xr_nc:\n",
        "        result = xr_nc.sel(\n",
        "            lat = slice(lat_max, lat_min),\n",
        "            lon = slice(lon_min, lon_max),\n",
        "        )\n",
        "    return result"
      ],
      "metadata": {
        "id": "Nw7vyHXxbLo6"
      },
      "execution_count": null,
      "outputs": []
    },
    {
      "cell_type": "markdown",
      "source": [
        "# Load Data Curve Number"
      ],
      "metadata": {
        "id": "_1ArYQUgbTge"
      }
    },
    {
      "cell_type": "code",
      "source": [
        "crs = 4326\n",
        "shape = ee.Geometry.Rectangle([LON_MAX,LAT_MIN,LON_MIN,LAT_MAX])\n",
        "\n",
        "CN_Wyoming =  ee.Image(\"users/jaafarhadi/GCN250/GCN250Dry\").select('b1').rename('dry')\n",
        "\n",
        "CN_Wyoming = CN_Wyoming.clip(shape)\n",
        "\n",
        "\n",
        "CN_Wyoming = CN_Wyoming.set(\"system:time_start\", ee.Date(\"1979-01-01\"))\n",
        "arr = CN_Wyoming.wx.to_xarray(scale=10000, crs=f'EPSG:{crs}')\n",
        "xds_repr_match_cn = arr.rio.reproject_match(soil_wc, resampling = rasterio.enums.Resampling.nearest)\n"
      ],
      "metadata": {
        "id": "2bAQPhKPbTmA"
      },
      "execution_count": null,
      "outputs": []
    },
    {
      "cell_type": "markdown",
      "source": [
        "# save as a netcdf file"
      ],
      "metadata": {
        "id": "vbbsAyLNdKgd"
      }
    },
    {
      "cell_type": "code",
      "source": [
        "xds_repr_match_cn.to_netcdf(\"/content/drive/MyDrive/w/curve_number_1979001.nc\")"
      ],
      "metadata": {
        "id": "wEVYSEkzc-8v"
      },
      "execution_count": null,
      "outputs": []
    }
  ]
}