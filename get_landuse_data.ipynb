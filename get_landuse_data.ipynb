{
  "nbformat": 4,
  "nbformat_minor": 0,
  "metadata": {
    "colab": {
      "private_outputs": true,
      "provenance": []
    },
    "kernelspec": {
      "name": "python3",
      "display_name": "Python 3"
    },
    "language_info": {
      "name": "python"
    }
  },
  "cells": [
    {
      "cell_type": "markdown",
      "source": [
        "# import library"
      ],
      "metadata": {
        "id": "YVBOteF_wmnz"
      }
    },
    {
      "cell_type": "code",
      "execution_count": null,
      "metadata": {
        "id": "c0N48-EepeTI"
      },
      "outputs": [],
      "source": [
        "import os, sys\n",
        "from google.colab import drive\n",
        "drive.mount('/content/drive')"
      ]
    },
    {
      "cell_type": "code",
      "source": [
        "! pip install wxee rasterio pyshp geemap geopandas shapely"
      ],
      "metadata": {
        "id": "sUfqwc7DqC0b"
      },
      "execution_count": null,
      "outputs": []
    },
    {
      "cell_type": "code",
      "source": [
        "import xarray as xr\n",
        "import ee\n",
        "import itertools\n",
        "import pickle\n",
        "import pandas as pd\n",
        "import wxee\n",
        "import rasterio\n",
        "import numpy as np\n",
        "from datetime import datetime\n",
        "import geopandas as gpd\n",
        "from shapely.geometry import mapping"
      ],
      "metadata": {
        "id": "AFyUHDnsp29i"
      },
      "execution_count": null,
      "outputs": []
    },
    {
      "cell_type": "markdown",
      "source": [
        "# import constant"
      ],
      "metadata": {
        "id": "v7MhmGhqwrli"
      }
    },
    {
      "cell_type": "code",
      "source": [
        "LAT_MIN = 25\n",
        "LAT_MAX = 45\n",
        "LON_MIN = -125\n",
        "LON_MAX = -65"
      ],
      "metadata": {
        "id": "5RDm7aD-qKUG"
      },
      "execution_count": null,
      "outputs": []
    },
    {
      "cell_type": "markdown",
      "source": [
        "# import xarray sample"
      ],
      "metadata": {
        "id": "TurrJuEUwxMT"
      }
    },
    {
      "cell_type": "code",
      "source": [
        "soil_wc = xr.open_dataset('/content/drive/MyDrive/w/soil_water_content_1979001.nc')\n",
        "soil_wc"
      ],
      "metadata": {
        "id": "-mp1C1GxqN1-"
      },
      "execution_count": null,
      "outputs": []
    },
    {
      "cell_type": "code",
      "source": [
        "soil_wc.rio.write_crs(\"epsg:4326\", inplace=True)\n",
        "soil_wc = soil_wc.sel(time = \"1979-01-01\")\n",
        "# soil_wc.rio.to_raster('/content/drive/MyDrive/w/swc_4326.tif')\n"
      ],
      "metadata": {
        "id": "cgXNHsuJoOoI"
      },
      "execution_count": null,
      "outputs": []
    },
    {
      "cell_type": "markdown",
      "source": [
        "# GEE"
      ],
      "metadata": {
        "id": "MUGpthi2w4Km"
      }
    },
    {
      "cell_type": "code",
      "source": [
        "service_account = 'test-175@ee-mohammadnejadmehdi77.iam.gserviceaccount.com'\n",
        "\n",
        "credentials = ee.ServiceAccountCredentials(\n",
        "    email=service_account,\n",
        "    key_file=\"/content/drive/MyDrive/w/private-key.json\"\n",
        ")\n",
        "\n",
        "ee.Initialize(credentials)"
      ],
      "metadata": {
        "id": "2hy81dunqQNf"
      },
      "execution_count": null,
      "outputs": []
    },
    {
      "cell_type": "markdown",
      "source": [
        "# get landuse data as xarray"
      ],
      "metadata": {
        "id": "mOPUjj49w_jv"
      }
    },
    {
      "cell_type": "code",
      "source": [
        "import geemap\n",
        "\n",
        "Map = geemap.Map()\n",
        "Map.add_basemap('HYBRID')\n",
        "\n",
        "shape = ee.Geometry.Rectangle([LON_MAX, LAT_MIN, LON_MIN, LAT_MAX])\n",
        "\n",
        "CDL = ee.ImageCollection('USDA/NASS/CDL')\n",
        "\n",
        "# Crop Mask selection\n",
        "\n",
        "cropland = CDL.filter(ee.Filter.date('2022-01-01', '2022-12-31')).first().select('cropland').clip(shape)\n",
        "\n",
        "cultivated = CDL.filter(ee.Filter.date('2022-01-01', '2022-12-31')).first().select('cultivated').clip(shape)\n",
        "\n",
        "# cropland = CDL.filter(ee.Filter.date('2022-01-01','2022-12-31')).select('cropland').filterBounds()\n",
        "\n",
        "# type(cropland)\n",
        "# Map.centerObject(shape, 9)\n",
        "# Map.addLayer(cropland, {}, 'cropland')\n",
        "# Map\n",
        "\n",
        "arr_cropland = cropland.wx.to_xarray(scale=10000)\n",
        "arr_cultivated = cultivated.wx.to_xarray(scale=10000)\n",
        "\n",
        "xds_repr_match_cropland = arr_cropland.rio.reproject_match(soil_wc, resampling = rasterio.enums.Resampling.max)\n",
        "xds_repr_match_cultivated = arr_cultivated.rio.reproject_match(soil_wc, resampling = rasterio.enums.Resampling.max)\n"
      ],
      "metadata": {
        "id": "UTc4a7W_9FGN"
      },
      "execution_count": null,
      "outputs": []
    },
    {
      "cell_type": "code",
      "source": [
        "xds_repr_match_cropland.rio.write_crs(\"epsg:4326\", inplace=True)\n",
        "xds_repr_match_cultivated.rio.write_crs(\"epsg:4326\", inplace=True)"
      ],
      "metadata": {
        "id": "I3OQCJjapiGk"
      },
      "execution_count": null,
      "outputs": []
    },
    {
      "cell_type": "code",
      "source": [
        "xds_repr_match_cropland.cropland.data = np.where(xds_repr_match_cropland.cropland.data ==-3.2768e+04 , np.nan, xds_repr_match_cropland.cropland.data)\n",
        "xds_repr_match_cultivated.cultivated.data = np.where(xds_repr_match_cultivated.cultivated.data ==-3.2768e+04 , np.nan, xds_repr_match_cultivated.cultivated.data)\n"
      ],
      "metadata": {
        "id": "nv-gJlCTAGnF"
      },
      "execution_count": null,
      "outputs": []
    },
    {
      "cell_type": "markdown",
      "source": [
        "# merge two dataset"
      ],
      "metadata": {
        "id": "s83c6CIvxFhP"
      }
    },
    {
      "cell_type": "code",
      "source": [
        "merged_dataset = xr.merge([xds_repr_match_cropland, xds_repr_match_cultivated])\n",
        "merged_dataset"
      ],
      "metadata": {
        "id": "-S5o-U5Q3d5u"
      },
      "execution_count": null,
      "outputs": []
    },
    {
      "cell_type": "code",
      "source": [
        "# merged_dataset = merged_dataset.sel(time = \"2022-01-01\")\n",
        "# merged_dataset.rio.to_raster('/content/drive/MyDrive/w/crop_4326_1.tif')"
      ],
      "metadata": {
        "id": "-IPXcf--pvh2"
      },
      "execution_count": null,
      "outputs": []
    },
    {
      "cell_type": "markdown",
      "source": [
        "# get kc file"
      ],
      "metadata": {
        "id": "UTJsWjxxxJTs"
      }
    },
    {
      "cell_type": "code",
      "source": [
        "\n",
        "df_1 = pd.read_excel(\"/content/drive/MyDrive/w/cdl_table.xlsx\", sheet_name=\"Sheet2\")\n",
        "df_1\n"
      ],
      "metadata": {
        "id": "TeYx7SA3eOXV"
      },
      "execution_count": null,
      "outputs": []
    },
    {
      "cell_type": "markdown",
      "source": [
        "# map dataframe on landse data"
      ],
      "metadata": {
        "id": "875_K-3SxQm1"
      }
    },
    {
      "cell_type": "code",
      "source": [
        "column_titles = df_1.columns.tolist()\n",
        "omitted_list = column_titles[1:]\n",
        "\n",
        "df = merged_dataset.to_dataframe()\n",
        "\n",
        "for col in omitted_list:\n",
        "\n",
        "    land_use_dict = dict(zip(df_1['Value'], df_1[col]))\n",
        "\n",
        "    df[col] = df['cropland'].map(land_use_dict)\n",
        "\n",
        "\n",
        "\n",
        "df['Plant Date'] = df['Plant Date'].str[:3]\n",
        "\n",
        "\n",
        "# Convert to numeric month\n",
        "df['Plant Date'] = df['Plant Date'].apply(lambda x: datetime.strptime(x, \"%b\").month\n",
        "                                if isinstance(x, str) else x)\n",
        "\n",
        "\n",
        "# lll = df['Plant Date'].to_list()\n",
        "\n",
        "# unique_list = pd.Series(lll).unique()\n",
        "# type(unique_list[1])\n",
        "\n",
        "crop_name_da = df.to_xarray()\n",
        "crop_name_da = crop_name_da.transpose('time', 'y', 'x')\n",
        "crop_name_da\n",
        "\n"
      ],
      "metadata": {
        "id": "ZqwdcsmwlyA_"
      },
      "execution_count": null,
      "outputs": []
    },
    {
      "cell_type": "code",
      "source": [
        "crop_name_da.cropland.data = np.where(crop_name_da.cropland.data ==-np.inf, np.nan, crop_name_da.cropland.data)\n",
        "crop_name_da.cultivated.data = np.where(crop_name_da.cultivated.data ==-np.inf, np.nan, crop_name_da.cultivated.data)"
      ],
      "metadata": {
        "id": "bBQw_DNo6Wfw"
      },
      "execution_count": null,
      "outputs": []
    },
    {
      "cell_type": "code",
      "source": [
        "np.unique(crop_name_da.cultivated)"
      ],
      "metadata": {
        "id": "RnltVXiB7Xyh"
      },
      "execution_count": null,
      "outputs": []
    },
    {
      "cell_type": "code",
      "source": [
        "np.unique(crop_name_da[\"cropland\"].sel(time = \"2022-01-01\"))"
      ],
      "metadata": {
        "id": "Xk4-6V-X6wfa"
      },
      "execution_count": null,
      "outputs": []
    },
    {
      "cell_type": "code",
      "source": [
        "shp_dir = r\"/content/drive/MyDrive/w/cal/subregions_C2VSim_California.shp\"\n",
        "shapefile_basins = gpd.read_file(shp_dir)"
      ],
      "metadata": {
        "id": "tcnVShyV8JR_"
      },
      "execution_count": null,
      "outputs": []
    },
    {
      "cell_type": "code",
      "source": [
        "def mask_xarray(\n",
        "   array,\n",
        "   shapefile_basins\n",
        "):\n",
        "\n",
        "   shapefile_basins = shapefile_basins.to_crs(\"epsg:4326\")\n",
        "   shapefile_basins.crs = {'init': 'epsg:4326'}\n",
        "   array.rio.write_crs(\"epsg:4326\", inplace=True)\n",
        "   clipped = array.rio.clip(shapefile_basins.geometry.apply(mapping), shapefile_basins.crs)\n",
        "   # clipped.data = np.where(clipped.data == -9.99900e+03, np.nan, clipped.data)\n",
        "\n",
        "   return clipped"
      ],
      "metadata": {
        "id": "evXQ2yAw9Y7z"
      },
      "execution_count": null,
      "outputs": []
    },
    {
      "cell_type": "code",
      "source": [
        "land_use = mask_xarray(array = crop_name_da, shapefile_basins = shapefile_basins)\n",
        "np.unique(land_use.cultivated)"
      ],
      "metadata": {
        "id": "_Pszl9rA9m5C"
      },
      "execution_count": null,
      "outputs": []
    },
    {
      "cell_type": "markdown",
      "source": [
        "# save xarray as a pikle file"
      ],
      "metadata": {
        "id": "JFI4qAlsyK15"
      }
    },
    {
      "cell_type": "code",
      "source": [
        "with open(\"/content/drive/MyDrive/w/land_use_4326_for_cal.pkl\", 'wb') as f:  # open a text file\n",
        "    pickle.dump(land_use, f) # serialize the list\n"
      ],
      "metadata": {
        "id": "q3SH3Mf15AGv"
      },
      "execution_count": null,
      "outputs": []
    }
  ]
}