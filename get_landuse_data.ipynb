{
  "nbformat": 4,
  "nbformat_minor": 0,
  "metadata": {
    "colab": {
      "private_outputs": true,
      "provenance": []
    },
    "kernelspec": {
      "name": "python3",
      "display_name": "Python 3"
    },
    "language_info": {
      "name": "python"
    }
  },
  "cells": [
    {
      "cell_type": "code",
      "execution_count": null,
      "metadata": {
        "id": "c0N48-EepeTI"
      },
      "outputs": [],
      "source": [
        "import os, sys\n",
        "from google.colab import drive\n",
        "drive.mount('/content/drive')"
      ]
    },
    {
      "cell_type": "code",
      "source": [
        "! pip install wxee rasterio"
      ],
      "metadata": {
        "id": "sUfqwc7DqC0b"
      },
      "execution_count": null,
      "outputs": []
    },
    {
      "cell_type": "code",
      "source": [
        "import xarray as xr\n",
        "import ee\n",
        "import itertools\n",
        "import pickle\n",
        "import pandas as pd\n",
        "import wxee\n",
        "import rasterio"
      ],
      "metadata": {
        "id": "AFyUHDnsp29i"
      },
      "execution_count": null,
      "outputs": []
    },
    {
      "cell_type": "code",
      "source": [
        "LAT_MIN = 25\n",
        "LAT_MAX = 45\n",
        "LON_MIN = -125\n",
        "LON_MAX = -65"
      ],
      "metadata": {
        "id": "5RDm7aD-qKUG"
      },
      "execution_count": null,
      "outputs": []
    },
    {
      "cell_type": "code",
      "source": [
        "soil_wc = xr.open_dataset('/content/drive/MyDrive/w/soil_water_content_1979001.nc')\n",
        "soil_wc"
      ],
      "metadata": {
        "id": "-mp1C1GxqN1-"
      },
      "execution_count": null,
      "outputs": []
    },
    {
      "cell_type": "code",
      "source": [
        "service_account = 'test-175@ee-mohammadnejadmehdi77.iam.gserviceaccount.com'\n",
        "\n",
        "credentials = ee.ServiceAccountCredentials(\n",
        "    email=service_account,\n",
        "    key_file=\"/content/drive/MyDrive/w/private-key.json\"\n",
        ")\n",
        "\n",
        "ee.Initialize(credentials)"
      ],
      "metadata": {
        "id": "2hy81dunqQNf"
      },
      "execution_count": null,
      "outputs": []
    },
    {
      "cell_type": "code",
      "source": [
        "shape = ee.Geometry.Rectangle([LON_MAX,LAT_MIN,LON_MIN,LAT_MAX])\n",
        "\n",
        "CDL = ee.ImageCollection(\"USDA/NASS/CDL\")\n",
        "\n",
        "# Crop Mask selection\n",
        "\n",
        "cropland = CDL.filterDate('2022-01-01','2022-12-31').select('cropland').filterBounds(shape)\n",
        "\n",
        "# cropland = cropland.set(\"system:time_start\", ee.Date(\"2022\"))\n",
        "arr_cropland = cropland.wx.to_xarray(scale=10000, crs='EPSG:4326')\n",
        "\n",
        "xds_repr_match_land_use = arr_cropland.rio.reproject_match(soil_wc, resampling = rasterio.enums.Resampling.mode)\n",
        "xds_repr_match_land_use"
      ],
      "metadata": {
        "id": "0rlRjO9yp2An"
      },
      "execution_count": null,
      "outputs": []
    },
    {
      "cell_type": "code",
      "source": [
        "xds_repr_match_land_use.cropland[0,150:158,200:210]"
      ],
      "metadata": {
        "id": "-S5o-U5Q3d5u"
      },
      "execution_count": null,
      "outputs": []
    },
    {
      "cell_type": "code",
      "source": [
        "df = pd.read_excel(\"/content/drive/MyDrive/w/cdl_table.xlsx\", sheet_name='Sheet2')\n",
        "df"
      ],
      "metadata": {
        "id": "q3SH3Mf15AGv"
      },
      "execution_count": null,
      "outputs": []
    }
  ]
}