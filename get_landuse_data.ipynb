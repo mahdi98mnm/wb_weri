{
  "nbformat": 4,
  "nbformat_minor": 0,
  "metadata": {
    "colab": {
      "private_outputs": true,
      "provenance": []
    },
    "kernelspec": {
      "name": "python3",
      "display_name": "Python 3"
    },
    "language_info": {
      "name": "python"
    }
  },
  "cells": [
    {
      "cell_type": "markdown",
      "source": [
        "# import library"
      ],
      "metadata": {
        "id": "YVBOteF_wmnz"
      }
    },
    {
      "cell_type": "code",
      "execution_count": null,
      "metadata": {
        "id": "c0N48-EepeTI"
      },
      "outputs": [],
      "source": [
        "import os, sys\n",
        "from google.colab import drive\n",
        "drive.mount('/content/drive')"
      ]
    },
    {
      "cell_type": "code",
      "source": [
        "! pip install wxee rasterio"
      ],
      "metadata": {
        "id": "sUfqwc7DqC0b"
      },
      "execution_count": null,
      "outputs": []
    },
    {
      "cell_type": "code",
      "source": [
        "import xarray as xr\n",
        "import ee\n",
        "import itertools\n",
        "import pickle\n",
        "import pandas as pd\n",
        "import wxee\n",
        "import rasterio\n",
        "import numpy as np\n",
        "from datetime import datetime"
      ],
      "metadata": {
        "id": "AFyUHDnsp29i"
      },
      "execution_count": null,
      "outputs": []
    },
    {
      "cell_type": "markdown",
      "source": [
        "# import constant"
      ],
      "metadata": {
        "id": "v7MhmGhqwrli"
      }
    },
    {
      "cell_type": "code",
      "source": [
        "LAT_MIN = 25\n",
        "LAT_MAX = 45\n",
        "LON_MIN = -125\n",
        "LON_MAX = -65"
      ],
      "metadata": {
        "id": "5RDm7aD-qKUG"
      },
      "execution_count": null,
      "outputs": []
    },
    {
      "cell_type": "markdown",
      "source": [
        "# import xarray sample"
      ],
      "metadata": {
        "id": "TurrJuEUwxMT"
      }
    },
    {
      "cell_type": "code",
      "source": [
        "soil_wc = xr.open_dataset('/content/drive/MyDrive/w/soil_water_content_1979001.nc')\n",
        "soil_wc"
      ],
      "metadata": {
        "id": "-mp1C1GxqN1-"
      },
      "execution_count": null,
      "outputs": []
    },
    {
      "cell_type": "markdown",
      "source": [
        "# GEE"
      ],
      "metadata": {
        "id": "MUGpthi2w4Km"
      }
    },
    {
      "cell_type": "code",
      "source": [
        "service_account = 'test-175@ee-mohammadnejadmehdi77.iam.gserviceaccount.com'\n",
        "\n",
        "credentials = ee.ServiceAccountCredentials(\n",
        "    email=service_account,\n",
        "    key_file=\"/content/drive/MyDrive/w/private-key.json\"\n",
        ")\n",
        "\n",
        "ee.Initialize(credentials)"
      ],
      "metadata": {
        "id": "2hy81dunqQNf"
      },
      "execution_count": null,
      "outputs": []
    },
    {
      "cell_type": "markdown",
      "source": [
        "# get landuse data as xarray"
      ],
      "metadata": {
        "id": "mOPUjj49w_jv"
      }
    },
    {
      "cell_type": "code",
      "source": [
        "shape = ee.Geometry.Rectangle([LON_MAX,LAT_MIN,LON_MIN,LAT_MAX])\n",
        "\n",
        "CDL = ee.ImageCollection(\"USDA/NASS/CDL\")\n",
        "\n",
        "# Crop Mask selection\n",
        "\n",
        "cropland = CDL.filterDate('2022-01-01','2022-12-31').select('cropland').filterBounds(shape)\n",
        "\n",
        "cultivated = CDL.filterDate('2022-01-01','2022-12-31').select('cultivated').filterBounds(shape)\n",
        "\n",
        "# cropland = cropland.set(\"system:time_start\", ee.Date(\"2022\"))\n",
        "arr_cropland = cropland.wx.to_xarray(scale=10000, crs='EPSG:4326')\n",
        "arr_cultivated = cultivated.wx.to_xarray(scale=10000, crs='EPSG:4326')\n",
        "\n",
        "xds_repr_match_cropland = arr_cropland.rio.reproject_match(soil_wc, resampling = rasterio.enums.Resampling.mode)\n",
        "xds_repr_match_cultivated = arr_cultivated.rio.reproject_match(soil_wc, resampling = rasterio.enums.Resampling.mode)\n"
      ],
      "metadata": {
        "id": "0rlRjO9yp2An"
      },
      "execution_count": null,
      "outputs": []
    },
    {
      "cell_type": "markdown",
      "source": [
        "# merge two dataset"
      ],
      "metadata": {
        "id": "s83c6CIvxFhP"
      }
    },
    {
      "cell_type": "code",
      "source": [
        "merged_dataset = xr.merge([xds_repr_match_cropland, xds_repr_match_cultivated])\n",
        "merged_dataset"
      ],
      "metadata": {
        "id": "-S5o-U5Q3d5u"
      },
      "execution_count": null,
      "outputs": []
    },
    {
      "cell_type": "markdown",
      "source": [
        "# get kc file"
      ],
      "metadata": {
        "id": "UTJsWjxxxJTs"
      }
    },
    {
      "cell_type": "code",
      "source": [
        "# df = merged_dataset.to_dataframe()\n",
        "df_1 = pd.read_excel(\"/content/drive/MyDrive/w/cdl_table.xlsx\", sheet_name=\"Sheet2\")\n",
        "df_1\n",
        "# df.to_csv(\"/content/drive/MyDrive/w/landuse.csv\", index=True)"
      ],
      "metadata": {
        "id": "TeYx7SA3eOXV"
      },
      "execution_count": null,
      "outputs": []
    },
    {
      "cell_type": "markdown",
      "source": [
        "# map dataframe on landse data"
      ],
      "metadata": {
        "id": "875_K-3SxQm1"
      }
    },
    {
      "cell_type": "code",
      "source": [
        "column_titles = df_1.columns.tolist()\n",
        "omitted_list = column_titles[1:]\n",
        "\n",
        "df = merged_dataset.to_dataframe()\n",
        "\n",
        "for col in omitted_list:\n",
        "\n",
        "    land_use_dict = dict(zip(df_1['Value'], df_1[col]))\n",
        "\n",
        "    df[col] = df['cropland'].map(land_use_dict)\n",
        "\n",
        "\n",
        "\n",
        "df['Plant Date'] = df['Plant Date'].str[:3]\n",
        "\n",
        "\n",
        "# Convert to numeric month\n",
        "df['Plant Date'] = df['Plant Date'].apply(lambda x: datetime.strptime(x, \"%b\").month\n",
        "                                if isinstance(x, str) else x)\n",
        "\n",
        "\n",
        "# lll = df['Plant Date'].to_list()\n",
        "\n",
        "# unique_list = pd.Series(lll).unique()\n",
        "# type(unique_list[1])\n",
        "\n",
        "crop_name_da = df.to_xarray()\n",
        "crop_name_da = crop_name_da.transpose('time', 'y', 'x')\n",
        "crop_name_da\n",
        "\n"
      ],
      "metadata": {
        "id": "ZqwdcsmwlyA_"
      },
      "execution_count": null,
      "outputs": []
    },
    {
      "cell_type": "markdown",
      "source": [
        "# save xarray as a pikle file"
      ],
      "metadata": {
        "id": "JFI4qAlsyK15"
      }
    },
    {
      "cell_type": "code",
      "source": [
        "with open(\"/content/drive/MyDrive/w/land_use.pkl\", 'wb') as f:  # open a text file\n",
        "    pickle.dump(crop_name_da, f) # serialize the list\n"
      ],
      "metadata": {
        "id": "q3SH3Mf15AGv"
      },
      "execution_count": null,
      "outputs": []
    }
  ]
}