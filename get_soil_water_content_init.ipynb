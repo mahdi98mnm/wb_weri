{
 "cells": [
  {
   "cell_type": "code",
   "execution_count": null,
   "metadata": {},
   "outputs": [],
   "source": [
    "import ee"
   ]
  },
  {
   "cell_type": "code",
   "execution_count": null,
   "metadata": {},
   "outputs": [],
   "source": [
    "service_account = 'test-175@ee-mohammadnejadmehdi77.iam.gserviceaccount.com'\n",
    "\n",
    "credentials = ee.ServiceAccountCredentials(\n",
    "    email=service_account,\n",
    "    key_file='/content/drive/MyDrive/w/private-key.json'\n",
    ")\n",
    "\n",
    "ee.Initialize(credentials)"
   ]
  },
  {
   "cell_type": "code",
   "execution_count": null,
   "metadata": {},
   "outputs": [],
   "source": [
    "LAT_MIN = 25\n",
    "LAT_MAX = 45\n",
    "LON_MIN = -125\n",
    "LON_MAX = -65"
   ]
  },
  {
   "cell_type": "code",
   "execution_count": null,
   "metadata": {},
   "outputs": [],
   "source": [
    "datasets_P = mask_nc_file(\n",
    "    nc = \"/content/drive/MyDrive/w/Past/P/Daily/1979001.nc\",\n",
    "    variable = \"precipitation\",\n",
    "    lat_min = LAT_MIN,\n",
    "    lat_max = LAT_MAX,\n",
    "    lon_min = LON_MIN,\n",
    "    lon_max = LON_MAX\n",
    ")\n",
    "datasets_P"
   ]
  },
  {
   "cell_type": "code",
   "execution_count": null,
   "metadata": {},
   "outputs": [],
   "source": [
    "crs = 4326\n",
    "shape = ee.Geometry.Rectangle([LON_MAX,LAT_MIN,LON_MIN,LAT_MAX])\n",
    "\n",
    "\n",
    "\n",
    "\n",
    "soil_era_evaporation = ee.ImageCollection(\"ECMWF/ERA5_LAND/DAILY_AGGR\").filter(ee.Filter.date('1978-12-31', '1979-01-01')).select('volumetric_soil_water_layer_1')\n",
    "\n",
    "soil_era_transpiration = ee.ImageCollection(\"ECMWF/ERA5_LAND/DAILY_AGGR\").filter(ee.Filter.date('1978-12-31', '1979-01-01')).select('volumetric_soil_water_layer_3')\n",
    "\n",
    "soil_era_transition = ee.ImageCollection(\"ECMWF/ERA5_LAND/DAILY_AGGR\").filter(ee.Filter.date('1978-12-31', '1979-01-01')).select('volumetric_soil_water_layer_4')\n",
    "\n",
    "\n",
    "soil_era_evaporation = soil_era_evaporation.map(lambda image: image.clip(shape))\n",
    "soil_era_transpiration = soil_era_transpiration.map(lambda image: image.clip(shape))\n",
    "soil_era_transition = soil_era_transition.map(lambda image: image.clip(shape))\n",
    "\n",
    "soil_era_evaporation = soil_era_evaporation.set(\"system:time_start\", ee.Date(\"1979-01-01\"))\n",
    "soil_era_transpiration = soil_era_transpiration.set(\"system:time_start\", ee.Date(\"1979-01-01\"))\n",
    "soil_era_transition = soil_era_transition.set(\"system:time_start\", ee.Date(\"1979-01-01\"))\n",
    "\n",
    "\n",
    "arr_soil_era_evaporation = soil_era_evaporation.wx.to_xarray(scale=11132, crs=f'EPSG:{crs}')\n",
    "arr_soil_era_transpiration = soil_era_transpiration.wx.to_xarray(scale=11132, crs=f'EPSG:{crs}')\n",
    "arr_soil_era_transition = soil_era_transition.wx.to_xarray(scale=11132, crs=f'EPSG:{crs}')\n",
    "\n",
    "da_soil_era_evaporation = arr_soil_era_evaporation.rio.write_crs(f\"epsg:{crs}\", inplace=True)\n",
    "da_soil_era_transpiration = arr_soil_era_transpiration.rio.write_crs(f\"epsg:{crs}\", inplace=True)\n",
    "da_soil_era_transition = arr_soil_era_transition.rio.write_crs(f\"epsg:{crs}\", inplace=True)\n",
    "\n",
    "\n",
    "\n",
    "datasets_P = datasets_P.rename({'lon': 'x','lat': 'y'})\n",
    "datasets_P1 = datasets_P.rio.write_crs(f\"epsg:{crs}\", inplace=True)\n",
    "\n",
    "\n",
    "xds_repr_match__soil_era_evaporation = da_soil_era_evaporation.rio.reproject_match(datasets_P1, resampling = rasterio.enums.Resampling.nearest)\n",
    "xds_repr_match__soil_era_transpiration = da_soil_era_transpiration.rio.reproject_match(datasets_P1, resampling = rasterio.enums.Resampling.nearest)\n",
    "xds_repr_match__soil_era_transition = da_soil_era_transition.rio.reproject_match(datasets_P1, resampling = rasterio.enums.Resampling.nearest)\n",
    "\n",
    "\n",
    "xds_repr_match__soil_era_evaporation = xds_repr_match__soil_era_evaporation * (70-0)\n",
    "xds_repr_match__soil_era_transpiration = xds_repr_match__soil_era_transpiration * (1000 - 280)\n",
    "xds_repr_match__soil_era_transition = xds_repr_match__soil_era_transition * (2890-1000)\n",
    "\n",
    "xds_repr_match__soil_era_evaporation"
   ]
  },
  {
   "cell_type": "code",
   "execution_count": null,
   "metadata": {},
   "outputs": [],
   "source": [
    "# Convert time coordinate to NumPy datetime64 type\n",
    "time_values_evap = np.asarray(xds_repr_match__soil_era_evaporation['time'].values, dtype='datetime64[D]')\n",
    "time_values_transp = np.asarray(xds_repr_match__soil_era_transpiration['time'].values, dtype='datetime64[D]')\n",
    "time_values_trans = np.asarray(xds_repr_match__soil_era_transition['time'].values, dtype='datetime64[D]')\n",
    "\n",
    "# Subtract one day from each time value\n",
    "updated_time_values_evap = time_values_evap + np.timedelta64(1, 'D')\n",
    "updated_time_values_transp = time_values_transp + np.timedelta64(1, 'D')\n",
    "updated_time_values_trans = time_values_trans + np.timedelta64(1, 'D')\n",
    "\n",
    "# Update the time coordinate with the modified values\n",
    "xds_repr_match__soil_era_evaporation['time'] = updated_time_values_evap\n",
    "xds_repr_match__soil_era_transpiration['time'] = updated_time_values_transp\n",
    "xds_repr_match__soil_era_transition['time'] = updated_time_values_trans"
   ]
  },
  {
   "cell_type": "code",
   "execution_count": null,
   "metadata": {},
   "outputs": [],
   "source": [
    "merged_dataset = xr.merge([xds_repr_match__soil_era_evaporation, xds_repr_match__soil_era_transpiration, xds_repr_match__soil_era_transition])\n",
    "\n",
    "merged_dataset.to_netcdf(\"/content/drive/MyDrive/w/soil_water_content_1979001.nc\")"
   ]
  }
 ],
 "metadata": {
  "language_info": {
   "name": "python"
  },
  "orig_nbformat": 4
 },
 "nbformat": 4,
 "nbformat_minor": 2
}
