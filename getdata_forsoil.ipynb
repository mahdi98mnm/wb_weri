{
 "cells": [
  {
   "cell_type": "code",
   "execution_count": null,
   "metadata": {},
   "outputs": [],
   "source": [
    "LAT_MIN = 25\n",
    "LAT_MAX = 45\n",
    "LON_MIN = -125\n",
    "LON_MAX = -65"
   ]
  },
  {
   "cell_type": "code",
   "execution_count": null,
   "metadata": {},
   "outputs": [],
   "source": [
    "soil_wc = xr.open_dataset('/content/drive/MyDrive/w/soil_water_content_1979001.nc')"
   ]
  },
  {
   "cell_type": "code",
   "execution_count": null,
   "metadata": {},
   "outputs": [],
   "source": [
    "service_account = 'test-175@ee-mohammadnejadmehdi77.iam.gserviceaccount.com'\n",
    "\n",
    "credentials = ee.ServiceAccountCredentials(\n",
    "    email=service_account, \n",
    "    key_file=\"D:\\\\mehdi\\\\WaterBalance_new\\\\notebook\\\\private-key.json\"\n",
    ")\n",
    "\n",
    "ee.Initialize(credentials)"
   ]
  },
  {
   "cell_type": "code",
   "execution_count": null,
   "metadata": {},
   "outputs": [],
   "source": [
    "# Soil depths [in cm] where we have data.\n",
    "olm_depths = [0, 10, 30, 60, 100, 200]\n",
    "\n",
    "# Names of bands associated with reference depths.\n",
    "olm_bands = [\"b\" + str(sd) for sd in olm_depths]\n",
    "\n",
    "def get_soil_prop(param):\n",
    "    \"\"\"\n",
    "    This function returns soil properties image\n",
    "    param (str): must be one of:\n",
    "        \"sand\"     - Sand fraction\n",
    "        \"clay\"     - Clay fraction\n",
    "        \"orgc\"     - Organic Carbon fraction\n",
    "    \"\"\"\n",
    "    if param == \"sand\":  # Sand fraction [%w]\n",
    "        snippet = \"OpenLandMap/SOL/SOL_SAND-WFRACTION_USDA-3A1A1A_M/v02\"\n",
    "        # Define the scale factor in accordance with the dataset description.\n",
    "        scale_factor = 1 * 0.01\n",
    "\n",
    "    elif param == \"clay\":  # Clay fraction [%w]\n",
    "        snippet = \"OpenLandMap/SOL/SOL_CLAY-WFRACTION_USDA-3A1A1A_M/v02\"\n",
    "        # Define the scale factor in accordance with the dataset description.\n",
    "        scale_factor = 1 * 0.01\n",
    "\n",
    "    elif param == \"orgc\":  # Organic Carbon fraction [g/kg]\n",
    "        snippet = \"OpenLandMap/SOL/SOL_ORGANIC-CARBON_USDA-6A1C_M/v02\"\n",
    "        # Define the scale factor in accordance with the dataset description.\n",
    "        scale_factor = 5 * 0.001  # to get kg/kg\n",
    "    else:\n",
    "        return print(\"error\")\n",
    "\n",
    "    # Apply the scale factor to the ee.Image.\n",
    "    dataset = ee.Image(snippet).multiply(scale_factor)\n",
    "\n",
    "    return dataset\n",
    "\n",
    "\n",
    "# Image associated with the sand content.\n",
    "sand = get_soil_prop(\"sand\")\n",
    "\n",
    "# Image associated with the clay content.\n",
    "clay = get_soil_prop(\"clay\")\n",
    "\n",
    "# Image associated with the organic carbon content.\n",
    "orgc = get_soil_prop(\"orgc\")"
   ]
  },
  {
   "cell_type": "code",
   "execution_count": null,
   "metadata": {},
   "outputs": [],
   "source": [
    "lat_of_points = list(soil_wc.y.values.flatten())\n",
    "lon_of_points = list(soil_wc.x.values.flatten())\n",
    "\n",
    "grid = [(float(i), float(j)) for i, j in itertools.product(lon_of_points, lat_of_points)]\n",
    "x_values = [t[0] for t in grid]\n",
    "y_values = [t[1] for t in grid]"
   ]
  },
  {
   "cell_type": "code",
   "execution_count": null,
   "metadata": {},
   "outputs": [],
   "source": [
    "# scale of original data such as tmin and precipitation - gloH2o\n",
    "scale = 12128.507\n",
    "\n",
    "def local_profile(dataset, points, buffer):\n",
    "  \"\"\"Gets the properties of a list of points.\n",
    "\n",
    "  Args:\n",
    "    dataset: The Earth Engine dataset to query.\n",
    "    points: A list of points.\n",
    "    buffer: The buffer size to use when sampling the dataset.\n",
    "\n",
    "  Returns:\n",
    "    A list of dictionaries, where each dictionary contains the properties of a point.\n",
    "  \"\"\"\n",
    "\n",
    "  profiles = []\n",
    "  for point in points:\n",
    "    poi = ee.Geometry.Point(point[0], point[1])\n",
    "    prop = dataset.sample(poi, buffer).select(olm_bands).getInfo()\n",
    "    profile = prop[\"features\"][0][\"properties\"]\n",
    "    profile = {key: round(val, 3) for key, val in profile.items()}\n",
    "    profiles.append(profile)\n",
    "\n",
    "  return profiles\n",
    "\n",
    "orgm = orgc.multiply(1.724)\n",
    "point = list(zip(x_values, y_values))\n",
    "\n",
    "list_org = local_profile(\n",
    "    dataset = orgm,\n",
    "    points = point,\n",
    "    buffer = scale\n",
    ")\n",
    "list_sand = local_profile(\n",
    "    dataset = sand,\n",
    "    points = point,\n",
    "    buffer = scale\n",
    ")\n",
    "list_clay = local_profile(\n",
    "    dataset = clay,\n",
    "    points = point,\n",
    "    buffer = scale\n",
    ")"
   ]
  }
 ],
 "metadata": {
  "kernelspec": {
   "display_name": "base",
   "language": "python",
   "name": "python3"
  },
  "language_info": {
   "codemirror_mode": {
    "name": "ipython",
    "version": 3
   },
   "file_extension": ".py",
   "mimetype": "text/x-python",
   "name": "python",
   "nbconvert_exporter": "python",
   "pygments_lexer": "ipython3",
   "version": "3.10.11"
  },
  "orig_nbformat": 4
 },
 "nbformat": 4,
 "nbformat_minor": 2
}
